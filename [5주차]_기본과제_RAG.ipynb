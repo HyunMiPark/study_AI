{
  "nbformat": 4,
  "nbformat_minor": 0,
  "metadata": {
    "colab": {
      "provenance": [],
      "include_colab_link": true
    },
    "kernelspec": {
      "name": "python3",
      "display_name": "Python 3"
    },
    "language_info": {
      "name": "python"
    }
  },
  "cells": [
    {
      "cell_type": "markdown",
      "metadata": {
        "id": "view-in-github",
        "colab_type": "text"
      },
      "source": [
        "<a href=\"https://colab.research.google.com/github/HyunMiPark/study_AI/blob/main/%5B5%EC%A3%BC%EC%B0%A8%5D_%EA%B8%B0%EB%B3%B8%EA%B3%BC%EC%A0%9C_RAG.ipynb\" target=\"_parent\"><img src=\"https://colab.research.google.com/assets/colab-badge.svg\" alt=\"Open In Colab\"/></a>"
      ]
    },
    {
      "cell_type": "code",
      "execution_count": 1,
      "metadata": {
        "colab": {
          "base_uri": "https://localhost:8080/"
        },
        "id": "TwaANvAGIwl4",
        "outputId": "f0e1a055-2828-42f5-d727-8e5fc5f15769"
      },
      "outputs": [
        {
          "output_type": "stream",
          "name": "stdout",
          "text": [
            "Requirement already satisfied: langchain-community in /usr/local/lib/python3.11/dist-packages (0.3.23)\n",
            "Requirement already satisfied: langchain-chroma in /usr/local/lib/python3.11/dist-packages (0.2.3)\n",
            "Requirement already satisfied: langchain-openai in /usr/local/lib/python3.11/dist-packages (0.3.14)\n",
            "Requirement already satisfied: bs4 in /usr/local/lib/python3.11/dist-packages (0.0.2)\n",
            "Requirement already satisfied: langchain-core<1.0.0,>=0.3.56 in /usr/local/lib/python3.11/dist-packages (from langchain-community) (0.3.56)\n",
            "Requirement already satisfied: langchain<1.0.0,>=0.3.24 in /usr/local/lib/python3.11/dist-packages (from langchain-community) (0.3.24)\n",
            "Requirement already satisfied: SQLAlchemy<3,>=1.4 in /usr/local/lib/python3.11/dist-packages (from langchain-community) (2.0.40)\n",
            "Requirement already satisfied: requests<3,>=2 in /usr/local/lib/python3.11/dist-packages (from langchain-community) (2.32.3)\n",
            "Requirement already satisfied: PyYAML>=5.3 in /usr/local/lib/python3.11/dist-packages (from langchain-community) (6.0.2)\n",
            "Requirement already satisfied: aiohttp<4.0.0,>=3.8.3 in /usr/local/lib/python3.11/dist-packages (from langchain-community) (3.11.15)\n",
            "Requirement already satisfied: tenacity!=8.4.0,<10,>=8.1.0 in /usr/local/lib/python3.11/dist-packages (from langchain-community) (9.1.2)\n",
            "Requirement already satisfied: dataclasses-json<0.7,>=0.5.7 in /usr/local/lib/python3.11/dist-packages (from langchain-community) (0.6.7)\n",
            "Requirement already satisfied: pydantic-settings<3.0.0,>=2.4.0 in /usr/local/lib/python3.11/dist-packages (from langchain-community) (2.9.1)\n",
            "Requirement already satisfied: langsmith<0.4,>=0.1.125 in /usr/local/lib/python3.11/dist-packages (from langchain-community) (0.3.34)\n",
            "Requirement already satisfied: httpx-sse<1.0.0,>=0.4.0 in /usr/local/lib/python3.11/dist-packages (from langchain-community) (0.4.0)\n",
            "Requirement already satisfied: numpy>=1.26.2 in /usr/local/lib/python3.11/dist-packages (from langchain-community) (2.0.2)\n",
            "Requirement already satisfied: chromadb!=0.5.10,!=0.5.11,!=0.5.12,!=0.5.4,!=0.5.5,!=0.5.7,!=0.5.9,<0.7.0,>=0.4.0 in /usr/local/lib/python3.11/dist-packages (from langchain-chroma) (0.6.3)\n",
            "Requirement already satisfied: openai<2.0.0,>=1.68.2 in /usr/local/lib/python3.11/dist-packages (from langchain-openai) (1.76.2)\n",
            "Requirement already satisfied: tiktoken<1,>=0.7 in /usr/local/lib/python3.11/dist-packages (from langchain-openai) (0.9.0)\n",
            "Requirement already satisfied: beautifulsoup4 in /usr/local/lib/python3.11/dist-packages (from bs4) (4.13.4)\n",
            "Requirement already satisfied: aiohappyeyeballs>=2.3.0 in /usr/local/lib/python3.11/dist-packages (from aiohttp<4.0.0,>=3.8.3->langchain-community) (2.6.1)\n",
            "Requirement already satisfied: aiosignal>=1.1.2 in /usr/local/lib/python3.11/dist-packages (from aiohttp<4.0.0,>=3.8.3->langchain-community) (1.3.2)\n",
            "Requirement already satisfied: attrs>=17.3.0 in /usr/local/lib/python3.11/dist-packages (from aiohttp<4.0.0,>=3.8.3->langchain-community) (25.3.0)\n",
            "Requirement already satisfied: frozenlist>=1.1.1 in /usr/local/lib/python3.11/dist-packages (from aiohttp<4.0.0,>=3.8.3->langchain-community) (1.6.0)\n",
            "Requirement already satisfied: multidict<7.0,>=4.5 in /usr/local/lib/python3.11/dist-packages (from aiohttp<4.0.0,>=3.8.3->langchain-community) (6.4.3)\n",
            "Requirement already satisfied: propcache>=0.2.0 in /usr/local/lib/python3.11/dist-packages (from aiohttp<4.0.0,>=3.8.3->langchain-community) (0.3.1)\n",
            "Requirement already satisfied: yarl<2.0,>=1.17.0 in /usr/local/lib/python3.11/dist-packages (from aiohttp<4.0.0,>=3.8.3->langchain-community) (1.20.0)\n",
            "Requirement already satisfied: build>=1.0.3 in /usr/local/lib/python3.11/dist-packages (from chromadb!=0.5.10,!=0.5.11,!=0.5.12,!=0.5.4,!=0.5.5,!=0.5.7,!=0.5.9,<0.7.0,>=0.4.0->langchain-chroma) (1.2.2.post1)\n",
            "Requirement already satisfied: pydantic>=1.9 in /usr/local/lib/python3.11/dist-packages (from chromadb!=0.5.10,!=0.5.11,!=0.5.12,!=0.5.4,!=0.5.5,!=0.5.7,!=0.5.9,<0.7.0,>=0.4.0->langchain-chroma) (2.11.3)\n",
            "Requirement already satisfied: chroma-hnswlib==0.7.6 in /usr/local/lib/python3.11/dist-packages (from chromadb!=0.5.10,!=0.5.11,!=0.5.12,!=0.5.4,!=0.5.5,!=0.5.7,!=0.5.9,<0.7.0,>=0.4.0->langchain-chroma) (0.7.6)\n",
            "Requirement already satisfied: fastapi>=0.95.2 in /usr/local/lib/python3.11/dist-packages (from chromadb!=0.5.10,!=0.5.11,!=0.5.12,!=0.5.4,!=0.5.5,!=0.5.7,!=0.5.9,<0.7.0,>=0.4.0->langchain-chroma) (0.115.9)\n",
            "Requirement already satisfied: uvicorn>=0.18.3 in /usr/local/lib/python3.11/dist-packages (from uvicorn[standard]>=0.18.3->chromadb!=0.5.10,!=0.5.11,!=0.5.12,!=0.5.4,!=0.5.5,!=0.5.7,!=0.5.9,<0.7.0,>=0.4.0->langchain-chroma) (0.34.2)\n",
            "Requirement already satisfied: posthog>=2.4.0 in /usr/local/lib/python3.11/dist-packages (from chromadb!=0.5.10,!=0.5.11,!=0.5.12,!=0.5.4,!=0.5.5,!=0.5.7,!=0.5.9,<0.7.0,>=0.4.0->langchain-chroma) (4.0.1)\n",
            "Requirement already satisfied: typing_extensions>=4.5.0 in /usr/local/lib/python3.11/dist-packages (from chromadb!=0.5.10,!=0.5.11,!=0.5.12,!=0.5.4,!=0.5.5,!=0.5.7,!=0.5.9,<0.7.0,>=0.4.0->langchain-chroma) (4.13.2)\n",
            "Requirement already satisfied: onnxruntime>=1.14.1 in /usr/local/lib/python3.11/dist-packages (from chromadb!=0.5.10,!=0.5.11,!=0.5.12,!=0.5.4,!=0.5.5,!=0.5.7,!=0.5.9,<0.7.0,>=0.4.0->langchain-chroma) (1.21.1)\n",
            "Requirement already satisfied: opentelemetry-api>=1.2.0 in /usr/local/lib/python3.11/dist-packages (from chromadb!=0.5.10,!=0.5.11,!=0.5.12,!=0.5.4,!=0.5.5,!=0.5.7,!=0.5.9,<0.7.0,>=0.4.0->langchain-chroma) (1.32.1)\n",
            "Requirement already satisfied: opentelemetry-exporter-otlp-proto-grpc>=1.2.0 in /usr/local/lib/python3.11/dist-packages (from chromadb!=0.5.10,!=0.5.11,!=0.5.12,!=0.5.4,!=0.5.5,!=0.5.7,!=0.5.9,<0.7.0,>=0.4.0->langchain-chroma) (1.32.1)\n",
            "Requirement already satisfied: opentelemetry-instrumentation-fastapi>=0.41b0 in /usr/local/lib/python3.11/dist-packages (from chromadb!=0.5.10,!=0.5.11,!=0.5.12,!=0.5.4,!=0.5.5,!=0.5.7,!=0.5.9,<0.7.0,>=0.4.0->langchain-chroma) (0.53b1)\n",
            "Requirement already satisfied: opentelemetry-sdk>=1.2.0 in /usr/local/lib/python3.11/dist-packages (from chromadb!=0.5.10,!=0.5.11,!=0.5.12,!=0.5.4,!=0.5.5,!=0.5.7,!=0.5.9,<0.7.0,>=0.4.0->langchain-chroma) (1.32.1)\n",
            "Requirement already satisfied: tokenizers>=0.13.2 in /usr/local/lib/python3.11/dist-packages (from chromadb!=0.5.10,!=0.5.11,!=0.5.12,!=0.5.4,!=0.5.5,!=0.5.7,!=0.5.9,<0.7.0,>=0.4.0->langchain-chroma) (0.21.1)\n",
            "Requirement already satisfied: pypika>=0.48.9 in /usr/local/lib/python3.11/dist-packages (from chromadb!=0.5.10,!=0.5.11,!=0.5.12,!=0.5.4,!=0.5.5,!=0.5.7,!=0.5.9,<0.7.0,>=0.4.0->langchain-chroma) (0.48.9)\n",
            "Requirement already satisfied: tqdm>=4.65.0 in /usr/local/lib/python3.11/dist-packages (from chromadb!=0.5.10,!=0.5.11,!=0.5.12,!=0.5.4,!=0.5.5,!=0.5.7,!=0.5.9,<0.7.0,>=0.4.0->langchain-chroma) (4.67.1)\n",
            "Requirement already satisfied: overrides>=7.3.1 in /usr/local/lib/python3.11/dist-packages (from chromadb!=0.5.10,!=0.5.11,!=0.5.12,!=0.5.4,!=0.5.5,!=0.5.7,!=0.5.9,<0.7.0,>=0.4.0->langchain-chroma) (7.7.0)\n",
            "Requirement already satisfied: importlib-resources in /usr/local/lib/python3.11/dist-packages (from chromadb!=0.5.10,!=0.5.11,!=0.5.12,!=0.5.4,!=0.5.5,!=0.5.7,!=0.5.9,<0.7.0,>=0.4.0->langchain-chroma) (6.5.2)\n",
            "Requirement already satisfied: grpcio>=1.58.0 in /usr/local/lib/python3.11/dist-packages (from chromadb!=0.5.10,!=0.5.11,!=0.5.12,!=0.5.4,!=0.5.5,!=0.5.7,!=0.5.9,<0.7.0,>=0.4.0->langchain-chroma) (1.71.0)\n",
            "Requirement already satisfied: bcrypt>=4.0.1 in /usr/local/lib/python3.11/dist-packages (from chromadb!=0.5.10,!=0.5.11,!=0.5.12,!=0.5.4,!=0.5.5,!=0.5.7,!=0.5.9,<0.7.0,>=0.4.0->langchain-chroma) (4.3.0)\n",
            "Requirement already satisfied: typer>=0.9.0 in /usr/local/lib/python3.11/dist-packages (from chromadb!=0.5.10,!=0.5.11,!=0.5.12,!=0.5.4,!=0.5.5,!=0.5.7,!=0.5.9,<0.7.0,>=0.4.0->langchain-chroma) (0.15.2)\n",
            "Requirement already satisfied: kubernetes>=28.1.0 in /usr/local/lib/python3.11/dist-packages (from chromadb!=0.5.10,!=0.5.11,!=0.5.12,!=0.5.4,!=0.5.5,!=0.5.7,!=0.5.9,<0.7.0,>=0.4.0->langchain-chroma) (32.0.1)\n",
            "Requirement already satisfied: mmh3>=4.0.1 in /usr/local/lib/python3.11/dist-packages (from chromadb!=0.5.10,!=0.5.11,!=0.5.12,!=0.5.4,!=0.5.5,!=0.5.7,!=0.5.9,<0.7.0,>=0.4.0->langchain-chroma) (5.1.0)\n",
            "Requirement already satisfied: orjson>=3.9.12 in /usr/local/lib/python3.11/dist-packages (from chromadb!=0.5.10,!=0.5.11,!=0.5.12,!=0.5.4,!=0.5.5,!=0.5.7,!=0.5.9,<0.7.0,>=0.4.0->langchain-chroma) (3.10.16)\n",
            "Requirement already satisfied: httpx>=0.27.0 in /usr/local/lib/python3.11/dist-packages (from chromadb!=0.5.10,!=0.5.11,!=0.5.12,!=0.5.4,!=0.5.5,!=0.5.7,!=0.5.9,<0.7.0,>=0.4.0->langchain-chroma) (0.28.1)\n",
            "Requirement already satisfied: rich>=10.11.0 in /usr/local/lib/python3.11/dist-packages (from chromadb!=0.5.10,!=0.5.11,!=0.5.12,!=0.5.4,!=0.5.5,!=0.5.7,!=0.5.9,<0.7.0,>=0.4.0->langchain-chroma) (13.9.4)\n",
            "Requirement already satisfied: marshmallow<4.0.0,>=3.18.0 in /usr/local/lib/python3.11/dist-packages (from dataclasses-json<0.7,>=0.5.7->langchain-community) (3.26.1)\n",
            "Requirement already satisfied: typing-inspect<1,>=0.4.0 in /usr/local/lib/python3.11/dist-packages (from dataclasses-json<0.7,>=0.5.7->langchain-community) (0.9.0)\n",
            "Requirement already satisfied: langchain-text-splitters<1.0.0,>=0.3.8 in /usr/local/lib/python3.11/dist-packages (from langchain<1.0.0,>=0.3.24->langchain-community) (0.3.8)\n",
            "Requirement already satisfied: jsonpatch<2.0,>=1.33 in /usr/local/lib/python3.11/dist-packages (from langchain-core<1.0.0,>=0.3.56->langchain-community) (1.33)\n",
            "Requirement already satisfied: packaging<25,>=23.2 in /usr/local/lib/python3.11/dist-packages (from langchain-core<1.0.0,>=0.3.56->langchain-community) (24.2)\n",
            "Requirement already satisfied: requests-toolbelt<2.0.0,>=1.0.0 in /usr/local/lib/python3.11/dist-packages (from langsmith<0.4,>=0.1.125->langchain-community) (1.0.0)\n",
            "Requirement already satisfied: zstandard<0.24.0,>=0.23.0 in /usr/local/lib/python3.11/dist-packages (from langsmith<0.4,>=0.1.125->langchain-community) (0.23.0)\n",
            "Requirement already satisfied: anyio<5,>=3.5.0 in /usr/local/lib/python3.11/dist-packages (from openai<2.0.0,>=1.68.2->langchain-openai) (4.9.0)\n",
            "Requirement already satisfied: distro<2,>=1.7.0 in /usr/local/lib/python3.11/dist-packages (from openai<2.0.0,>=1.68.2->langchain-openai) (1.9.0)\n",
            "Requirement already satisfied: jiter<1,>=0.4.0 in /usr/local/lib/python3.11/dist-packages (from openai<2.0.0,>=1.68.2->langchain-openai) (0.9.0)\n",
            "Requirement already satisfied: sniffio in /usr/local/lib/python3.11/dist-packages (from openai<2.0.0,>=1.68.2->langchain-openai) (1.3.1)\n",
            "Requirement already satisfied: python-dotenv>=0.21.0 in /usr/local/lib/python3.11/dist-packages (from pydantic-settings<3.0.0,>=2.4.0->langchain-community) (1.1.0)\n",
            "Requirement already satisfied: typing-inspection>=0.4.0 in /usr/local/lib/python3.11/dist-packages (from pydantic-settings<3.0.0,>=2.4.0->langchain-community) (0.4.0)\n",
            "Requirement already satisfied: charset-normalizer<4,>=2 in /usr/local/lib/python3.11/dist-packages (from requests<3,>=2->langchain-community) (3.4.1)\n",
            "Requirement already satisfied: idna<4,>=2.5 in /usr/local/lib/python3.11/dist-packages (from requests<3,>=2->langchain-community) (3.10)\n",
            "Requirement already satisfied: urllib3<3,>=1.21.1 in /usr/local/lib/python3.11/dist-packages (from requests<3,>=2->langchain-community) (2.4.0)\n",
            "Requirement already satisfied: certifi>=2017.4.17 in /usr/local/lib/python3.11/dist-packages (from requests<3,>=2->langchain-community) (2025.1.31)\n",
            "Requirement already satisfied: greenlet>=1 in /usr/local/lib/python3.11/dist-packages (from SQLAlchemy<3,>=1.4->langchain-community) (3.2.1)\n",
            "Requirement already satisfied: regex>=2022.1.18 in /usr/local/lib/python3.11/dist-packages (from tiktoken<1,>=0.7->langchain-openai) (2024.11.6)\n",
            "Requirement already satisfied: soupsieve>1.2 in /usr/local/lib/python3.11/dist-packages (from beautifulsoup4->bs4) (2.7)\n",
            "Requirement already satisfied: pyproject_hooks in /usr/local/lib/python3.11/dist-packages (from build>=1.0.3->chromadb!=0.5.10,!=0.5.11,!=0.5.12,!=0.5.4,!=0.5.5,!=0.5.7,!=0.5.9,<0.7.0,>=0.4.0->langchain-chroma) (1.2.0)\n",
            "Requirement already satisfied: starlette<0.46.0,>=0.40.0 in /usr/local/lib/python3.11/dist-packages (from fastapi>=0.95.2->chromadb!=0.5.10,!=0.5.11,!=0.5.12,!=0.5.4,!=0.5.5,!=0.5.7,!=0.5.9,<0.7.0,>=0.4.0->langchain-chroma) (0.45.3)\n",
            "Requirement already satisfied: httpcore==1.* in /usr/local/lib/python3.11/dist-packages (from httpx>=0.27.0->chromadb!=0.5.10,!=0.5.11,!=0.5.12,!=0.5.4,!=0.5.5,!=0.5.7,!=0.5.9,<0.7.0,>=0.4.0->langchain-chroma) (1.0.9)\n",
            "Requirement already satisfied: h11>=0.16 in /usr/local/lib/python3.11/dist-packages (from httpcore==1.*->httpx>=0.27.0->chromadb!=0.5.10,!=0.5.11,!=0.5.12,!=0.5.4,!=0.5.5,!=0.5.7,!=0.5.9,<0.7.0,>=0.4.0->langchain-chroma) (0.16.0)\n",
            "Requirement already satisfied: jsonpointer>=1.9 in /usr/local/lib/python3.11/dist-packages (from jsonpatch<2.0,>=1.33->langchain-core<1.0.0,>=0.3.56->langchain-community) (3.0.0)\n",
            "Requirement already satisfied: six>=1.9.0 in /usr/local/lib/python3.11/dist-packages (from kubernetes>=28.1.0->chromadb!=0.5.10,!=0.5.11,!=0.5.12,!=0.5.4,!=0.5.5,!=0.5.7,!=0.5.9,<0.7.0,>=0.4.0->langchain-chroma) (1.17.0)\n",
            "Requirement already satisfied: python-dateutil>=2.5.3 in /usr/local/lib/python3.11/dist-packages (from kubernetes>=28.1.0->chromadb!=0.5.10,!=0.5.11,!=0.5.12,!=0.5.4,!=0.5.5,!=0.5.7,!=0.5.9,<0.7.0,>=0.4.0->langchain-chroma) (2.9.0.post0)\n",
            "Requirement already satisfied: google-auth>=1.0.1 in /usr/local/lib/python3.11/dist-packages (from kubernetes>=28.1.0->chromadb!=0.5.10,!=0.5.11,!=0.5.12,!=0.5.4,!=0.5.5,!=0.5.7,!=0.5.9,<0.7.0,>=0.4.0->langchain-chroma) (2.38.0)\n",
            "Requirement already satisfied: websocket-client!=0.40.0,!=0.41.*,!=0.42.*,>=0.32.0 in /usr/local/lib/python3.11/dist-packages (from kubernetes>=28.1.0->chromadb!=0.5.10,!=0.5.11,!=0.5.12,!=0.5.4,!=0.5.5,!=0.5.7,!=0.5.9,<0.7.0,>=0.4.0->langchain-chroma) (1.8.0)\n",
            "Requirement already satisfied: requests-oauthlib in /usr/local/lib/python3.11/dist-packages (from kubernetes>=28.1.0->chromadb!=0.5.10,!=0.5.11,!=0.5.12,!=0.5.4,!=0.5.5,!=0.5.7,!=0.5.9,<0.7.0,>=0.4.0->langchain-chroma) (2.0.0)\n",
            "Requirement already satisfied: oauthlib>=3.2.2 in /usr/local/lib/python3.11/dist-packages (from kubernetes>=28.1.0->chromadb!=0.5.10,!=0.5.11,!=0.5.12,!=0.5.4,!=0.5.5,!=0.5.7,!=0.5.9,<0.7.0,>=0.4.0->langchain-chroma) (3.2.2)\n",
            "Requirement already satisfied: durationpy>=0.7 in /usr/local/lib/python3.11/dist-packages (from kubernetes>=28.1.0->chromadb!=0.5.10,!=0.5.11,!=0.5.12,!=0.5.4,!=0.5.5,!=0.5.7,!=0.5.9,<0.7.0,>=0.4.0->langchain-chroma) (0.9)\n",
            "Requirement already satisfied: coloredlogs in /usr/local/lib/python3.11/dist-packages (from onnxruntime>=1.14.1->chromadb!=0.5.10,!=0.5.11,!=0.5.12,!=0.5.4,!=0.5.5,!=0.5.7,!=0.5.9,<0.7.0,>=0.4.0->langchain-chroma) (15.0.1)\n",
            "Requirement already satisfied: flatbuffers in /usr/local/lib/python3.11/dist-packages (from onnxruntime>=1.14.1->chromadb!=0.5.10,!=0.5.11,!=0.5.12,!=0.5.4,!=0.5.5,!=0.5.7,!=0.5.9,<0.7.0,>=0.4.0->langchain-chroma) (25.2.10)\n",
            "Requirement already satisfied: protobuf in /usr/local/lib/python3.11/dist-packages (from onnxruntime>=1.14.1->chromadb!=0.5.10,!=0.5.11,!=0.5.12,!=0.5.4,!=0.5.5,!=0.5.7,!=0.5.9,<0.7.0,>=0.4.0->langchain-chroma) (5.29.4)\n",
            "Requirement already satisfied: sympy in /usr/local/lib/python3.11/dist-packages (from onnxruntime>=1.14.1->chromadb!=0.5.10,!=0.5.11,!=0.5.12,!=0.5.4,!=0.5.5,!=0.5.7,!=0.5.9,<0.7.0,>=0.4.0->langchain-chroma) (1.13.1)\n",
            "Requirement already satisfied: deprecated>=1.2.6 in /usr/local/lib/python3.11/dist-packages (from opentelemetry-api>=1.2.0->chromadb!=0.5.10,!=0.5.11,!=0.5.12,!=0.5.4,!=0.5.5,!=0.5.7,!=0.5.9,<0.7.0,>=0.4.0->langchain-chroma) (1.2.18)\n",
            "Requirement already satisfied: importlib-metadata<8.7.0,>=6.0 in /usr/local/lib/python3.11/dist-packages (from opentelemetry-api>=1.2.0->chromadb!=0.5.10,!=0.5.11,!=0.5.12,!=0.5.4,!=0.5.5,!=0.5.7,!=0.5.9,<0.7.0,>=0.4.0->langchain-chroma) (8.6.1)\n",
            "Requirement already satisfied: googleapis-common-protos~=1.52 in /usr/local/lib/python3.11/dist-packages (from opentelemetry-exporter-otlp-proto-grpc>=1.2.0->chromadb!=0.5.10,!=0.5.11,!=0.5.12,!=0.5.4,!=0.5.5,!=0.5.7,!=0.5.9,<0.7.0,>=0.4.0->langchain-chroma) (1.70.0)\n",
            "Requirement already satisfied: opentelemetry-exporter-otlp-proto-common==1.32.1 in /usr/local/lib/python3.11/dist-packages (from opentelemetry-exporter-otlp-proto-grpc>=1.2.0->chromadb!=0.5.10,!=0.5.11,!=0.5.12,!=0.5.4,!=0.5.5,!=0.5.7,!=0.5.9,<0.7.0,>=0.4.0->langchain-chroma) (1.32.1)\n",
            "Requirement already satisfied: opentelemetry-proto==1.32.1 in /usr/local/lib/python3.11/dist-packages (from opentelemetry-exporter-otlp-proto-grpc>=1.2.0->chromadb!=0.5.10,!=0.5.11,!=0.5.12,!=0.5.4,!=0.5.5,!=0.5.7,!=0.5.9,<0.7.0,>=0.4.0->langchain-chroma) (1.32.1)\n",
            "Requirement already satisfied: opentelemetry-instrumentation-asgi==0.53b1 in /usr/local/lib/python3.11/dist-packages (from opentelemetry-instrumentation-fastapi>=0.41b0->chromadb!=0.5.10,!=0.5.11,!=0.5.12,!=0.5.4,!=0.5.5,!=0.5.7,!=0.5.9,<0.7.0,>=0.4.0->langchain-chroma) (0.53b1)\n",
            "Requirement already satisfied: opentelemetry-instrumentation==0.53b1 in /usr/local/lib/python3.11/dist-packages (from opentelemetry-instrumentation-fastapi>=0.41b0->chromadb!=0.5.10,!=0.5.11,!=0.5.12,!=0.5.4,!=0.5.5,!=0.5.7,!=0.5.9,<0.7.0,>=0.4.0->langchain-chroma) (0.53b1)\n",
            "Requirement already satisfied: opentelemetry-semantic-conventions==0.53b1 in /usr/local/lib/python3.11/dist-packages (from opentelemetry-instrumentation-fastapi>=0.41b0->chromadb!=0.5.10,!=0.5.11,!=0.5.12,!=0.5.4,!=0.5.5,!=0.5.7,!=0.5.9,<0.7.0,>=0.4.0->langchain-chroma) (0.53b1)\n",
            "Requirement already satisfied: opentelemetry-util-http==0.53b1 in /usr/local/lib/python3.11/dist-packages (from opentelemetry-instrumentation-fastapi>=0.41b0->chromadb!=0.5.10,!=0.5.11,!=0.5.12,!=0.5.4,!=0.5.5,!=0.5.7,!=0.5.9,<0.7.0,>=0.4.0->langchain-chroma) (0.53b1)\n",
            "Requirement already satisfied: wrapt<2.0.0,>=1.0.0 in /usr/local/lib/python3.11/dist-packages (from opentelemetry-instrumentation==0.53b1->opentelemetry-instrumentation-fastapi>=0.41b0->chromadb!=0.5.10,!=0.5.11,!=0.5.12,!=0.5.4,!=0.5.5,!=0.5.7,!=0.5.9,<0.7.0,>=0.4.0->langchain-chroma) (1.17.2)\n",
            "Requirement already satisfied: asgiref~=3.0 in /usr/local/lib/python3.11/dist-packages (from opentelemetry-instrumentation-asgi==0.53b1->opentelemetry-instrumentation-fastapi>=0.41b0->chromadb!=0.5.10,!=0.5.11,!=0.5.12,!=0.5.4,!=0.5.5,!=0.5.7,!=0.5.9,<0.7.0,>=0.4.0->langchain-chroma) (3.8.1)\n",
            "Requirement already satisfied: backoff>=1.10.0 in /usr/local/lib/python3.11/dist-packages (from posthog>=2.4.0->chromadb!=0.5.10,!=0.5.11,!=0.5.12,!=0.5.4,!=0.5.5,!=0.5.7,!=0.5.9,<0.7.0,>=0.4.0->langchain-chroma) (2.2.1)\n",
            "Requirement already satisfied: annotated-types>=0.6.0 in /usr/local/lib/python3.11/dist-packages (from pydantic>=1.9->chromadb!=0.5.10,!=0.5.11,!=0.5.12,!=0.5.4,!=0.5.5,!=0.5.7,!=0.5.9,<0.7.0,>=0.4.0->langchain-chroma) (0.7.0)\n",
            "Requirement already satisfied: pydantic-core==2.33.1 in /usr/local/lib/python3.11/dist-packages (from pydantic>=1.9->chromadb!=0.5.10,!=0.5.11,!=0.5.12,!=0.5.4,!=0.5.5,!=0.5.7,!=0.5.9,<0.7.0,>=0.4.0->langchain-chroma) (2.33.1)\n",
            "Requirement already satisfied: markdown-it-py>=2.2.0 in /usr/local/lib/python3.11/dist-packages (from rich>=10.11.0->chromadb!=0.5.10,!=0.5.11,!=0.5.12,!=0.5.4,!=0.5.5,!=0.5.7,!=0.5.9,<0.7.0,>=0.4.0->langchain-chroma) (3.0.0)\n",
            "Requirement already satisfied: pygments<3.0.0,>=2.13.0 in /usr/local/lib/python3.11/dist-packages (from rich>=10.11.0->chromadb!=0.5.10,!=0.5.11,!=0.5.12,!=0.5.4,!=0.5.5,!=0.5.7,!=0.5.9,<0.7.0,>=0.4.0->langchain-chroma) (2.19.1)\n",
            "Requirement already satisfied: huggingface-hub<1.0,>=0.16.4 in /usr/local/lib/python3.11/dist-packages (from tokenizers>=0.13.2->chromadb!=0.5.10,!=0.5.11,!=0.5.12,!=0.5.4,!=0.5.5,!=0.5.7,!=0.5.9,<0.7.0,>=0.4.0->langchain-chroma) (0.30.2)\n",
            "Requirement already satisfied: click>=8.0.0 in /usr/local/lib/python3.11/dist-packages (from typer>=0.9.0->chromadb!=0.5.10,!=0.5.11,!=0.5.12,!=0.5.4,!=0.5.5,!=0.5.7,!=0.5.9,<0.7.0,>=0.4.0->langchain-chroma) (8.1.8)\n",
            "Requirement already satisfied: shellingham>=1.3.0 in /usr/local/lib/python3.11/dist-packages (from typer>=0.9.0->chromadb!=0.5.10,!=0.5.11,!=0.5.12,!=0.5.4,!=0.5.5,!=0.5.7,!=0.5.9,<0.7.0,>=0.4.0->langchain-chroma) (1.5.4)\n",
            "Requirement already satisfied: mypy-extensions>=0.3.0 in /usr/local/lib/python3.11/dist-packages (from typing-inspect<1,>=0.4.0->dataclasses-json<0.7,>=0.5.7->langchain-community) (1.1.0)\n",
            "Requirement already satisfied: httptools>=0.6.3 in /usr/local/lib/python3.11/dist-packages (from uvicorn[standard]>=0.18.3->chromadb!=0.5.10,!=0.5.11,!=0.5.12,!=0.5.4,!=0.5.5,!=0.5.7,!=0.5.9,<0.7.0,>=0.4.0->langchain-chroma) (0.6.4)\n",
            "Requirement already satisfied: uvloop!=0.15.0,!=0.15.1,>=0.14.0 in /usr/local/lib/python3.11/dist-packages (from uvicorn[standard]>=0.18.3->chromadb!=0.5.10,!=0.5.11,!=0.5.12,!=0.5.4,!=0.5.5,!=0.5.7,!=0.5.9,<0.7.0,>=0.4.0->langchain-chroma) (0.21.0)\n",
            "Requirement already satisfied: watchfiles>=0.13 in /usr/local/lib/python3.11/dist-packages (from uvicorn[standard]>=0.18.3->chromadb!=0.5.10,!=0.5.11,!=0.5.12,!=0.5.4,!=0.5.5,!=0.5.7,!=0.5.9,<0.7.0,>=0.4.0->langchain-chroma) (1.0.5)\n",
            "Requirement already satisfied: websockets>=10.4 in /usr/local/lib/python3.11/dist-packages (from uvicorn[standard]>=0.18.3->chromadb!=0.5.10,!=0.5.11,!=0.5.12,!=0.5.4,!=0.5.5,!=0.5.7,!=0.5.9,<0.7.0,>=0.4.0->langchain-chroma) (15.0.1)\n",
            "Requirement already satisfied: cachetools<6.0,>=2.0.0 in /usr/local/lib/python3.11/dist-packages (from google-auth>=1.0.1->kubernetes>=28.1.0->chromadb!=0.5.10,!=0.5.11,!=0.5.12,!=0.5.4,!=0.5.5,!=0.5.7,!=0.5.9,<0.7.0,>=0.4.0->langchain-chroma) (5.5.2)\n",
            "Requirement already satisfied: pyasn1-modules>=0.2.1 in /usr/local/lib/python3.11/dist-packages (from google-auth>=1.0.1->kubernetes>=28.1.0->chromadb!=0.5.10,!=0.5.11,!=0.5.12,!=0.5.4,!=0.5.5,!=0.5.7,!=0.5.9,<0.7.0,>=0.4.0->langchain-chroma) (0.4.2)\n",
            "Requirement already satisfied: rsa<5,>=3.1.4 in /usr/local/lib/python3.11/dist-packages (from google-auth>=1.0.1->kubernetes>=28.1.0->chromadb!=0.5.10,!=0.5.11,!=0.5.12,!=0.5.4,!=0.5.5,!=0.5.7,!=0.5.9,<0.7.0,>=0.4.0->langchain-chroma) (4.9.1)\n",
            "Requirement already satisfied: filelock in /usr/local/lib/python3.11/dist-packages (from huggingface-hub<1.0,>=0.16.4->tokenizers>=0.13.2->chromadb!=0.5.10,!=0.5.11,!=0.5.12,!=0.5.4,!=0.5.5,!=0.5.7,!=0.5.9,<0.7.0,>=0.4.0->langchain-chroma) (3.18.0)\n",
            "Requirement already satisfied: fsspec>=2023.5.0 in /usr/local/lib/python3.11/dist-packages (from huggingface-hub<1.0,>=0.16.4->tokenizers>=0.13.2->chromadb!=0.5.10,!=0.5.11,!=0.5.12,!=0.5.4,!=0.5.5,!=0.5.7,!=0.5.9,<0.7.0,>=0.4.0->langchain-chroma) (2025.3.2)\n",
            "Requirement already satisfied: zipp>=3.20 in /usr/local/lib/python3.11/dist-packages (from importlib-metadata<8.7.0,>=6.0->opentelemetry-api>=1.2.0->chromadb!=0.5.10,!=0.5.11,!=0.5.12,!=0.5.4,!=0.5.5,!=0.5.7,!=0.5.9,<0.7.0,>=0.4.0->langchain-chroma) (3.21.0)\n",
            "Requirement already satisfied: mdurl~=0.1 in /usr/local/lib/python3.11/dist-packages (from markdown-it-py>=2.2.0->rich>=10.11.0->chromadb!=0.5.10,!=0.5.11,!=0.5.12,!=0.5.4,!=0.5.5,!=0.5.7,!=0.5.9,<0.7.0,>=0.4.0->langchain-chroma) (0.1.2)\n",
            "Requirement already satisfied: humanfriendly>=9.1 in /usr/local/lib/python3.11/dist-packages (from coloredlogs->onnxruntime>=1.14.1->chromadb!=0.5.10,!=0.5.11,!=0.5.12,!=0.5.4,!=0.5.5,!=0.5.7,!=0.5.9,<0.7.0,>=0.4.0->langchain-chroma) (10.0)\n",
            "Requirement already satisfied: mpmath<1.4,>=1.1.0 in /usr/local/lib/python3.11/dist-packages (from sympy->onnxruntime>=1.14.1->chromadb!=0.5.10,!=0.5.11,!=0.5.12,!=0.5.4,!=0.5.5,!=0.5.7,!=0.5.9,<0.7.0,>=0.4.0->langchain-chroma) (1.3.0)\n",
            "Requirement already satisfied: pyasn1<0.7.0,>=0.6.1 in /usr/local/lib/python3.11/dist-packages (from pyasn1-modules>=0.2.1->google-auth>=1.0.1->kubernetes>=28.1.0->chromadb!=0.5.10,!=0.5.11,!=0.5.12,!=0.5.4,!=0.5.5,!=0.5.7,!=0.5.9,<0.7.0,>=0.4.0->langchain-chroma) (0.6.1)\n"
          ]
        }
      ],
      "source": [
        "!pip install langchain-community langchain-chroma langchain-openai bs4"
      ]
    },
    {
      "cell_type": "code",
      "source": [
        "import bs4\n",
        "import os\n",
        "from getpass import getpass\n",
        "from langchain import hub\n",
        "from langchain_chroma import Chroma\n",
        "from langchain_openai import ChatOpenAI\n",
        "from langchain_openai import OpenAIEmbeddings\n",
        "from langchain_community.document_loaders import WebBaseLoader\n",
        "from langchain_text_splitters import RecursiveCharacterTextSplitter"
      ],
      "metadata": {
        "id": "lrlcWNMyI0HQ"
      },
      "execution_count": 6,
      "outputs": []
    },
    {
      "cell_type": "code",
      "source": [
        "# ✅ 키 입력 받아 환경변수로 저장\n",
        "os.environ[\"OPENAI_API_KEY\"] = getpass(\"🔑 Enter your OpenAI API key: \")\n",
        "\n",
        "llm = ChatOpenAI(model=\"gpt-4o-mini\", openai_api_key=os.environ[\"OPENAI_API_KEY\"])"
      ],
      "metadata": {
        "id": "gdjtGqsgI2Ub",
        "outputId": "9d61146c-c654-4cc5-d15c-dd00f1eac4d5",
        "colab": {
          "base_uri": "https://localhost:8080/"
        }
      },
      "execution_count": 7,
      "outputs": [
        {
          "name": "stdout",
          "output_type": "stream",
          "text": [
            "🔑 Enter your OpenAI API key: ··········\n"
          ]
        }
      ]
    },
    {
      "cell_type": "code",
      "source": [
        "loader = WebBaseLoader(\n",
        "    web_paths=(\"https://spartacodingclub.kr/blog/all-in-challenge_winner\",),\n",
        "    bs_kwargs=dict(\n",
        "        parse_only=bs4.SoupStrainer(\n",
        "            class_=(\"editedContent\")\n",
        "        )\n",
        "    ),\n",
        ")\n",
        "docs = loader.load()"
      ],
      "metadata": {
        "id": "qhuzvEYGI4Yq"
      },
      "execution_count": 14,
      "outputs": []
    },
    {
      "cell_type": "code",
      "source": [
        "text_splitter = RecursiveCharacterTextSplitter(\n",
        "    chunk_size=1000,\n",
        "    chunk_overlap=200\n",
        ")\n",
        "splits = text_splitter.split_documents(docs)\n",
        "vectorstore = Chroma.from_documents(\n",
        "    documents=splits,\n",
        "    embedding=OpenAIEmbeddings(openai_api_key=os.environ[\"OPENAI_API_KEY\"])\n",
        ")"
      ],
      "metadata": {
        "id": "ewqNBMS_I7zB"
      },
      "execution_count": 16,
      "outputs": []
    },
    {
      "cell_type": "code",
      "source": [
        "retriever = vectorstore.as_retriever()\n",
        "\n",
        "user_msg = \"ALL-in 코딩 공모전 수상작들을 요약해줘.\"\n",
        "retrieved_docs = retriever.invoke(user_msg)\n",
        "\n",
        "def format_docs(docs):\n",
        "    return \"\\n\\n\".join(doc.page_content for doc in docs)\n",
        "prompt = hub.pull(\"rlm/rag-prompt\")\n",
        "\n",
        "user_prompt = prompt.invoke({\"context\": format_docs(retrieved_docs), \"question\": user_msg})\n",
        "print(user_prompt)"
      ],
      "metadata": {
        "colab": {
          "base_uri": "https://localhost:8080/"
        },
        "id": "dKwUiRrPJMq1",
        "outputId": "f58770cc-4e65-48a7-c2b0-4449dbc064b5"
      },
      "execution_count": 17,
      "outputs": [
        {
          "output_type": "stream",
          "name": "stderr",
          "text": [
            "/usr/local/lib/python3.11/dist-packages/langsmith/client.py:271: LangSmithMissingAPIKeyWarning: API key must be provided when using hosted LangSmith API\n",
            "  warnings.warn(\n"
          ]
        },
        {
          "output_type": "stream",
          "name": "stdout",
          "text": [
            "messages=[HumanMessage(content=\"You are an assistant for question-answering tasks. Use the following pieces of retrieved context to answer the question. If you don't know the answer, just say that you don't know. Use three sentences maximum and keep the answer concise.\\nQuestion: ALL-in 코딩 공모전 수상작들을 요약해줘. \\nContext: ì„œë¹„ìŠ¤ë¥¼ ë§Œë‚˜ë³´ê³\\xa0 ì‹¶ë‹¤ë©´?ë‹¤ì–‘í•œ ì„œë¹„ìŠ¤ì™€ ê¸°ë°œí•œ ì•„ì�´ë””ì–´ê°€ ëª¨ì�¸ ê³³ì—� ì´ˆëŒ€í•©ë‹ˆë‹¤. ì°¸ê°€ì��ë“¤ì�˜ ë¬¸ì\\xa0œ í•´ê²°ë°©ë²•ì�´ ê¶�ê¸ˆí•˜ì‹œë‹¤ë©´ ì§€ê¸ˆ ë°”ë¡œ â€˜All-in ê³µëª¨ì\\xa0„â€™ì—�ì„œ ë§Œë‚˜ë³´ì„¸ìš”!ğŸ‘‰ğŸ�»Â\\xa0ê³µëª¨ì\\xa0„ ê²°ê³¼ë¬¼ ë³´ëŸ¬ê°€ê¸°ëˆ„êµ¬ë‚˜ í�°ì�¼ ë‚¼ ìˆ˜ ì�ˆì–´ìŠ¤íŒŒë¥´íƒ€ì½”ë”©í�´ëŸ½ê¸€ | ì‹\\xa0ìˆ˜ì§€ íŒ€ìŠ¤íŒŒë¥´íƒ€ ì—�ë””í„°\\n\\nSpring Boot, MySQL, Spring WebSocket-BE(ë°±ì—”ë“œ): React Native, TanStack Query, Axiosì½”ë”© ê³µëª¨ì\\xa0„ ìˆ˜ìƒ�ì�‘ì�€ ëŒ€í•™ìƒ�ë“¤ì�˜ íŒ€í”„ë¡œì\\xa0�íŠ¸ë¥¼ í†µí•´ ë§Œë“¤ì–´ì§„ ì›¹/ì•± ì„œë¹„ìŠ¤ì�…ë‹ˆë‹¤. ìº\\xa0í�¼ìŠ¤ì—�ì„œì�˜ ë¬¸ì\\xa0œë¥¼ í•´ê²°í•˜ì��ëŠ” ì°¸ê°€ì��ë“¤ì�˜ ì•„ì�´ë””ì–´ì—�ì„œ ì‹œì�‘ë�˜ì—ˆì£\\xa0. ëˆ„êµ¬ë‚˜ ì„¸ìƒ�ì—� ì„\\xa0ë³´ì�´ê³\\xa0 ì‹¶ì�€ ë‚˜ë§Œì�˜ ì•„ì�´ë””ì–´ì™€ ê¸°ì´ˆ ì½”ë”© ê¸°ìˆ\\xa0ë§Œ í™œìš©í•œë‹¤ë©´, ì–¼ë§ˆë“\\xa0ì§€ ì„œë¹„ìŠ¤ë¥¼ ë§Œë“¤ ìˆ˜ ì�ˆìŠµë‹ˆë‹¤. ìŠ¤íŒŒë¥´íƒ€ì½”ë”©í�´ëŸ½ì�˜ ë‚´ì�¼ë°°ì›€ìº\\xa0í”„ì—�ì„œëŠ” ë¹„ì\\xa0„ê³µ, ì´ˆë³´ì��ë�„ ì›¹/ì•± ê°œë°œì��ë¡œ ê±°ë“\\xadë‚\\xa0 ìˆ˜ ì�ˆëŠ” ë‹¤ì–‘í•œ íŠ¸ë�™ì�´ ì¤€ë¹„ë�¼ ì�ˆìŠµë‹ˆë‹¤. ë‚˜ë§Œì�˜ ì•„ì�´ë””ì–´ë¥¼ ì„¸ìƒ�ì—� ì„\\xa0ë³´ì�´ê³\\xa0 ì‹¶ì�€ ëˆ„êµ¬ë‚˜ì—�ê²Œ ì—´ë\\xa0¤ ì�ˆìœ¼ë‹ˆ ì£¼ì\\xa0€ë§�ê³\\xa0 ë�„ì\\xa0„í•´ ë³´ì„¸ìš”.ğŸ’¡<All-in> ì½”ë”© ê³µëª¨ì\\xa0„ì—�ì„œ ë§Œë“\\xa0 ë‹¤ì–‘í•œ ì„œë¹„ìŠ¤ë¥¼ ë§Œë‚˜ë³´ê³\\xa0 ì‹¶ë‹¤ë©´?ë‹¤ì–‘í•œ ì„œë¹„ìŠ¤ì™€ ê¸°ë°œí•œ ì•„ì�´ë””ì–´ê°€ ëª¨ì�¸ ê³³ì—� ì´ˆëŒ€í•©ë‹ˆë‹¤. ì°¸ê°€ì��ë“¤ì�˜ ë¬¸ì\\xa0œ í•´ê²°ë°©ë²•ì�´ ê¶�ê¸ˆí•˜ì‹œë‹¤ë©´ ì§€ê¸ˆ ë°”ë¡œ â€˜All-in\\n\\ní�©ì–´ì\\xa0¸ ì�ˆê³\\xa0, ì‹\\xa0ë¢°í•\\xa0 ë§Œí•œ ì\\xa0•ë³´ë¥¼ ì°¾ê¸° ì–´ë\\xa0¤ì›\\xa0ìŠµë‹ˆë‹¤.<Crewing>ì�€ ëŒ€í•™ìƒ�ë“¤ì�´ ë‹¤ì–‘í•œ ì—°í•© ë�™ì•„ë¦¬ì—� ì‰½ê²Œ ê°€ì�…í•˜ê³\\xa0, ì\\xa0�ì\\xa0ˆí•œ ë�™ì•„ë¦¬ë¥¼ ì°¾ì�„ ìˆ˜ ì�ˆë�„ë¡� ì§€ì›�í•´ì£¼ëŠ” ì•„ì¹´ì�´ë¹™ í”Œë�«í�¼ì�…ë‹ˆë‹¤. íšŒì›�ê°€ì�… ì‹œ ìƒ�ë…„, ì„±ë³„, ê´€ì‹¬ ë¶„ì•¼ë¥¼ ì�…ë\\xa0¥í•˜ì�� ë”± ë§�ëŠ” ë�™ì•„ë¦¬ë¥¼ ì¶”ì²œí•´ì£¼ì£\\xa0. í”Œë�«í�¼ ë‚´ì—�ì„œ ë�™ì•„ë¦¬ì�˜ ë¦¬í�¬ë£¨íŒ… ê³¼ì\\xa0•ì�¸ ì„œë¥˜ ì\\xa0„í˜•, ì�¸í„°ë·° ì�¼ì\\xa0•, ìµœì¢… ê²°ê³¼ ë°œí‘œ ë“±ì�„ í•œ ë²ˆì—� í•´ê²°í•\\xa0 ìˆ˜ ì�ˆì–´ìš”. ì‹¤ì\\xa0œ ë�™ì•„ë¦¬ì—� ê°€ì�…í•œ ì‚¬ë�Œë“¤ì�˜ ì†”ì§�í•œ í›„ê¸°ë¥¼ ì\\xa0œê³µí•´ì£¼ê¸° ë•Œë¬¸ì—� ë³´ë‹¤ ì\\xa0•í™•í•œ ì\\xa0•ë³´ë¥¼ ì–»ì�„ ìˆ˜ ì�ˆì–´ìš”. Crewingì�€ ì‹\\xa0ë¢°í•\\xa0 ìˆ˜ ì�ˆëŠ” ì\\xa0•ë³´ì™€ ì†”ì§�í•œ í›„ê¸°ë¥¼ ì\\xa0œê³µí•´ì£¼ê¸° ë•Œë¬¸ì—� íš¨ìœ¨ì\\xa0�ìœ¼ë¡œ ë‚´ê²Œ ê¼\\xad ë§�ëŠ” ë�™ì•„ë¦¬ë¥¼ ì„\\xa0íƒ�í•\\xa0 ìˆ˜ ì�ˆìŠµë‹ˆë‹¤.ì‚¬ìš©í•œ ê¸°ìˆ\\xa0 ìŠ¤íƒ� -FE(í”„ë¡\\xa0íŠ¸ì—”ë“œ): Spring Boot, Redis, MySQL-BE(ë°±ì—”ë“œ): SwiftUI Framework, OAuth 2.0ğŸ�…Â\\xa0ì�…ì„\\xa0[í•™êµ�ìƒ�í™œ ë§¤ë‹ˆì\\xa0€] í•™êµ�ìƒ�í™œ ê´€ë¦¬ ì„œë¹„ìŠ¤ì„œë¹„ìŠ¤\\n\\nê¸°ìˆ\\xa0 ìŠ¤íƒ� -FE(í”„ë¡\\xa0íŠ¸ì—”ë“œ): Spring Boot, Redis, MySQL-BE(ë°±ì—”ë“œ): SwiftUI Framework, OAuth 2.0ğŸ�…Â\\xa0ì�…ì„\\xa0[í•™êµ�ìƒ�í™œ ë§¤ë‹ˆì\\xa0€] í•™êµ�ìƒ�í™œ ê´€ë¦¬ ì„œë¹„ìŠ¤ì„œë¹„ìŠ¤ ì\\xa0œì�‘ì��: ì•„ì�´ì¹¼F4(ì¡°ë¯¼ì\\xa0œ, ì�´ë¯¼ê¸°, ê°•ê±´, ë°•ê·¼ìš°)ğŸ’¡AëŠ” ì˜¬í•´ ë³µí•™í•œ 3í•™ë…„ í•™ìƒ�ì�…ë‹ˆë‹¤. ê°•ì�˜ì‹¤ê³¼ ë�„ì„œê´€ì�„ ì˜¤ê°€ë©° ë°”ì�œ ì�¼ì\\xa0•ì�„ ì†Œí™”í•˜ëŠ�ë�¼ ì\\xa0•ì‹\\xa0ì�´ ì—†ì§€ë§Œ, ìˆ˜ì—…ë§ˆë‹¤ ë‚˜ì˜¤ëŠ” ê³¼ì\\xa0œì™€ ê°�ì¢… í™œë�™, ì‹œí—˜ ì¤€ë¹„ê¹Œì§€ ê²¹ì¹˜ë©´ì„œ í˜¼ë�€ì—� ë¹\\xa0ì§€ê¸° ì�¼ì‘¤ì˜€ìŠµë‹ˆë‹¤. ë³µí•™ìƒ�ì�´ë‹¤ ë³´ë‹ˆ í•™êµ�ì—�ì„œ ì\\xa0„ë‹¬ë�˜ëŠ” ê³µì§€ì‚¬í•\\xadë�„ ì\\xa0œëŒ€ë¡œ ì\\xa0„ë‹¬ë°›ì§€ ëª»í•´ í•\\xadìƒ� ì¤‘ìš”í•œ ì\\xa0•ë³´ë¥¼ ë†“ì¹\\xa0ê¹Œ ë´� ê±±ì\\xa0•ì�´ì—ˆì£\\xa0.<í•™êµ�ìƒ�í™œ ë§¤ë‹ˆì\\xa0€> ì„œë¹„ìŠ¤ëŠ” í•™êµ� ìƒ�í™œì�„ íš¨ìœ¨ì\\xa0�ìœ¼ë¡œ ê´€ë¦¬í•\\xa0 ìˆ˜ ì�ˆë�„ë¡� ë�•ê¸° ìœ„í•´ ê°œë°œë�œ ê´€ë¦¬ ì•±ì�…ë‹ˆë‹¤. ì�¼ì\\xa0•ê³¼ ê³¼ì\\xa0œ ê´€ë¦¬, ì„±ì\\xa0� ì˜ˆì¸¡, í•™ì\\xa0� ê³„ì‚° ë“± ìº\\xa0í�¼ìŠ¤ ìƒ�í™œê³¼ ê´€ë\\xa0¨ë�œ ë‹¤ì–‘í•œ ê¸°ëŠ¥ì�„ í•œ ê³³ì—�ì„œ ê´€ë¦¬í•\\xa0 ìˆ˜ ì�ˆì–´ìš”. â€˜ìº˜ë¦°ë�” ê¸°ëŠ¥â€™ì�„ í†µí•´ í•™êµ� í•™ì‚¬ \\nAnswer:\", additional_kwargs={}, response_metadata={})]\n"
          ]
        }
      ]
    },
    {
      "cell_type": "code",
      "source": [
        "response = llm.invoke(user_prompt)\n",
        "print(response.content)"
      ],
      "metadata": {
        "colab": {
          "base_uri": "https://localhost:8080/"
        },
        "id": "bqHKsIyUJc_m",
        "outputId": "6ccdbb45-993a-4ba8-b92a-58bf312f9183"
      },
      "execution_count": 18,
      "outputs": [
        {
          "output_type": "stream",
          "name": "stdout",
          "text": [
            "모든 코딩 공모전 수상작들은 다양한 기술 스택을 활용하여 독창적인 프로젝트를 선보였습니다. 예를 들어, Spring Boot와 MySQL을 활용한 백엔드와 React Native로 개발된 모바일 애플리케이션이 주를 이룹니다. 또한, 수상작들은 실용성과 혁신성을 바탕으로 평가되어 높은 점수를 받았습니다.\n"
          ]
        }
      ]
    },
    {
      "cell_type": "markdown",
      "source": [
        "🔍 RAG 내부 흐름 시각화\n",
        "1. 문서 조각 수\t전체 로드된 문서가 몇 조각(splits)으로 나뉘었는지\n",
        "2. 벡터 유사도 점수\t사용자 질문과 가장 가까운 문서들의 점수 시각화\n",
        "3. 검색된 문서 내용 미리보기\t검색된 top-k 문서를 테이블이나 목록으로 정리"
      ],
      "metadata": {
        "id": "bUvWVHSaZQUL"
      }
    },
    {
      "cell_type": "code",
      "source": [
        "!pip install ftfy"
      ],
      "metadata": {
        "id": "QIxjJIzbaP1f",
        "outputId": "424d3d86-af68-4789-9c68-ec31c0bceedb",
        "colab": {
          "base_uri": "https://localhost:8080/"
        }
      },
      "execution_count": 24,
      "outputs": [
        {
          "output_type": "stream",
          "name": "stdout",
          "text": [
            "Collecting ftfy\n",
            "  Downloading ftfy-6.3.1-py3-none-any.whl.metadata (7.3 kB)\n",
            "Requirement already satisfied: wcwidth in /usr/local/lib/python3.11/dist-packages (from ftfy) (0.2.13)\n",
            "Downloading ftfy-6.3.1-py3-none-any.whl (44 kB)\n",
            "\u001b[?25l   \u001b[90m━━━━━━━━━━━━━━━━━━━━━━━━━━━━━━━━━━━━━━━━\u001b[0m \u001b[32m0.0/44.8 kB\u001b[0m \u001b[31m?\u001b[0m eta \u001b[36m-:--:--\u001b[0m\r\u001b[2K   \u001b[90m━━━━━━━━━━━━━━━━━━━━━━━━━━━━━━━━━━━━━━━━\u001b[0m \u001b[32m44.8/44.8 kB\u001b[0m \u001b[31m3.2 MB/s\u001b[0m eta \u001b[36m0:00:00\u001b[0m\n",
            "\u001b[?25hInstalling collected packages: ftfy\n",
            "Successfully installed ftfy-6.3.1\n"
          ]
        }
      ]
    },
    {
      "cell_type": "code",
      "source": [
        "import html\n",
        "import codecs\n",
        "\n",
        "from ftfy import fix_text\n",
        "\n",
        "df = pd.DataFrame([{\n",
        "    \"Index\": i+1,\n",
        "    \"Score\": round(score, 4),\n",
        "    \"Preview\": fix_text(doc.page_content[:150]).replace(\"\\n\", \" \") + \"...\"\n",
        "} for i, (doc, score) in enumerate(docs_with_scores)])\n",
        "\n",
        "display(df)"
      ],
      "metadata": {
        "id": "mF7iEqvIZFOm",
        "outputId": "81c126ac-c72c-4ad5-918d-8edc4efb4e65",
        "colab": {
          "base_uri": "https://localhost:8080/",
          "height": 206
        }
      },
      "execution_count": 26,
      "outputs": [
        {
          "output_type": "display_data",
          "data": {
            "text/plain": [
              "   Index   Score                                            Preview\n",
              "0      1  0.4641  서비스를 만나보고 싶다면?다양한 서비스와 기발한 ì•\"ì�´ë\"\"ì–´ê°€ 모ì�...\n",
              "1      2  0.4796  Spring Boot, MySQL, Spring WebSocket-BE(백엔드): ...\n",
              "2      3  0.4802  �어져 �고, 신뢰할 만한 정보를 찾기 어려웠습니다.<Crewing>� 대학�들� ...\n",
              "3      4  0.4918  기술 스íƒ� -FE(프론트엔드): Spring Boot, Redis, MySQL-...\n",
              "4      5  0.4970  대한 피드백� 받� 수 �는 �가 기능과 학�� �해�를 테스트 할 수 �는 퀴즈 ..."
            ],
            "text/html": [
              "\n",
              "  <div id=\"df-24fc3a34-bfa4-4a67-8a48-24a5aa64ddf1\" class=\"colab-df-container\">\n",
              "    <div>\n",
              "<style scoped>\n",
              "    .dataframe tbody tr th:only-of-type {\n",
              "        vertical-align: middle;\n",
              "    }\n",
              "\n",
              "    .dataframe tbody tr th {\n",
              "        vertical-align: top;\n",
              "    }\n",
              "\n",
              "    .dataframe thead th {\n",
              "        text-align: right;\n",
              "    }\n",
              "</style>\n",
              "<table border=\"1\" class=\"dataframe\">\n",
              "  <thead>\n",
              "    <tr style=\"text-align: right;\">\n",
              "      <th></th>\n",
              "      <th>Index</th>\n",
              "      <th>Score</th>\n",
              "      <th>Preview</th>\n",
              "    </tr>\n",
              "  </thead>\n",
              "  <tbody>\n",
              "    <tr>\n",
              "      <th>0</th>\n",
              "      <td>1</td>\n",
              "      <td>0.4641</td>\n",
              "      <td>서비스를 만나보고 싶다면?다양한 서비스와 기발한 ì•\"ì�´ë\"\"ì–´ê°€ 모ì�...</td>\n",
              "    </tr>\n",
              "    <tr>\n",
              "      <th>1</th>\n",
              "      <td>2</td>\n",
              "      <td>0.4796</td>\n",
              "      <td>Spring Boot, MySQL, Spring WebSocket-BE(백엔드): ...</td>\n",
              "    </tr>\n",
              "    <tr>\n",
              "      <th>2</th>\n",
              "      <td>3</td>\n",
              "      <td>0.4802</td>\n",
              "      <td>�어져 �고, 신뢰할 만한 정보를 찾기 어려웠습니다.&lt;Crewing&gt;� 대학�들� ...</td>\n",
              "    </tr>\n",
              "    <tr>\n",
              "      <th>3</th>\n",
              "      <td>4</td>\n",
              "      <td>0.4918</td>\n",
              "      <td>기술 스íƒ� -FE(프론트엔드): Spring Boot, Redis, MySQL-...</td>\n",
              "    </tr>\n",
              "    <tr>\n",
              "      <th>4</th>\n",
              "      <td>5</td>\n",
              "      <td>0.4970</td>\n",
              "      <td>대한 피드백� 받� 수 �는 �가 기능과 학�� �해�를 테스트 할 수 �는 퀴즈 ...</td>\n",
              "    </tr>\n",
              "  </tbody>\n",
              "</table>\n",
              "</div>\n",
              "    <div class=\"colab-df-buttons\">\n",
              "\n",
              "  <div class=\"colab-df-container\">\n",
              "    <button class=\"colab-df-convert\" onclick=\"convertToInteractive('df-24fc3a34-bfa4-4a67-8a48-24a5aa64ddf1')\"\n",
              "            title=\"Convert this dataframe to an interactive table.\"\n",
              "            style=\"display:none;\">\n",
              "\n",
              "  <svg xmlns=\"http://www.w3.org/2000/svg\" height=\"24px\" viewBox=\"0 -960 960 960\">\n",
              "    <path d=\"M120-120v-720h720v720H120Zm60-500h600v-160H180v160Zm220 220h160v-160H400v160Zm0 220h160v-160H400v160ZM180-400h160v-160H180v160Zm440 0h160v-160H620v160ZM180-180h160v-160H180v160Zm440 0h160v-160H620v160Z\"/>\n",
              "  </svg>\n",
              "    </button>\n",
              "\n",
              "  <style>\n",
              "    .colab-df-container {\n",
              "      display:flex;\n",
              "      gap: 12px;\n",
              "    }\n",
              "\n",
              "    .colab-df-convert {\n",
              "      background-color: #E8F0FE;\n",
              "      border: none;\n",
              "      border-radius: 50%;\n",
              "      cursor: pointer;\n",
              "      display: none;\n",
              "      fill: #1967D2;\n",
              "      height: 32px;\n",
              "      padding: 0 0 0 0;\n",
              "      width: 32px;\n",
              "    }\n",
              "\n",
              "    .colab-df-convert:hover {\n",
              "      background-color: #E2EBFA;\n",
              "      box-shadow: 0px 1px 2px rgba(60, 64, 67, 0.3), 0px 1px 3px 1px rgba(60, 64, 67, 0.15);\n",
              "      fill: #174EA6;\n",
              "    }\n",
              "\n",
              "    .colab-df-buttons div {\n",
              "      margin-bottom: 4px;\n",
              "    }\n",
              "\n",
              "    [theme=dark] .colab-df-convert {\n",
              "      background-color: #3B4455;\n",
              "      fill: #D2E3FC;\n",
              "    }\n",
              "\n",
              "    [theme=dark] .colab-df-convert:hover {\n",
              "      background-color: #434B5C;\n",
              "      box-shadow: 0px 1px 3px 1px rgba(0, 0, 0, 0.15);\n",
              "      filter: drop-shadow(0px 1px 2px rgba(0, 0, 0, 0.3));\n",
              "      fill: #FFFFFF;\n",
              "    }\n",
              "  </style>\n",
              "\n",
              "    <script>\n",
              "      const buttonEl =\n",
              "        document.querySelector('#df-24fc3a34-bfa4-4a67-8a48-24a5aa64ddf1 button.colab-df-convert');\n",
              "      buttonEl.style.display =\n",
              "        google.colab.kernel.accessAllowed ? 'block' : 'none';\n",
              "\n",
              "      async function convertToInteractive(key) {\n",
              "        const element = document.querySelector('#df-24fc3a34-bfa4-4a67-8a48-24a5aa64ddf1');\n",
              "        const dataTable =\n",
              "          await google.colab.kernel.invokeFunction('convertToInteractive',\n",
              "                                                    [key], {});\n",
              "        if (!dataTable) return;\n",
              "\n",
              "        const docLinkHtml = 'Like what you see? Visit the ' +\n",
              "          '<a target=\"_blank\" href=https://colab.research.google.com/notebooks/data_table.ipynb>data table notebook</a>'\n",
              "          + ' to learn more about interactive tables.';\n",
              "        element.innerHTML = '';\n",
              "        dataTable['output_type'] = 'display_data';\n",
              "        await google.colab.output.renderOutput(dataTable, element);\n",
              "        const docLink = document.createElement('div');\n",
              "        docLink.innerHTML = docLinkHtml;\n",
              "        element.appendChild(docLink);\n",
              "      }\n",
              "    </script>\n",
              "  </div>\n",
              "\n",
              "\n",
              "    <div id=\"df-959728a5-0265-4dd8-916d-31c7c28add30\">\n",
              "      <button class=\"colab-df-quickchart\" onclick=\"quickchart('df-959728a5-0265-4dd8-916d-31c7c28add30')\"\n",
              "                title=\"Suggest charts\"\n",
              "                style=\"display:none;\">\n",
              "\n",
              "<svg xmlns=\"http://www.w3.org/2000/svg\" height=\"24px\"viewBox=\"0 0 24 24\"\n",
              "     width=\"24px\">\n",
              "    <g>\n",
              "        <path d=\"M19 3H5c-1.1 0-2 .9-2 2v14c0 1.1.9 2 2 2h14c1.1 0 2-.9 2-2V5c0-1.1-.9-2-2-2zM9 17H7v-7h2v7zm4 0h-2V7h2v10zm4 0h-2v-4h2v4z\"/>\n",
              "    </g>\n",
              "</svg>\n",
              "      </button>\n",
              "\n",
              "<style>\n",
              "  .colab-df-quickchart {\n",
              "      --bg-color: #E8F0FE;\n",
              "      --fill-color: #1967D2;\n",
              "      --hover-bg-color: #E2EBFA;\n",
              "      --hover-fill-color: #174EA6;\n",
              "      --disabled-fill-color: #AAA;\n",
              "      --disabled-bg-color: #DDD;\n",
              "  }\n",
              "\n",
              "  [theme=dark] .colab-df-quickchart {\n",
              "      --bg-color: #3B4455;\n",
              "      --fill-color: #D2E3FC;\n",
              "      --hover-bg-color: #434B5C;\n",
              "      --hover-fill-color: #FFFFFF;\n",
              "      --disabled-bg-color: #3B4455;\n",
              "      --disabled-fill-color: #666;\n",
              "  }\n",
              "\n",
              "  .colab-df-quickchart {\n",
              "    background-color: var(--bg-color);\n",
              "    border: none;\n",
              "    border-radius: 50%;\n",
              "    cursor: pointer;\n",
              "    display: none;\n",
              "    fill: var(--fill-color);\n",
              "    height: 32px;\n",
              "    padding: 0;\n",
              "    width: 32px;\n",
              "  }\n",
              "\n",
              "  .colab-df-quickchart:hover {\n",
              "    background-color: var(--hover-bg-color);\n",
              "    box-shadow: 0 1px 2px rgba(60, 64, 67, 0.3), 0 1px 3px 1px rgba(60, 64, 67, 0.15);\n",
              "    fill: var(--button-hover-fill-color);\n",
              "  }\n",
              "\n",
              "  .colab-df-quickchart-complete:disabled,\n",
              "  .colab-df-quickchart-complete:disabled:hover {\n",
              "    background-color: var(--disabled-bg-color);\n",
              "    fill: var(--disabled-fill-color);\n",
              "    box-shadow: none;\n",
              "  }\n",
              "\n",
              "  .colab-df-spinner {\n",
              "    border: 2px solid var(--fill-color);\n",
              "    border-color: transparent;\n",
              "    border-bottom-color: var(--fill-color);\n",
              "    animation:\n",
              "      spin 1s steps(1) infinite;\n",
              "  }\n",
              "\n",
              "  @keyframes spin {\n",
              "    0% {\n",
              "      border-color: transparent;\n",
              "      border-bottom-color: var(--fill-color);\n",
              "      border-left-color: var(--fill-color);\n",
              "    }\n",
              "    20% {\n",
              "      border-color: transparent;\n",
              "      border-left-color: var(--fill-color);\n",
              "      border-top-color: var(--fill-color);\n",
              "    }\n",
              "    30% {\n",
              "      border-color: transparent;\n",
              "      border-left-color: var(--fill-color);\n",
              "      border-top-color: var(--fill-color);\n",
              "      border-right-color: var(--fill-color);\n",
              "    }\n",
              "    40% {\n",
              "      border-color: transparent;\n",
              "      border-right-color: var(--fill-color);\n",
              "      border-top-color: var(--fill-color);\n",
              "    }\n",
              "    60% {\n",
              "      border-color: transparent;\n",
              "      border-right-color: var(--fill-color);\n",
              "    }\n",
              "    80% {\n",
              "      border-color: transparent;\n",
              "      border-right-color: var(--fill-color);\n",
              "      border-bottom-color: var(--fill-color);\n",
              "    }\n",
              "    90% {\n",
              "      border-color: transparent;\n",
              "      border-bottom-color: var(--fill-color);\n",
              "    }\n",
              "  }\n",
              "</style>\n",
              "\n",
              "      <script>\n",
              "        async function quickchart(key) {\n",
              "          const quickchartButtonEl =\n",
              "            document.querySelector('#' + key + ' button');\n",
              "          quickchartButtonEl.disabled = true;  // To prevent multiple clicks.\n",
              "          quickchartButtonEl.classList.add('colab-df-spinner');\n",
              "          try {\n",
              "            const charts = await google.colab.kernel.invokeFunction(\n",
              "                'suggestCharts', [key], {});\n",
              "          } catch (error) {\n",
              "            console.error('Error during call to suggestCharts:', error);\n",
              "          }\n",
              "          quickchartButtonEl.classList.remove('colab-df-spinner');\n",
              "          quickchartButtonEl.classList.add('colab-df-quickchart-complete');\n",
              "        }\n",
              "        (() => {\n",
              "          let quickchartButtonEl =\n",
              "            document.querySelector('#df-959728a5-0265-4dd8-916d-31c7c28add30 button');\n",
              "          quickchartButtonEl.style.display =\n",
              "            google.colab.kernel.accessAllowed ? 'block' : 'none';\n",
              "        })();\n",
              "      </script>\n",
              "    </div>\n",
              "\n",
              "  <div id=\"id_138c611b-68f8-4ac2-bffc-d8df9295a8d5\">\n",
              "    <style>\n",
              "      .colab-df-generate {\n",
              "        background-color: #E8F0FE;\n",
              "        border: none;\n",
              "        border-radius: 50%;\n",
              "        cursor: pointer;\n",
              "        display: none;\n",
              "        fill: #1967D2;\n",
              "        height: 32px;\n",
              "        padding: 0 0 0 0;\n",
              "        width: 32px;\n",
              "      }\n",
              "\n",
              "      .colab-df-generate:hover {\n",
              "        background-color: #E2EBFA;\n",
              "        box-shadow: 0px 1px 2px rgba(60, 64, 67, 0.3), 0px 1px 3px 1px rgba(60, 64, 67, 0.15);\n",
              "        fill: #174EA6;\n",
              "      }\n",
              "\n",
              "      [theme=dark] .colab-df-generate {\n",
              "        background-color: #3B4455;\n",
              "        fill: #D2E3FC;\n",
              "      }\n",
              "\n",
              "      [theme=dark] .colab-df-generate:hover {\n",
              "        background-color: #434B5C;\n",
              "        box-shadow: 0px 1px 3px 1px rgba(0, 0, 0, 0.15);\n",
              "        filter: drop-shadow(0px 1px 2px rgba(0, 0, 0, 0.3));\n",
              "        fill: #FFFFFF;\n",
              "      }\n",
              "    </style>\n",
              "    <button class=\"colab-df-generate\" onclick=\"generateWithVariable('df')\"\n",
              "            title=\"Generate code using this dataframe.\"\n",
              "            style=\"display:none;\">\n",
              "\n",
              "  <svg xmlns=\"http://www.w3.org/2000/svg\" height=\"24px\"viewBox=\"0 0 24 24\"\n",
              "       width=\"24px\">\n",
              "    <path d=\"M7,19H8.4L18.45,9,17,7.55,7,17.6ZM5,21V16.75L18.45,3.32a2,2,0,0,1,2.83,0l1.4,1.43a1.91,1.91,0,0,1,.58,1.4,1.91,1.91,0,0,1-.58,1.4L9.25,21ZM18.45,9,17,7.55Zm-12,3A5.31,5.31,0,0,0,4.9,8.1,5.31,5.31,0,0,0,1,6.5,5.31,5.31,0,0,0,4.9,4.9,5.31,5.31,0,0,0,6.5,1,5.31,5.31,0,0,0,8.1,4.9,5.31,5.31,0,0,0,12,6.5,5.46,5.46,0,0,0,6.5,12Z\"/>\n",
              "  </svg>\n",
              "    </button>\n",
              "    <script>\n",
              "      (() => {\n",
              "      const buttonEl =\n",
              "        document.querySelector('#id_138c611b-68f8-4ac2-bffc-d8df9295a8d5 button.colab-df-generate');\n",
              "      buttonEl.style.display =\n",
              "        google.colab.kernel.accessAllowed ? 'block' : 'none';\n",
              "\n",
              "      buttonEl.onclick = () => {\n",
              "        google.colab.notebook.generateWithVariable('df');\n",
              "      }\n",
              "      })();\n",
              "    </script>\n",
              "  </div>\n",
              "\n",
              "    </div>\n",
              "  </div>\n"
            ],
            "application/vnd.google.colaboratory.intrinsic+json": {
              "type": "dataframe",
              "variable_name": "df",
              "summary": "{\n  \"name\": \"df\",\n  \"rows\": 5,\n  \"fields\": [\n    {\n      \"column\": \"Index\",\n      \"properties\": {\n        \"dtype\": \"number\",\n        \"std\": 1,\n        \"min\": 1,\n        \"max\": 5,\n        \"num_unique_values\": 5,\n        \"samples\": [\n          2,\n          5,\n          3\n        ],\n        \"semantic_type\": \"\",\n        \"description\": \"\"\n      }\n    },\n    {\n      \"column\": \"Score\",\n      \"properties\": {\n        \"dtype\": \"number\",\n        \"std\": 0.01273766069574786,\n        \"min\": 0.4641,\n        \"max\": 0.497,\n        \"num_unique_values\": 5,\n        \"samples\": [\n          0.4796,\n          0.497,\n          0.4802\n        ],\n        \"semantic_type\": \"\",\n        \"description\": \"\"\n      }\n    },\n    {\n      \"column\": \"Preview\",\n      \"properties\": {\n        \"dtype\": \"string\",\n        \"num_unique_values\": 5,\n        \"samples\": [\n          \"Spring Boot, MySQL, Spring WebSocket-BE(\\ubc31\\uc5d4\\ub4dc): React Native, TanStack Query, Axios\\ucf54\\ub529 \\uacf5\\ubaa8\\uc804 \\uc218\\u00ec\\u0192\\ufffd\\u00ec\\ufffd'\\u00ec\\ufffd\\u20ac \\ub300\\ud559\\u00ec\\u0192\\ufffd\\ub4e4\\u00ec\\ufffd\\u02dc \\ud300\\ud504\\ub85c\\u00ec\\u00a0\\ufffd\\ud2b8\\u00eb\\u00a5...\",\n          \"\\ub300\\ud55c \\ud53c\\ub4dc\\ubc31\\ufffd \\ubc1b\\ufffd \\uc218 \\ufffd\\ub294 \\ufffd\\uac00 \\uae30\\ub2a5\\uacfc \\ud559\\ufffd\\ufffd \\ufffd\\ud574\\ufffd\\ub97c \\ud14c\\uc2a4\\ud2b8 \\ud560 \\uc218 \\ufffd\\ub294 \\ud034\\uc988 \\ufffd\\uc131 \\uae30\\ub2a5\\ufffd \\ufffd\\uc5b4 \\ud544\\uc694\\ud55c \\uacbd\\uc6b0...\",\n          \"\\ufffd\\uc5b4\\uc838 \\ufffd\\uace0, \\uc2e0\\ub8b0\\ud560 \\ub9cc\\ud55c \\uc815\\ubcf4\\ub97c \\ucc3e\\uae30 \\uc5b4\\ub824\\uc6e0\\uc2b5\\ub2c8\\ub2e4.<Crewing>\\ufffd \\ub300\\ud559\\ufffd\\ub4e4\\ufffd \\ub2e4\\uc591\\ud55c \\uc5f0\\ud569 \\ufffd\\uc544\\ub9ac\\ufffd \\uc27d\\uac8c \\uac00\\ufffd\\ud558\\uace0,...\"\n        ],\n        \"semantic_type\": \"\",\n        \"description\": \"\"\n      }\n    }\n  ]\n}"
            }
          },
          "metadata": {}
        }
      ]
    },
    {
      "cell_type": "markdown",
      "source": [
        "📊 문서 임베딩 분포 시각화 (2D)\n",
        "1. 벡터들을 PCA / t-SNE로 2D로 축소해 플롯\n",
        "2. 어떤 문서가 질문과 가까운지 시각적으로 확인 가능"
      ],
      "metadata": {
        "id": "d9G5w3P9Ze0k"
      }
    },
    {
      "cell_type": "code",
      "source": [
        "from sklearn.decomposition import PCA\n",
        "import matplotlib.pyplot as plt\n",
        "\n",
        "# 전체 문서 벡터 추출\n",
        "all_docs = vectorstore._collection.get(include=['embeddings'])  # Chroma 내부 구조 접근\n",
        "vectors = all_docs['embeddings']\n",
        "\n",
        "# PCA로 2차원 축소\n",
        "pca = PCA(n_components=2)\n",
        "reduced = pca.fit_transform(vectors)\n",
        "\n",
        "# 시각화\n",
        "plt.scatter(reduced[:, 0], reduced[:, 1], alpha=0.3)\n",
        "plt.title(\"Document Embedding Distribution (PCA)\")\n",
        "plt.xlabel(\"PC1\")\n",
        "plt.ylabel(\"PC2\")\n",
        "plt.show()"
      ],
      "metadata": {
        "id": "pSXxCzCNJfIO",
        "outputId": "ef0fe52a-1497-45b1-e1ee-7e3d4f435649",
        "colab": {
          "base_uri": "https://localhost:8080/",
          "height": 472
        }
      },
      "execution_count": 27,
      "outputs": [
        {
          "output_type": "display_data",
          "data": {
            "text/plain": [
              "<Figure size 640x480 with 1 Axes>"
            ],
            "image/png": "[encoded data removed]"
          },
          "metadata": {}
        }
      ]
    },
    {
      "cell_type": "code",
      "source": [
        "for i, doc in enumerate(retrieved_docs):\n",
        "    print(f\"\\n--- Retrieved Doc #{i+1} ---\")\n",
        "    print(doc.page_content[:300] + \"...\")\n",
        "print(f\"\\n--- Final LLM Response ---\\n{response.content}\")"
      ],
      "metadata": {
        "id": "oSnLu30fZmNt",
        "outputId": "d93c1736-34f1-4296-f708-52f4cae56a5b",
        "colab": {
          "base_uri": "https://localhost:8080/"
        }
      },
      "execution_count": 28,
      "outputs": [
        {
          "output_type": "stream",
          "name": "stdout",
          "text": [
            "\n",
            "--- Retrieved Doc #1 ---\n",
            "ì„œë¹„ìŠ¤ë¥¼ ë§Œë‚˜ë³´ê³  ì‹¶ë‹¤ë©´?ë‹¤ì–‘í•œ ì„œë¹„ìŠ¤ì™€ ê¸°ë°œí•œ ì•„ì�´ë””ì–´ê°€ ëª¨ì�¸ ê³³ì—� ì´ˆëŒ€í•©ë‹ˆë‹¤. ì°¸ê°€ì��ë“¤ì�˜ ë¬¸ì œ í•´ê²°ë°©ë²•ì�´ ê¶�ê¸ˆí•˜ì‹œë‹¤ë©´ ì§€ê¸ˆ ë°”ë¡œ â€˜All-in ê³µëª¨ì „â€™ì—�ì„œ ë§Œë‚˜ë³´ì„¸ìš”!ğŸ‘‰ğŸ�»Â ê³µëª¨ì „ ê²°ê³¼ë¬¼ ë³´ëŸ¬ê°€ê¸°ëˆ„êµ¬ë‚˜ í�°ì�¼ ë‚¼ ìˆ˜ ...\n",
            "\n",
            "--- Retrieved Doc #2 ---\n",
            "Spring Boot, MySQL, Spring WebSocket-BE(ë°±ì—”ë“œ): React Native, TanStack Query, Axiosì½”ë”© ê³µëª¨ì „ ìˆ˜ìƒ�ì�‘ì�€ ëŒ€í•™ìƒ�ë“¤ì�˜ íŒ€í”„ë¡œì �íŠ¸ë¥¼ í†µí•´ ë§Œë“¤ì–´ì§„ ì›¹/ì•± ì„œë¹„ìŠ¤ì�…ë‹ˆë‹¤. ìº í�¼ìŠ¤ì—�ì„œì�˜ ë¬¸ì œë¥¼ í•´ê²°í•˜ì��ëŠ” ì°¸ê°€ì��ë“¤ì�˜ ì•„ì�´ë””ì–´ì—�ì„œ ì‹œì�‘ë�˜ì—ˆì£ . ëˆ„...\n",
            "\n",
            "--- Retrieved Doc #3 ---\n",
            "í�©ì–´ì ¸ ì�ˆê³ , ì‹ ë¢°í•  ë§Œí•œ ì •ë³´ë¥¼ ì°¾ê¸° ì–´ë ¤ì› ìŠµë‹ˆë‹¤.<Crewing>ì�€ ëŒ€í•™ìƒ�ë“¤ì�´ ë‹¤ì–‘í•œ ì—°í•© ë�™ì•„ë¦¬ì—� ì‰½ê²Œ ê°€ì�…í•˜ê³ , ì �ì ˆí•œ ë�™ì•„ë¦¬ë¥¼ ì°¾ì�„ ìˆ˜ ì�ˆë�„ë¡� ì§€ì›�í•´ì£¼ëŠ” ì•„ì¹´ì�´ë¹™ í”Œë�«í�¼ì�…ë‹ˆë‹¤. íšŒì›�ê°€ì�… ì‹œ ìƒ�ë…„, ì„±ë³„, ê´€ì‹¬ ë¶„ì•¼ë¥¼ ì�…ë ¥...\n",
            "\n",
            "--- Retrieved Doc #4 ---\n",
            "ê¸°ìˆ  ìŠ¤íƒ� -FE(í”„ë¡ íŠ¸ì—”ë“œ): Spring Boot, Redis, MySQL-BE(ë°±ì—”ë“œ): SwiftUI Framework, OAuth 2.0ğŸ�…Â ì�…ì„ [í•™êµ�ìƒ�í™œ ë§¤ë‹ˆì €] í•™êµ�ìƒ�í™œ ê´€ë¦¬ ì„œë¹„ìŠ¤ì„œë¹„ìŠ¤ ì œì�‘ì��: ì•„ì�´ì¹¼F4(ì¡°ë¯¼ì œ, ì�´ë¯¼ê¸°, ê°•ê±´, ë°•ê·¼ìš°)ğŸ’¡AëŠ” ì˜¬í•´ ë³µí•™í•œ 3í•™ë…„ í•™ìƒ�ì�…ë‹ˆë‹¤. ê°•ì�...\n",
            "\n",
            "--- Final LLM Response ---\n",
            "모든 코딩 공모전 수상작들은 다양한 기술 스택을 활용하여 독창적인 프로젝트를 선보였습니다. 예를 들어, Spring Boot와 MySQL을 활용한 백엔드와 React Native로 개발된 모바일 애플리케이션이 주를 이룹니다. 또한, 수상작들은 실용성과 혁신성을 바탕으로 평가되어 높은 점수를 받았습니다.\n"
          ]
        }
      ]
    }
  ]
}