{
  "nbformat": 4,
  "nbformat_minor": 0,
  "metadata": {
    "colab": {
      "provenance": [],
      "gpuType": "T4",
      "authorship_tag": "ABX9TyPUhpu3ki4P6S9RyTp8lUdm",
      "include_colab_link": true
    },
    "kernelspec": {
      "name": "python3",
      "display_name": "Python 3"
    },
    "language_info": {
      "name": "python"
    },
    "accelerator": "GPU"
  },
  "cells": [
    {
      "cell_type": "markdown",
      "metadata": {
        "id": "view-in-github",
        "colab_type": "text"
      },
      "source": [
        "<a href=\"https://colab.research.google.com/github/HyunMiPark/study_AI/blob/main/%5B1%EC%A3%BC%EC%B0%A8%5D_%EC%8B%AC%ED%99%94%EA%B3%BC%EC%A0%9C_MNIST_ipynb\" target=\"_parent\"><img src=\"https://colab.research.google.com/assets/colab-badge.svg\" alt=\"Open In Colab\"/></a>"
      ]
    },
    {
      "cell_type": "markdown",
      "source": [
        "- CIFAR-10 데이터셋을 이용하여 여러 신경망 모델 훈련\n",
        "- SGD / Adam 옵티마이저, 활성화 함수(ReLU, Sigmoid), Dropout 적용 여부에 따른 학습 성능 차이 비교"
      ],
      "metadata": {
        "id": "b-lBb3YhoLM-"
      }
    },
    {
      "cell_type": "code",
      "execution_count": 1,
      "metadata": {
        "id": "Q53PGxjuEidd"
      },
      "outputs": [],
      "source": [
        "import torch\n",
        "import torchvision\n",
        "import torchvision.transforms as transforms\n",
        "import numpy as np\n",
        "import matplotlib.pyplot as plt"
      ]
    },
    {
      "cell_type": "code",
      "source": [
        "def accuracy(model, dataloader):\n",
        "  cnt = 0\n",
        "  acc = 0\n",
        "\n",
        "  for data in dataloader:\n",
        "    inputs, labels = data\n",
        "    inputs, labels = inputs.to('cuda'), labels.to('cuda')\n",
        "\n",
        "    preds = model(inputs)\n",
        "    preds = torch.argmax(preds, dim=-1)\n",
        "\n",
        "    cnt += labels.shape[0]\n",
        "    acc += (labels == preds).sum().item()\n",
        "\n",
        "  return acc / cnt\n",
        "\n",
        "\n",
        "def plot_acc(train_accs, test_accs, label1='train', label2='test'):\n",
        "  x = np.arange(len(train_accs))\n",
        "\n",
        "  plt.plot(x, train_accs, label=label1)\n",
        "  plt.plot(x, test_accs, label=label2)\n",
        "  plt.legend()\n",
        "  plt.show()"
      ],
      "metadata": {
        "id": "_kO0TK1EtJOI"
      },
      "execution_count": 2,
      "outputs": []
    },
    {
      "cell_type": "code",
      "source": [
        "#데이터셋 로딩(CIFAR-10)\n",
        "transform = transforms.ToTensor()\n",
        "\n",
        "trainset = torchvision.datasets.CIFAR10(\n",
        "    root='./data',\n",
        "    train=True,\n",
        "    download=True,\n",
        "    transform=transform\n",
        ")\n",
        "testset = torchvision.datasets.CIFAR10(\n",
        "    root='./data',\n",
        "    train=False,\n",
        "    download=True,\n",
        "    transform=transform\n",
        ")"
      ],
      "metadata": {
        "id": "lemOSOgSFYcM",
        "colab": {
          "base_uri": "https://localhost:8080/"
        },
        "outputId": "996c7f51-803e-404e-a08c-95b2fa8f04f5"
      },
      "execution_count": 3,
      "outputs": [
        {
          "output_type": "stream",
          "name": "stderr",
          "text": [
            "100%|██████████| 170M/170M [00:03<00:00, 49.0MB/s]\n"
          ]
        }
      ]
    },
    {
      "cell_type": "code",
      "source": [
        "batch_size = 256\n",
        "\n",
        "trainloader = torch.utils.data.DataLoader(\n",
        "    trainset,\n",
        "    batch_size=batch_size,\n",
        "    shuffle=True\n",
        ")\n",
        "testloader = torch.utils.data.DataLoader(\n",
        "    testset,\n",
        "    batch_size=batch_size,\n",
        "    shuffle=False\n",
        ")"
      ],
      "metadata": {
        "id": "a7UqwXEkGKMP"
      },
      "execution_count": 5,
      "outputs": []
    },
    {
      "cell_type": "code",
      "source": [
        "from torch import nn\n",
        "\n",
        "#LeakyReLU : 작은값을 유지, 기울기 소실문제(Vanishing Gradient)를 완화하는 효과\n",
        "#ReLU : 음수 값을 0으로 만듬\n",
        "class Model1(nn.Module):\n",
        "  def __init__(self, input_dim, n_dim):\n",
        "    super().__init__()\n",
        "\n",
        "    self.layer1 = nn.Linear(input_dim, n_dim)\n",
        "    self.layer2 = nn.Linear(n_dim, n_dim)\n",
        "    self.layer3 = nn.Linear(n_dim, 10)\n",
        "\n",
        "    self.act = nn.LeakyReLU()\n",
        "\n",
        "  def forward(self, x):\n",
        "    x = torch.flatten(x, start_dim=1)\n",
        "    x = self.act(self.layer1(x))\n",
        "    x = self.act(self.layer2(x))\n",
        "    x = self.act(self.layer3(x))\n",
        "\n",
        "    return x"
      ],
      "metadata": {
        "id": "1ZJsqsuRH0Ea"
      },
      "execution_count": 6,
      "outputs": []
    },
    {
      "cell_type": "code",
      "source": [
        "# SGD(확률적 경사 하강법) : 단순한 기울기 기반 업데이트 -> 수렴 속도가 느릴 수 있음\n",
        "from torch.optim import SGD, Adam\n",
        "\n",
        "lr = 0.001\n",
        "\n",
        "model = Model1(32 * 32 * 3, 1024)\n",
        "model = model.to('cuda')\n",
        "\n",
        "optimizer = SGD(model.parameters(), lr=lr)\n",
        "\n",
        "n_epochs = 50\n",
        "loss_fn = nn.CrossEntropyLoss()\n",
        "\n",
        "train_sgd = []\n",
        "\n",
        "for epoch in range(n_epochs):\n",
        "  total_loss = 0.\n",
        "  for data in trainloader:\n",
        "    model.zero_grad()\n",
        "    inputs, labels = data\n",
        "    inputs, labels = inputs.to('cuda'), labels.to('cuda')\n",
        "\n",
        "    preds = model(inputs)\n",
        "    loss = loss_fn(preds, labels)\n",
        "    loss.backward()\n",
        "    optimizer.step()\n",
        "\n",
        "    total_loss += loss.item()\n",
        "\n",
        "  train_sgd.append(accuracy(model, trainloader))\n",
        "\n",
        "  print(f\"Epoch {epoch + 1:3d} | Loss: {total_loss}\")"
      ],
      "metadata": {
        "colab": {
          "base_uri": "https://localhost:8080/"
        },
        "id": "n-txU48Evc3H",
        "outputId": "c354c1de-0db0-44fc-aca5-bccdd8382193"
      },
      "execution_count": 7,
      "outputs": [
        {
          "output_type": "stream",
          "name": "stdout",
          "text": [
            "Epoch   1 | Loss: 451.3142206668854\n",
            "Epoch   2 | Loss: 450.7589888572693\n",
            "Epoch   3 | Loss: 450.17997670173645\n",
            "Epoch   4 | Loss: 449.62390065193176\n",
            "Epoch   5 | Loss: 448.73684191703796\n",
            "Epoch   6 | Loss: 447.77206444740295\n",
            "Epoch   7 | Loss: 446.90073347091675\n",
            "Epoch   8 | Loss: 446.0449757575989\n",
            "Epoch   9 | Loss: 445.18803238868713\n",
            "Epoch  10 | Loss: 444.2716679573059\n",
            "Epoch  11 | Loss: 443.39410638809204\n",
            "Epoch  12 | Loss: 442.47794127464294\n",
            "Epoch  13 | Loss: 441.54499220848083\n",
            "Epoch  14 | Loss: 440.5761218070984\n",
            "Epoch  15 | Loss: 439.66264367103577\n",
            "Epoch  16 | Loss: 438.6852161884308\n",
            "Epoch  17 | Loss: 437.7396638393402\n",
            "Epoch  18 | Loss: 436.81733417510986\n",
            "Epoch  19 | Loss: 435.91391468048096\n",
            "Epoch  20 | Loss: 435.0182144641876\n",
            "Epoch  21 | Loss: 434.15086555480957\n",
            "Epoch  22 | Loss: 433.34969449043274\n",
            "Epoch  23 | Loss: 432.54061913490295\n",
            "Epoch  24 | Loss: 431.7195580005646\n",
            "Epoch  25 | Loss: 431.01500630378723\n",
            "Epoch  26 | Loss: 430.20491194725037\n",
            "Epoch  27 | Loss: 429.12476086616516\n",
            "Epoch  28 | Loss: 428.1588156223297\n",
            "Epoch  29 | Loss: 427.3328559398651\n",
            "Epoch  30 | Loss: 426.40727186203003\n",
            "Epoch  31 | Loss: 423.48243498802185\n",
            "Epoch  32 | Loss: 421.3259038925171\n",
            "Epoch  33 | Loss: 419.80679392814636\n",
            "Epoch  34 | Loss: 418.34602403640747\n",
            "Epoch  35 | Loss: 417.0500707626343\n",
            "Epoch  36 | Loss: 415.7826211452484\n",
            "Epoch  37 | Loss: 414.528785943985\n",
            "Epoch  38 | Loss: 413.32819652557373\n",
            "Epoch  39 | Loss: 412.07749032974243\n",
            "Epoch  40 | Loss: 411.02899074554443\n",
            "Epoch  41 | Loss: 409.97419023513794\n",
            "Epoch  42 | Loss: 408.89469170570374\n",
            "Epoch  43 | Loss: 407.8671877384186\n",
            "Epoch  44 | Loss: 406.8553159236908\n",
            "Epoch  45 | Loss: 404.8993669748306\n",
            "Epoch  46 | Loss: 401.9943861961365\n",
            "Epoch  47 | Loss: 400.28984558582306\n",
            "Epoch  48 | Loss: 398.92619574069977\n",
            "Epoch  49 | Loss: 397.73967015743256\n",
            "Epoch  50 | Loss: 396.5339069366455\n"
          ]
        }
      ]
    },
    {
      "cell_type": "code",
      "source": [
        "from torch.optim import Adam\n",
        "\n",
        "# ADAM : 학습률을 자동 조정해 빠르게 수렴 가능\n",
        "model = Model1(32 * 32 * 3, 1024)\n",
        "model = model.to('cuda')\n",
        "\n",
        "optimizer = Adam(model.parameters(), lr=lr)\n",
        "\n",
        "train_adam = []\n",
        "test_adam = []\n",
        "\n",
        "for epoch in range(n_epochs):\n",
        "  total_loss = 0.\n",
        "  for data in trainloader:\n",
        "    model.zero_grad()\n",
        "    inputs, labels = data\n",
        "    inputs, labels = inputs.to('cuda'), labels.to('cuda')\n",
        "\n",
        "    preds = model(inputs)\n",
        "    loss = loss_fn(preds, labels)\n",
        "    loss.backward() #기울기 계산\n",
        "    optimizer.step() #가중치 업데이트\n",
        "\n",
        "    total_loss += loss.item()\n",
        "\n",
        "  train_adam.append(accuracy(model, trainloader))\n",
        "  test_adam.append(accuracy(model, testloader))\n",
        "\n",
        "  print(f\"Epoch {epoch + 1:3d} | Loss: {total_loss}\")"
      ],
      "metadata": {
        "colab": {
          "base_uri": "https://localhost:8080/"
        },
        "id": "B1ifFAFkyvEi",
        "outputId": "28d6421e-c0db-4379-c65b-6c22653581da"
      },
      "execution_count": 8,
      "outputs": [
        {
          "output_type": "stream",
          "name": "stdout",
          "text": [
            "Epoch   1 | Loss: 422.4851830005646\n",
            "Epoch   2 | Loss: 378.60381734371185\n",
            "Epoch   3 | Loss: 357.7653912305832\n",
            "Epoch   4 | Loss: 342.7963856458664\n",
            "Epoch   5 | Loss: 331.89072251319885\n",
            "Epoch   6 | Loss: 321.37467527389526\n",
            "Epoch   7 | Loss: 313.5584205389023\n",
            "Epoch   8 | Loss: 307.0436257123947\n",
            "Epoch   9 | Loss: 300.2397507429123\n",
            "Epoch  10 | Loss: 295.27877831459045\n",
            "Epoch  11 | Loss: 289.7708908319473\n",
            "Epoch  12 | Loss: 284.0208469629288\n",
            "Epoch  13 | Loss: 280.13644099235535\n",
            "Epoch  14 | Loss: 276.51952171325684\n",
            "Epoch  15 | Loss: 272.34070801734924\n",
            "Epoch  16 | Loss: 267.49226915836334\n",
            "Epoch  17 | Loss: 264.1307156085968\n",
            "Epoch  18 | Loss: 259.02687323093414\n",
            "Epoch  19 | Loss: 257.47363328933716\n",
            "Epoch  20 | Loss: 252.56691944599152\n",
            "Epoch  21 | Loss: 251.01818120479584\n",
            "Epoch  22 | Loss: 245.08542239665985\n",
            "Epoch  23 | Loss: 242.72984719276428\n",
            "Epoch  24 | Loss: 239.04570627212524\n",
            "Epoch  25 | Loss: 237.57079076766968\n",
            "Epoch  26 | Loss: 234.95506143569946\n",
            "Epoch  27 | Loss: 229.33607757091522\n",
            "Epoch  28 | Loss: 225.15891987085342\n",
            "Epoch  29 | Loss: 227.58345419168472\n",
            "Epoch  30 | Loss: 219.87069714069366\n",
            "Epoch  31 | Loss: 217.62494659423828\n",
            "Epoch  32 | Loss: 213.26212060451508\n",
            "Epoch  33 | Loss: 215.26326102018356\n",
            "Epoch  34 | Loss: 207.28749972581863\n",
            "Epoch  35 | Loss: 204.22772228717804\n",
            "Epoch  36 | Loss: 203.47971802949905\n",
            "Epoch  37 | Loss: 199.84581172466278\n",
            "Epoch  38 | Loss: 195.3152836561203\n",
            "Epoch  39 | Loss: 197.40884190797806\n",
            "Epoch  40 | Loss: 192.04926365613937\n",
            "Epoch  41 | Loss: 185.62052470445633\n",
            "Epoch  42 | Loss: 186.1707422733307\n",
            "Epoch  43 | Loss: 182.71421563625336\n",
            "Epoch  44 | Loss: 181.17410469055176\n",
            "Epoch  45 | Loss: 174.33405578136444\n",
            "Epoch  46 | Loss: 182.82330787181854\n",
            "Epoch  47 | Loss: 170.45335376262665\n",
            "Epoch  48 | Loss: 166.98441392183304\n",
            "Epoch  49 | Loss: 162.75603353977203\n",
            "Epoch  50 | Loss: 161.27687275409698\n"
          ]
        }
      ]
    },
    {
      "cell_type": "code",
      "source": [
        "#SGD / Adam 수치 비교 : Adam이 빠르게 수렴하고 손실이 적음\n",
        "plot_acc(train_sgd, train_adam, 'sgd', 'adam')"
      ],
      "metadata": {
        "colab": {
          "base_uri": "https://localhost:8080/",
          "height": 430
        },
        "id": "sxGzaq5F5w4m",
        "outputId": "2c0ed525-2202-49b7-fcfe-c2e72c60a33b"
      },
      "execution_count": 9,
      "outputs": [
        {
          "output_type": "display_data",
          "data": {
            "text/plain": [
              "<Figure size 640x480 with 1 Axes>"
            ],
            "image/png": "[encoded data removed]"
          },
          "metadata": {}
        }
      ]
    },
    {
      "cell_type": "code",
      "source": [
        "class Model2(nn.Module):\n",
        "  def __init__(self, input_dim, n_dim):\n",
        "    super().__init__()\n",
        "\n",
        "    self.layer1 = nn.Linear(input_dim, n_dim)\n",
        "    self.layer2 = nn.Linear(n_dim, n_dim)\n",
        "    self.layer3 = nn.Linear(n_dim, 10)\n",
        "\n",
        "    self.act = nn.Sigmoid() #Sigmoid 활성화 함수\n",
        "    #출력값을 0~1로 제한 -> 다층 신경망에서는 기울기 소실 문제 발생 가능\n",
        "    #ReLu 대비 학습 속도가 느리고 성능이 낮을 수 있음\n",
        "\n",
        "  def forward(self, x):\n",
        "    x = torch.flatten(x, start_dim=1)\n",
        "    x = self.act(self.layer1(x))\n",
        "    x = self.act(self.layer2(x))\n",
        "    x = self.act(self.layer3(x))\n",
        "\n",
        "    return x"
      ],
      "metadata": {
        "id": "8PaNj39crTLl"
      },
      "execution_count": 10,
      "outputs": []
    },
    {
      "cell_type": "code",
      "source": [
        "model = Model2(32 * 32 * 3, 1024)\n",
        "model = model.to('cuda')\n",
        "\n",
        "optimizer = Adam(model.parameters(), lr=lr)\n",
        "\n",
        "train_sigmoid = []\n",
        "\n",
        "for epoch in range(n_epochs):\n",
        "  total_loss = 0.\n",
        "  for data in trainloader:\n",
        "    model.zero_grad()\n",
        "    inputs, labels = data\n",
        "    inputs, labels = inputs.to('cuda'), labels.to('cuda')\n",
        "\n",
        "    preds = model(inputs)\n",
        "    loss = loss_fn(preds, labels)\n",
        "    loss.backward()\n",
        "    optimizer.step()\n",
        "\n",
        "    total_loss += loss.item()\n",
        "\n",
        "  train_sigmoid.append(accuracy(model, trainloader))\n",
        "\n",
        "  print(f\"Epoch {epoch + 1:3d} | Loss: {total_loss}\")"
      ],
      "metadata": {
        "id": "B9Vdu8qZrfSm",
        "colab": {
          "base_uri": "https://localhost:8080/"
        },
        "outputId": "f03eec97-fdf3-4847-913c-20a49324c0ac"
      },
      "execution_count": 11,
      "outputs": [
        {
          "output_type": "stream",
          "name": "stdout",
          "text": [
            "Epoch   1 | Loss: 411.4123178720474\n",
            "Epoch   2 | Loss: 393.3638446331024\n",
            "Epoch   3 | Loss: 387.7136093378067\n",
            "Epoch   4 | Loss: 384.1003520488739\n",
            "Epoch   5 | Loss: 380.89664483070374\n",
            "Epoch   6 | Loss: 379.79056322574615\n",
            "Epoch   7 | Loss: 378.19191777706146\n",
            "Epoch   8 | Loss: 376.4157272577286\n",
            "Epoch   9 | Loss: 374.6582819223404\n",
            "Epoch  10 | Loss: 374.0210738182068\n",
            "Epoch  11 | Loss: 372.48255729675293\n",
            "Epoch  12 | Loss: 370.83071744441986\n",
            "Epoch  13 | Loss: 370.0696905851364\n",
            "Epoch  14 | Loss: 369.3941205739975\n",
            "Epoch  15 | Loss: 368.0105903148651\n",
            "Epoch  16 | Loss: 367.0620583295822\n",
            "Epoch  17 | Loss: 367.03617680072784\n",
            "Epoch  18 | Loss: 365.95124554634094\n",
            "Epoch  19 | Loss: 365.4056432247162\n",
            "Epoch  20 | Loss: 364.66480803489685\n",
            "Epoch  21 | Loss: 363.57769227027893\n",
            "Epoch  22 | Loss: 363.67157220840454\n",
            "Epoch  23 | Loss: 363.09338426589966\n",
            "Epoch  24 | Loss: 363.22794675827026\n",
            "Epoch  25 | Loss: 361.68880248069763\n",
            "Epoch  26 | Loss: 361.6912463903427\n",
            "Epoch  27 | Loss: 361.00252425670624\n",
            "Epoch  28 | Loss: 360.1757570505142\n",
            "Epoch  29 | Loss: 359.9595708847046\n",
            "Epoch  30 | Loss: 359.4381437301636\n",
            "Epoch  31 | Loss: 357.9132021665573\n",
            "Epoch  32 | Loss: 357.57883954048157\n",
            "Epoch  33 | Loss: 356.952140212059\n",
            "Epoch  34 | Loss: 356.99170982837677\n",
            "Epoch  35 | Loss: 356.3464422225952\n",
            "Epoch  36 | Loss: 355.9298573732376\n",
            "Epoch  37 | Loss: 356.26898658275604\n",
            "Epoch  38 | Loss: 355.45642721652985\n",
            "Epoch  39 | Loss: 355.28337574005127\n",
            "Epoch  40 | Loss: 355.0443904399872\n",
            "Epoch  41 | Loss: 354.59873509407043\n",
            "Epoch  42 | Loss: 354.4372069835663\n",
            "Epoch  43 | Loss: 353.3571082353592\n",
            "Epoch  44 | Loss: 353.8604041337967\n",
            "Epoch  45 | Loss: 352.9623246192932\n",
            "Epoch  46 | Loss: 352.430380821228\n",
            "Epoch  47 | Loss: 352.26151967048645\n",
            "Epoch  48 | Loss: 352.93726563453674\n",
            "Epoch  49 | Loss: 351.25284802913666\n",
            "Epoch  50 | Loss: 351.4803783893585\n"
          ]
        }
      ]
    },
    {
      "cell_type": "code",
      "source": [
        "#ReLu / Sigmoid 비교 : ReLu가 성능이 더 좋음(Sigmoid는 기울기 소실 문제 발생)\n",
        "plot_acc(train_adam, train_sigmoid, 'relu', 'sigmoid')"
      ],
      "metadata": {
        "id": "tsuqMevnrkKU",
        "colab": {
          "base_uri": "https://localhost:8080/",
          "height": 430
        },
        "outputId": "928ea2e9-b6d1-42e7-840c-98f22899aa28"
      },
      "execution_count": 12,
      "outputs": [
        {
          "output_type": "display_data",
          "data": {
            "text/plain": [
              "<Figure size 640x480 with 1 Axes>"
            ],
            "image/png": "[encoded data removed]"
          },
          "metadata": {}
        }
      ]
    },
    {
      "cell_type": "code",
      "source": [
        "# Dropout\n",
        "\n",
        "class Model3(nn.Module):\n",
        "  def __init__(self, input_dim, n_dim):\n",
        "    super().__init__()\n",
        "\n",
        "    self.layer1 = nn.Linear(input_dim, n_dim)\n",
        "    self.layer2 = nn.Linear(n_dim, n_dim)\n",
        "    self.layer3 = nn.Linear(n_dim, 10)\n",
        "\n",
        "    self.act = nn.LeakyReLU()\n",
        "    self.dropout = nn.Dropout(p=0.1) #Dropout(10%) 적용\n",
        "    #학습 중 랜덤하게 10%의 뉴런을 비활성화 -> 과적합 방지 효과\n",
        "\n",
        "  def forward(self, x):\n",
        "    x = torch.flatten(x, start_dim=1)\n",
        "    x = self.dropout(self.act(self.layer1(x)))\n",
        "    x = self.dropout(self.act(self.layer2(x)))\n",
        "    x = self.dropout(self.act(self.layer3(x)))\n",
        "\n",
        "    return x"
      ],
      "metadata": {
        "id": "Xmgz1J8wroTp"
      },
      "execution_count": 13,
      "outputs": []
    },
    {
      "cell_type": "code",
      "source": [
        "model = Model3(32 * 32 * 3, 1024)\n",
        "model = model.to('cuda')\n",
        "\n",
        "optimizer = Adam(model.parameters(), lr=lr)\n",
        "\n",
        "train_dropout = []\n",
        "test_dropout = []\n",
        "\n",
        "for epoch in range(n_epochs):\n",
        "  total_loss = 0.\n",
        "  model.train() #Dropout 활성화(학습 중 일부 뉴런 비활성화)\n",
        "  for data in trainloader:\n",
        "    model.zero_grad()\n",
        "    inputs, labels = data\n",
        "    inputs, labels = inputs.to('cuda'), labels.to('cuda')\n",
        "\n",
        "    preds = model(inputs)\n",
        "    loss = loss_fn(preds, labels)\n",
        "    loss.backward()\n",
        "    optimizer.step()\n",
        "\n",
        "    total_loss += loss.item()\n",
        "\n",
        "  with torch.no_grad():\n",
        "    model.eval() #Dropout 비활성화(모든 뉴런 활성화, 평가 시 사용)\n",
        "    train_dropout.append(accuracy(model, trainloader))\n",
        "    test_dropout.append(accuracy(model, testloader))\n",
        "\n",
        "  print(f\"Epoch {epoch + 1:3d} | Loss: {total_loss}\")"
      ],
      "metadata": {
        "id": "kFGkSIctrz6q",
        "colab": {
          "base_uri": "https://localhost:8080/"
        },
        "outputId": "d1476190-24b6-4b9e-aa8d-1fa7f3b819a8"
      },
      "execution_count": 14,
      "outputs": [
        {
          "output_type": "stream",
          "name": "stdout",
          "text": [
            "Epoch   1 | Loss: 439.24549436569214\n",
            "Epoch   2 | Loss: 415.52725625038147\n",
            "Epoch   3 | Loss: 406.4278771877289\n",
            "Epoch   4 | Loss: 396.26446175575256\n",
            "Epoch   5 | Loss: 386.8259166479111\n",
            "Epoch   6 | Loss: 383.82958984375\n",
            "Epoch   7 | Loss: 378.89705073833466\n",
            "Epoch   8 | Loss: 375.4579224586487\n",
            "Epoch   9 | Loss: 372.76012647151947\n",
            "Epoch  10 | Loss: 366.9912431240082\n",
            "Epoch  11 | Loss: 364.15721821784973\n",
            "Epoch  12 | Loss: 359.62161672115326\n",
            "Epoch  13 | Loss: 357.73368656635284\n",
            "Epoch  14 | Loss: 355.1505957841873\n",
            "Epoch  15 | Loss: 353.1620765924454\n",
            "Epoch  16 | Loss: 350.1434768438339\n",
            "Epoch  17 | Loss: 347.9048855304718\n",
            "Epoch  18 | Loss: 347.09117591381073\n",
            "Epoch  19 | Loss: 344.69053971767426\n",
            "Epoch  20 | Loss: 343.232773065567\n",
            "Epoch  21 | Loss: 342.8112407922745\n",
            "Epoch  22 | Loss: 341.70651948451996\n",
            "Epoch  23 | Loss: 339.71719431877136\n",
            "Epoch  24 | Loss: 335.99242746829987\n",
            "Epoch  25 | Loss: 334.7294931411743\n",
            "Epoch  26 | Loss: 334.1421114206314\n",
            "Epoch  27 | Loss: 332.74591398239136\n",
            "Epoch  28 | Loss: 330.83298993110657\n",
            "Epoch  29 | Loss: 329.2579768896103\n",
            "Epoch  30 | Loss: 326.88694071769714\n",
            "Epoch  31 | Loss: 327.36988401412964\n",
            "Epoch  32 | Loss: 324.05618941783905\n",
            "Epoch  33 | Loss: 324.0850316286087\n",
            "Epoch  34 | Loss: 322.1027969121933\n",
            "Epoch  35 | Loss: 322.9532661437988\n",
            "Epoch  36 | Loss: 323.64160990715027\n",
            "Epoch  37 | Loss: 320.00975942611694\n",
            "Epoch  38 | Loss: 319.95468521118164\n",
            "Epoch  39 | Loss: 318.91291904449463\n",
            "Epoch  40 | Loss: 318.0538001060486\n",
            "Epoch  41 | Loss: 316.24441635608673\n",
            "Epoch  42 | Loss: 315.42792415618896\n",
            "Epoch  43 | Loss: 316.19148659706116\n",
            "Epoch  44 | Loss: 313.4195245504379\n",
            "Epoch  45 | Loss: 312.0725539922714\n",
            "Epoch  46 | Loss: 310.4142863750458\n",
            "Epoch  47 | Loss: 310.8414696455002\n",
            "Epoch  48 | Loss: 309.1560288667679\n",
            "Epoch  49 | Loss: 308.0752362012863\n",
            "Epoch  50 | Loss: 307.7791180610657\n"
          ]
        }
      ]
    },
    {
      "cell_type": "code",
      "source": [
        "plot_acc(train_adam, test_adam)"
      ],
      "metadata": {
        "id": "Pa8AeF_Sr1T-",
        "colab": {
          "base_uri": "https://localhost:8080/",
          "height": 430
        },
        "outputId": "250e3adb-d600-4c8f-b90c-fc196f1aa786"
      },
      "execution_count": 15,
      "outputs": [
        {
          "output_type": "display_data",
          "data": {
            "text/plain": [
              "<Figure size 640x480 with 1 Axes>"
            ],
            "image/png": "[encoded data removed]"
          },
          "metadata": {}
        }
      ]
    },
    {
      "cell_type": "code",
      "source": [
        "#Dropout 적용 여부 : Dropout을 사용하면 테스트 정확도가 더 높아짐(과적합 방지)\n",
        "plot_acc(train_dropout, test_dropout)"
      ],
      "metadata": {
        "id": "sPpkS0Gjr4Rj",
        "colab": {
          "base_uri": "https://localhost:8080/",
          "height": 430
        },
        "outputId": "a4673cd6-fb2e-4a90-bc13-93b189eb782d"
      },
      "execution_count": 16,
      "outputs": [
        {
          "output_type": "display_data",
          "data": {
            "text/plain": [
              "<Figure size 640x480 with 1 Axes>"
            ],
            "image/png": "[encoded data removed]"
          },
          "metadata": {}
        }
      ]
    }
  ]
}