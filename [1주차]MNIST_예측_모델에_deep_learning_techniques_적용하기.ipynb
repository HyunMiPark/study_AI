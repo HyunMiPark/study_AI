{
  "nbformat": 4,
  "nbformat_minor": 0,
  "metadata": {
    "colab": {
      "provenance": [],
      "gpuType": "T4",
      "authorship_tag": "ABX9TyNFJ6nt/KvgL68DMAvcBCxN",
      "include_colab_link": true
    },
    "kernelspec": {
      "name": "python3",
      "display_name": "Python 3"
    },
    "language_info": {
      "name": "python"
    },
    "accelerator": "GPU"
  },
  "cells": [
    {
      "cell_type": "markdown",
      "metadata": {
        "id": "view-in-github",
        "colab_type": "text"
      },
      "source": [
        "<a href=\"https://colab.research.google.com/github/HyunMiPark/study_AI/blob/main/%5B1%EC%A3%BC%EC%B0%A8%5DMNIST_%EC%98%88%EC%B8%A1_%EB%AA%A8%EB%8D%B8%EC%97%90_deep_learning_techniques_%EC%A0%81%EC%9A%A9%ED%95%98%EA%B8%B0.ipynb\" target=\"_parent\"><img src=\"https://colab.research.google.com/assets/colab-badge.svg\" alt=\"Open In Colab\"/></a>"
      ]
    },
    {
      "cell_type": "code",
      "execution_count": 2,
      "metadata": {
        "id": "Q53PGxjuEidd"
      },
      "outputs": [],
      "source": [
        "import torch\n",
        "import torchvision\n",
        "import torchvision.transforms as transforms"
      ]
    },
    {
      "cell_type": "code",
      "source": [
        "import numpy as np\n",
        "import matplotlib.pyplot as plt\n",
        "\n",
        "\n",
        "def accuracy(model, dataloader):\n",
        "  cnt = 0\n",
        "  acc = 0\n",
        "\n",
        "  for data in dataloader:\n",
        "    inputs, labels = data\n",
        "    inputs, labels = inputs.to('cuda'), labels.to('cuda')\n",
        "\n",
        "    preds = model(inputs)\n",
        "    preds = torch.argmax(preds, dim=-1)\n",
        "\n",
        "    cnt += labels.shape[0]\n",
        "    acc += (labels == preds).sum().item()\n",
        "\n",
        "  return acc / cnt\n",
        "\n",
        "\n",
        "def plot_acc(train_accs, test_accs, label1='train', label2='test'):\n",
        "  x = np.arange(len(train_accs))\n",
        "\n",
        "  plt.plot(x, train_accs, label=label1)\n",
        "  plt.plot(x, test_accs, label=label2)\n",
        "  plt.legend()\n",
        "  plt.show()"
      ],
      "metadata": {
        "id": "_kO0TK1EtJOI"
      },
      "execution_count": 13,
      "outputs": []
    },
    {
      "cell_type": "code",
      "source": [
        "transform = transforms.ToTensor()\n",
        "\n",
        "trainset = torchvision.datasets.CIFAR10(\n",
        "    root='./data',\n",
        "    train=True,\n",
        "    download=True,\n",
        "    transform=transform\n",
        ")\n",
        "testset = torchvision.datasets.CIFAR10(\n",
        "    root='./data',\n",
        "    train=False,\n",
        "    download=True,\n",
        "    transform=transform\n",
        ")"
      ],
      "metadata": {
        "id": "lemOSOgSFYcM"
      },
      "execution_count": 14,
      "outputs": []
    },
    {
      "cell_type": "code",
      "source": [
        "batch_size = 256\n",
        "\n",
        "trainloader = torch.utils.data.DataLoader(\n",
        "    trainset,\n",
        "    batch_size=batch_size,\n",
        "    shuffle=True\n",
        ")\n",
        "testloader = torch.utils.data.DataLoader(\n",
        "    testset,\n",
        "    batch_size=batch_size,\n",
        "    shuffle=False\n",
        ")"
      ],
      "metadata": {
        "id": "a7UqwXEkGKMP"
      },
      "execution_count": 15,
      "outputs": []
    },
    {
      "cell_type": "code",
      "source": [
        "from torch import nn\n",
        "\n",
        "#LeakyReLU\n",
        "class Model1(nn.Module):\n",
        "  def __init__(self, input_dim, n_dim):\n",
        "    super().__init__()\n",
        "\n",
        "    self.layer1 = nn.Linear(input_dim, n_dim)\n",
        "    self.layer2 = nn.Linear(n_dim, n_dim)\n",
        "    self.layer3 = nn.Linear(n_dim, 10)\n",
        "\n",
        "    self.act = nn.LeakyReLU()\n",
        "\n",
        "  def forward(self, x):\n",
        "    x = torch.flatten(x, start_dim=1)\n",
        "    x = self.act(self.layer1(x))\n",
        "    x = self.act(self.layer2(x))\n",
        "    x = self.act(self.layer3(x))\n",
        "\n",
        "    return x"
      ],
      "metadata": {
        "id": "1ZJsqsuRH0Ea"
      },
      "execution_count": 16,
      "outputs": []
    },
    {
      "cell_type": "code",
      "source": [
        "# SGD\n",
        "from torch.optim import SGD, Adam\n",
        "\n",
        "lr = 0.001\n",
        "\n",
        "model = Model1(32 * 32 * 3, 1024)\n",
        "model = model.to('cuda')\n",
        "\n",
        "optimizer = SGD(model.parameters(), lr=lr)\n",
        "\n",
        "n_epochs = 50\n",
        "loss_fn = nn.CrossEntropyLoss()\n",
        "\n",
        "train_sgd = []\n",
        "\n",
        "for epoch in range(n_epochs):\n",
        "  total_loss = 0.\n",
        "  for data in trainloader:\n",
        "    model.zero_grad()\n",
        "    inputs, labels = data\n",
        "    inputs, labels = inputs.to('cuda'), labels.to('cuda')\n",
        "\n",
        "    preds = model(inputs)\n",
        "    loss = loss_fn(preds, labels)\n",
        "    loss.backward()\n",
        "    optimizer.step()\n",
        "\n",
        "    total_loss += loss.item()\n",
        "\n",
        "  train_sgd.append(accuracy(model, trainloader))\n",
        "\n",
        "  print(f\"Epoch {epoch + 1:3d} | Loss: {total_loss}\")"
      ],
      "metadata": {
        "colab": {
          "base_uri": "https://localhost:8080/"
        },
        "id": "n-txU48Evc3H",
        "outputId": "edc094b8-8767-4b71-e938-9ac83ce9a1aa"
      },
      "execution_count": 17,
      "outputs": [
        {
          "output_type": "stream",
          "name": "stdout",
          "text": [
            "Epoch   1 | Loss: 450.9754400253296\n",
            "Epoch   2 | Loss: 450.36527490615845\n",
            "Epoch   3 | Loss: 449.7993218898773\n",
            "Epoch   4 | Loss: 449.19088315963745\n",
            "Epoch   5 | Loss: 448.62099385261536\n",
            "Epoch   6 | Loss: 448.07537031173706\n",
            "Epoch   7 | Loss: 447.5446479320526\n",
            "Epoch   8 | Loss: 446.97917461395264\n",
            "Epoch   9 | Loss: 445.98544335365295\n",
            "Epoch  10 | Loss: 444.9246447086334\n",
            "Epoch  11 | Loss: 443.88803243637085\n",
            "Epoch  12 | Loss: 442.84698152542114\n",
            "Epoch  13 | Loss: 441.8516585826874\n",
            "Epoch  14 | Loss: 440.829993724823\n",
            "Epoch  15 | Loss: 439.7752456665039\n",
            "Epoch  16 | Loss: 438.79149985313416\n",
            "Epoch  17 | Loss: 437.8055257797241\n",
            "Epoch  18 | Loss: 436.78707242012024\n",
            "Epoch  19 | Loss: 435.8354158401489\n",
            "Epoch  20 | Loss: 434.828476190567\n",
            "Epoch  21 | Loss: 433.8881459236145\n",
            "Epoch  22 | Loss: 432.9498407840729\n",
            "Epoch  23 | Loss: 432.00500440597534\n",
            "Epoch  24 | Loss: 431.0858807563782\n",
            "Epoch  25 | Loss: 430.2461287975311\n",
            "Epoch  26 | Loss: 429.4090778827667\n",
            "Epoch  27 | Loss: 428.57448840141296\n",
            "Epoch  28 | Loss: 427.70181369781494\n",
            "Epoch  29 | Loss: 426.91104435920715\n",
            "Epoch  30 | Loss: 426.0354187488556\n",
            "Epoch  31 | Loss: 425.3244059085846\n",
            "Epoch  32 | Loss: 423.99909114837646\n",
            "Epoch  33 | Loss: 420.66880798339844\n",
            "Epoch  34 | Loss: 418.45200085639954\n",
            "Epoch  35 | Loss: 416.5226058959961\n",
            "Epoch  36 | Loss: 414.73462986946106\n",
            "Epoch  37 | Loss: 413.0879809856415\n",
            "Epoch  38 | Loss: 411.60587430000305\n",
            "Epoch  39 | Loss: 410.10946893692017\n",
            "Epoch  40 | Loss: 408.7847013473511\n",
            "Epoch  41 | Loss: 407.34843015670776\n",
            "Epoch  42 | Loss: 406.19924783706665\n",
            "Epoch  43 | Loss: 405.05862987041473\n",
            "Epoch  44 | Loss: 403.87443351745605\n",
            "Epoch  45 | Loss: 401.84668040275574\n",
            "Epoch  46 | Loss: 399.20094311237335\n",
            "Epoch  47 | Loss: 397.571031332016\n",
            "Epoch  48 | Loss: 396.32428443431854\n",
            "Epoch  49 | Loss: 395.14855110645294\n",
            "Epoch  50 | Loss: 394.15001571178436\n"
          ]
        }
      ]
    },
    {
      "cell_type": "code",
      "source": [
        "from torch.optim import Adam\n",
        "\n",
        "# ADAM\n",
        "model = Model1(32 * 32 * 3, 1024)\n",
        "model = model.to('cuda')\n",
        "\n",
        "optimizer = Adam(model.parameters(), lr=lr)\n",
        "\n",
        "train_adam = []\n",
        "test_adam = []\n",
        "\n",
        "for epoch in range(n_epochs):\n",
        "  total_loss = 0.\n",
        "  for data in trainloader:\n",
        "    model.zero_grad()\n",
        "    inputs, labels = data\n",
        "    inputs, labels = inputs.to('cuda'), labels.to('cuda')\n",
        "\n",
        "    preds = model(inputs)\n",
        "    loss = loss_fn(preds, labels)\n",
        "    loss.backward()\n",
        "    optimizer.step()\n",
        "\n",
        "    total_loss += loss.item()\n",
        "\n",
        "  train_adam.append(accuracy(model, trainloader))\n",
        "  test_adam.append(accuracy(model, testloader))\n",
        "\n",
        "  print(f\"Epoch {epoch + 1:3d} | Loss: {total_loss}\")"
      ],
      "metadata": {
        "colab": {
          "base_uri": "https://localhost:8080/"
        },
        "id": "B1ifFAFkyvEi",
        "outputId": "bac7359d-a48a-4e73-8b55-801ffb00664b"
      },
      "execution_count": 19,
      "outputs": [
        {
          "output_type": "stream",
          "name": "stdout",
          "text": [
            "Epoch   1 | Loss: 433.85042548179626\n",
            "Epoch   2 | Loss: 395.3420978784561\n",
            "Epoch   3 | Loss: 373.4578013420105\n",
            "Epoch   4 | Loss: 356.64006876945496\n",
            "Epoch   5 | Loss: 344.19843912124634\n",
            "Epoch   6 | Loss: 334.0880709886551\n",
            "Epoch   7 | Loss: 327.1679846048355\n",
            "Epoch   8 | Loss: 321.5865466594696\n",
            "Epoch   9 | Loss: 315.0853977203369\n",
            "Epoch  10 | Loss: 307.58431220054626\n",
            "Epoch  11 | Loss: 301.7753304243088\n",
            "Epoch  12 | Loss: 296.73929727077484\n",
            "Epoch  13 | Loss: 292.3071390390396\n",
            "Epoch  14 | Loss: 286.48370707035065\n",
            "Epoch  15 | Loss: 283.75536608695984\n",
            "Epoch  16 | Loss: 279.79942893981934\n",
            "Epoch  17 | Loss: 275.92499029636383\n",
            "Epoch  18 | Loss: 270.8590581417084\n",
            "Epoch  19 | Loss: 269.60279393196106\n",
            "Epoch  20 | Loss: 265.4088704586029\n",
            "Epoch  21 | Loss: 262.12496614456177\n",
            "Epoch  22 | Loss: 258.80897855758667\n",
            "Epoch  23 | Loss: 254.7976666688919\n",
            "Epoch  24 | Loss: 253.26148748397827\n",
            "Epoch  25 | Loss: 251.9188723564148\n",
            "Epoch  26 | Loss: 244.96072053909302\n",
            "Epoch  27 | Loss: 245.51270508766174\n",
            "Epoch  28 | Loss: 240.10817205905914\n",
            "Epoch  29 | Loss: 238.40956205129623\n",
            "Epoch  30 | Loss: 234.48918867111206\n",
            "Epoch  31 | Loss: 230.86212289333344\n",
            "Epoch  32 | Loss: 228.96706533432007\n",
            "Epoch  33 | Loss: 224.05263483524323\n",
            "Epoch  34 | Loss: 220.71485316753387\n",
            "Epoch  35 | Loss: 219.48910170793533\n",
            "Epoch  36 | Loss: 214.44999742507935\n",
            "Epoch  37 | Loss: 211.0128807425499\n",
            "Epoch  38 | Loss: 208.4345668554306\n",
            "Epoch  39 | Loss: 206.1886168718338\n",
            "Epoch  40 | Loss: 207.1699143052101\n",
            "Epoch  41 | Loss: 201.22732150554657\n",
            "Epoch  42 | Loss: 205.45704811811447\n",
            "Epoch  43 | Loss: 196.61449205875397\n",
            "Epoch  44 | Loss: 191.24830573797226\n",
            "Epoch  45 | Loss: 188.53921389579773\n",
            "Epoch  46 | Loss: 185.86412125825882\n",
            "Epoch  47 | Loss: 181.99462550878525\n",
            "Epoch  48 | Loss: 183.69123369455338\n",
            "Epoch  49 | Loss: 184.19144749641418\n",
            "Epoch  50 | Loss: 177.5079402923584\n"
          ]
        }
      ]
    },
    {
      "cell_type": "code",
      "source": [
        "#SGD / ADAM 수치 비교\n",
        "plot_acc(train_sgd, train_adam, 'sgd', 'adam')"
      ],
      "metadata": {
        "colab": {
          "base_uri": "https://localhost:8080/",
          "height": 430
        },
        "id": "sxGzaq5F5w4m",
        "outputId": "6a63bf9e-5b06-4cbc-ce5e-e7a9f4600248"
      },
      "execution_count": 20,
      "outputs": [
        {
          "output_type": "display_data",
          "data": {
            "text/plain": [
              "<Figure size 640x480 with 1 Axes>"
            ],
            "image/png": "[encoded data removed]"
          },
          "metadata": {}
        }
      ]
    },
    {
      "cell_type": "code",
      "source": [
        "class Model2(nn.Module):\n",
        "  def __init__(self, input_dim, n_dim):\n",
        "    super().__init__()\n",
        "\n",
        "    self.layer1 = nn.Linear(input_dim, n_dim)\n",
        "    self.layer2 = nn.Linear(n_dim, n_dim)\n",
        "    self.layer3 = nn.Linear(n_dim, 10)\n",
        "\n",
        "    self.act = nn.Sigmoid()\n",
        "\n",
        "  def forward(self, x):\n",
        "    x = torch.flatten(x, start_dim=1)\n",
        "    x = self.act(self.layer1(x))\n",
        "    x = self.act(self.layer2(x))\n",
        "    x = self.act(self.layer3(x))\n",
        "\n",
        "    return x"
      ],
      "metadata": {
        "id": "8PaNj39crTLl"
      },
      "execution_count": null,
      "outputs": []
    },
    {
      "cell_type": "code",
      "source": [
        "model = Model2(32 * 32 * 3, 1024)\n",
        "model = model.to('cuda')\n",
        "\n",
        "optimizer = Adam(model.parameters(), lr=lr)\n",
        "\n",
        "train_sigmoid = []\n",
        "\n",
        "for epoch in range(n_epochs):\n",
        "  total_loss = 0.\n",
        "  for data in trainloader:\n",
        "    model.zero_grad()\n",
        "    inputs, labels = data\n",
        "    inputs, labels = inputs.to('cuda'), labels.to('cuda')\n",
        "\n",
        "    preds = model(inputs)\n",
        "    loss = loss_fn(preds, labels)\n",
        "    loss.backward()\n",
        "    optimizer.step()\n",
        "\n",
        "    total_loss += loss.item()\n",
        "\n",
        "  train_sigmoid.append(accuracy(model, trainloader))\n",
        "\n",
        "  print(f\"Epoch {epoch + 1:3d} | Loss: {total_loss}\")"
      ],
      "metadata": {
        "id": "B9Vdu8qZrfSm"
      },
      "execution_count": null,
      "outputs": []
    },
    {
      "cell_type": "code",
      "source": [
        "plot_acc(train_adam, train_sigmoid, 'relu', 'sigmoid')"
      ],
      "metadata": {
        "id": "tsuqMevnrkKU"
      },
      "execution_count": null,
      "outputs": []
    },
    {
      "cell_type": "code",
      "source": [
        "# Dropout\n",
        "\n",
        "class Model3(nn.Module):\n",
        "  def __init__(self, input_dim, n_dim):\n",
        "    super().__init__()\n",
        "\n",
        "    self.layer1 = nn.Linear(input_dim, n_dim)\n",
        "    self.layer2 = nn.Linear(n_dim, n_dim)\n",
        "    self.layer3 = nn.Linear(n_dim, 10)\n",
        "\n",
        "    self.act = nn.LeakyReLU()\n",
        "    self.dropout = nn.Dropout(p=0.1)\n",
        "\n",
        "  def forward(self, x):\n",
        "    x = torch.flatten(x, start_dim=1)\n",
        "    x = self.dropout(self.act(self.layer1(x)))\n",
        "    x = self.dropout(self.act(self.layer2(x)))\n",
        "    x = self.dropout(self.act(self.layer3(x)))\n",
        "\n",
        "    return x"
      ],
      "metadata": {
        "id": "Xmgz1J8wroTp"
      },
      "execution_count": null,
      "outputs": []
    },
    {
      "cell_type": "code",
      "source": [
        "model = Model3(32 * 32 * 3, 1024)\n",
        "model = model.to('cuda')\n",
        "\n",
        "optimizer = Adam(model.parameters(), lr=lr)\n",
        "\n",
        "train_dropout = []\n",
        "test_dropout = []\n",
        "\n",
        "for epoch in range(n_epochs):\n",
        "  total_loss = 0.\n",
        "  model.train()\n",
        "  for data in trainloader:\n",
        "    model.zero_grad()\n",
        "    inputs, labels = data\n",
        "    inputs, labels = inputs.to('cuda'), labels.to('cuda')\n",
        "\n",
        "    preds = model(inputs)\n",
        "    loss = loss_fn(preds, labels)\n",
        "    loss.backward()\n",
        "    optimizer.step()\n",
        "\n",
        "    total_loss += loss.item()\n",
        "\n",
        "  with torch.no_grad():\n",
        "    model.eval()\n",
        "    train_dropout.append(accuracy(model, trainloader))\n",
        "    test_dropout.append(accuracy(model, testloader))\n",
        "\n",
        "  print(f\"Epoch {epoch + 1:3d} | Loss: {total_loss}\")"
      ],
      "metadata": {
        "id": "kFGkSIctrz6q"
      },
      "execution_count": null,
      "outputs": []
    },
    {
      "cell_type": "code",
      "source": [
        "plot_acc(train_adam, test_adam)"
      ],
      "metadata": {
        "id": "Pa8AeF_Sr1T-"
      },
      "execution_count": null,
      "outputs": []
    },
    {
      "cell_type": "code",
      "source": [
        "plot_acc(train_dropout, test_dropout)"
      ],
      "metadata": {
        "id": "sPpkS0Gjr4Rj"
      },
      "execution_count": null,
      "outputs": []
    }
  ]
}