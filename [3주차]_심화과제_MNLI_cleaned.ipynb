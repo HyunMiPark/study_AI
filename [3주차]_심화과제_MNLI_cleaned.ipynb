{
 "cells": [
  {
   "cell_type": "code",
   "execution_count": 1,
   "metadata": {
    "colab": {
     "base_uri": "https://localhost:8080/"
    },
    "id": "v-zkGxmA3YyO",
    "outputId": "9ba1b1e2-24df-4903-b7c6-214edcd3fc0c"
   },
   "outputs": [
    {
     "name": "stdout",
     "output_type": "stream",
     "text": [
      "Requirement already satisfied: tqdm in /usr/local/lib/python3.11/dist-packages (4.67.1)\n",
      "Collecting boto3\n",
      "  Downloading boto3-1.37.30-py3-none-any.whl.metadata (6.7 kB)\n",
      "Requirement already satisfied: requests in /usr/local/lib/python3.11/dist-packages (2.32.3)\n",
      "Requirement already satisfied: regex in /usr/local/lib/python3.11/dist-packages (2024.11.6)\n",
      "Requirement already satisfied: sentencepiece in /usr/local/lib/python3.11/dist-packages (0.2.0)\n",
      "Collecting sacremoses\n",
      "  Downloading sacremoses-0.1.1-py3-none-any.whl.metadata (8.3 kB)\n",
      "Collecting datasets\n",
      "  Downloading datasets-3.5.0-py3-none-any.whl.metadata (19 kB)\n",
      "Requirement already satisfied: pandas in /usr/local/lib/python3.11/dist-packages (2.2.2)\n",
      "Collecting botocore<1.38.0,>=1.37.30 (from boto3)\n",
      "  Downloading botocore-1.37.30-py3-none-any.whl.metadata (5.7 kB)\n",
      "Collecting jmespath<2.0.0,>=0.7.1 (from boto3)\n",
      "  Downloading jmespath-1.0.1-py3-none-any.whl.metadata (7.6 kB)\n",
      "Collecting s3transfer<0.12.0,>=0.11.0 (from boto3)\n",
      "  Downloading s3transfer-0.11.4-py3-none-any.whl.metadata (1.7 kB)\n",
      "Requirement already satisfied: charset-normalizer<4,>=2 in /usr/local/lib/python3.11/dist-packages (from requests) (3.4.1)\n",
      "Requirement already satisfied: idna<4,>=2.5 in /usr/local/lib/python3.11/dist-packages (from requests) (3.10)\n",
      "Requirement already satisfied: urllib3<3,>=1.21.1 in /usr/local/lib/python3.11/dist-packages (from requests) (2.3.0)\n",
      "Requirement already satisfied: certifi>=2017.4.17 in /usr/local/lib/python3.11/dist-packages (from requests) (2025.1.31)\n",
      "Requirement already satisfied: click in /usr/local/lib/python3.11/dist-packages (from sacremoses) (8.1.8)\n",
      "Requirement already satisfied: joblib in /usr/local/lib/python3.11/dist-packages (from sacremoses) (1.4.2)\n",
      "Requirement already satisfied: filelock in /usr/local/lib/python3.11/dist-packages (from datasets) (3.18.0)\n",
      "Requirement already satisfied: numpy>=1.17 in /usr/local/lib/python3.11/dist-packages (from datasets) (2.0.2)\n",
      "Requirement already satisfied: pyarrow>=15.0.0 in /usr/local/lib/python3.11/dist-packages (from datasets) (18.1.0)\n",
      "Collecting dill<0.3.9,>=0.3.0 (from datasets)\n",
      "  Downloading dill-0.3.8-py3-none-any.whl.metadata (10 kB)\n",
      "Collecting xxhash (from datasets)\n",
      "  Downloading xxhash-3.5.0-cp311-cp311-manylinux_2_17_x86_64.manylinux2014_x86_64.whl.metadata (12 kB)\n",
      "Collecting multiprocess<0.70.17 (from datasets)\n",
      "  Downloading multiprocess-0.70.16-py311-none-any.whl.metadata (7.2 kB)\n",
      "Collecting fsspec<=2024.12.0,>=2023.1.0 (from fsspec[http]<=2024.12.0,>=2023.1.0->datasets)\n",
      "  Downloading fsspec-2024.12.0-py3-none-any.whl.metadata (11 kB)\n",
      "Requirement already satisfied: aiohttp in /usr/local/lib/python3.11/dist-packages (from datasets) (3.11.15)\n",
      "Requirement already satisfied: huggingface-hub>=0.24.0 in /usr/local/lib/python3.11/dist-packages (from datasets) (0.30.1)\n",
      "Requirement already satisfied: packaging in /usr/local/lib/python3.11/dist-packages (from datasets) (24.2)\n",
      "Requirement already satisfied: pyyaml>=5.1 in /usr/local/lib/python3.11/dist-packages (from datasets) (6.0.2)\n",
      "Requirement already satisfied: python-dateutil>=2.8.2 in /usr/local/lib/python3.11/dist-packages (from pandas) (2.8.2)\n",
      "Requirement already satisfied: pytz>=2020.1 in /usr/local/lib/python3.11/dist-packages (from pandas) (2025.2)\n",
      "Requirement already satisfied: tzdata>=2022.7 in /usr/local/lib/python3.11/dist-packages (from pandas) (2025.2)\n",
      "Requirement already satisfied: aiohappyeyeballs>=2.3.0 in /usr/local/lib/python3.11/dist-packages (from aiohttp->datasets) (2.6.1)\n",
      "Requirement already satisfied: aiosignal>=1.1.2 in /usr/local/lib/python3.11/dist-packages (from aiohttp->datasets) (1.3.2)\n",
      "Requirement already satisfied: attrs>=17.3.0 in /usr/local/lib/python3.11/dist-packages (from aiohttp->datasets) (25.3.0)\n",
      "Requirement already satisfied: frozenlist>=1.1.1 in /usr/local/lib/python3.11/dist-packages (from aiohttp->datasets) (1.5.0)\n",
      "Requirement already satisfied: multidict<7.0,>=4.5 in /usr/local/lib/python3.11/dist-packages (from aiohttp->datasets) (6.2.0)\n",
      "Requirement already satisfied: propcache>=0.2.0 in /usr/local/lib/python3.11/dist-packages (from aiohttp->datasets) (0.3.1)\n",
      "Requirement already satisfied: yarl<2.0,>=1.17.0 in /usr/local/lib/python3.11/dist-packages (from aiohttp->datasets) (1.18.3)\n",
      "Requirement already satisfied: typing-extensions>=3.7.4.3 in /usr/local/lib/python3.11/dist-packages (from huggingface-hub>=0.24.0->datasets) (4.13.1)\n",
      "Requirement already satisfied: six>=1.5 in /usr/local/lib/python3.11/dist-packages (from python-dateutil>=2.8.2->pandas) (1.17.0)\n",
      "Downloading boto3-1.37.30-py3-none-any.whl (139 kB)\n",
      "\u001b[2K   \u001b[90m━━━━━━━━━━━━━━━━━━━━━━━━━━━━━━━━━━━━━━━━\u001b[0m \u001b[32m139.6/139.6 kB\u001b[0m \u001b[31m4.8 MB/s\u001b[0m eta \u001b[36m0:00:00\u001b[0m\n",
      "\u001b[?25hDownloading sacremoses-0.1.1-py3-none-any.whl (897 kB)\n",
      "\u001b[2K   \u001b[90m━━━━━━━━━━━━━━━━━━━━━━━━━━━━━━━━━━━━━━━━\u001b[0m \u001b[32m897.5/897.5 kB\u001b[0m \u001b[31m23.5 MB/s\u001b[0m eta \u001b[36m0:00:00\u001b[0m\n",
      "\u001b[?25hDownloading datasets-3.5.0-py3-none-any.whl (491 kB)\n",
      "\u001b[2K   \u001b[90m━━━━━━━━━━━━━━━━━━━━━━━━━━━━━━━━━━━━━━━━\u001b[0m \u001b[32m491.2/491.2 kB\u001b[0m \u001b[31m33.8 MB/s\u001b[0m eta \u001b[36m0:00:00\u001b[0m\n",
      "\u001b[?25hDownloading botocore-1.37.30-py3-none-any.whl (13.5 MB)\n",
      "\u001b[2K   \u001b[90m━━━━━━━━━━━━━━━━━━━━━━━━━━━━━━━━━━━━━━━━\u001b[0m \u001b[32m13.5/13.5 MB\u001b[0m \u001b[31m74.8 MB/s\u001b[0m eta \u001b[36m0:00:00\u001b[0m\n",
      "\u001b[?25hDownloading dill-0.3.8-py3-none-any.whl (116 kB)\n",
      "\u001b[2K   \u001b[90m━━━━━━━━━━━━━━━━━━━━━━━━━━━━━━━━━━━━━━━━\u001b[0m \u001b[32m116.3/116.3 kB\u001b[0m \u001b[31m1.6 MB/s\u001b[0m eta \u001b[36m0:00:00\u001b[0m\n",
      "\u001b[?25hDownloading fsspec-2024.12.0-py3-none-any.whl (183 kB)\n",
      "\u001b[2K   \u001b[90m━━━━━━━━━━━━━━━━━━━━━━━━━━━━━━━━━━━━━━━━\u001b[0m \u001b[32m183.9/183.9 kB\u001b[0m \u001b[31m16.4 MB/s\u001b[0m eta \u001b[36m0:00:00\u001b[0m\n",
      "\u001b[?25hDownloading jmespath-1.0.1-py3-none-any.whl (20 kB)\n",
      "Downloading multiprocess-0.70.16-py311-none-any.whl (143 kB)\n",
      "\u001b[2K   \u001b[90m━━━━━━━━━━━━━━━━━━━━━━━━━━━━━━━━━━━━━━━━\u001b[0m \u001b[32m143.5/143.5 kB\u001b[0m \u001b[31m9.2 MB/s\u001b[0m eta \u001b[36m0:00:00\u001b[0m\n",
      "\u001b[?25hDownloading s3transfer-0.11.4-py3-none-any.whl (84 kB)\n",
      "\u001b[2K   \u001b[90m━━━━━━━━━━━━━━━━━━━━━━━━━━━━━━━━━━━━━━━━\u001b[0m \u001b[32m84.4/84.4 kB\u001b[0m \u001b[31m7.0 MB/s\u001b[0m eta \u001b[36m0:00:00\u001b[0m\n",
      "\u001b[?25hDownloading xxhash-3.5.0-cp311-cp311-manylinux_2_17_x86_64.manylinux2014_x86_64.whl (194 kB)\n",
      "\u001b[2K   \u001b[90m━━━━━━━━━━━━━━━━━━━━━━━━━━━━━━━━━━━━━━━━\u001b[0m \u001b[32m194.8/194.8 kB\u001b[0m \u001b[31m14.8 MB/s\u001b[0m eta \u001b[36m0:00:00\u001b[0m\n",
      "\u001b[?25hInstalling collected packages: xxhash, sacremoses, jmespath, fsspec, dill, multiprocess, botocore, s3transfer, datasets, boto3\n",
      "  Attempting uninstall: fsspec\n",
      "    Found existing installation: fsspec 2025.3.2\n",
      "    Uninstalling fsspec-2025.3.2:\n",
      "      Successfully uninstalled fsspec-2025.3.2\n",
      "\u001b[31mERROR: pip's dependency resolver does not currently take into account all the packages that are installed. This behaviour is the source of the following dependency conflicts.\n",
      "torch 2.6.0+cu124 requires nvidia-cublas-cu12==12.4.5.8; platform_system == \"Linux\" and platform_machine == \"x86_64\", but you have nvidia-cublas-cu12 12.5.3.2 which is incompatible.\n",
      "torch 2.6.0+cu124 requires nvidia-cuda-cupti-cu12==12.4.127; platform_system == \"Linux\" and platform_machine == \"x86_64\", but you have nvidia-cuda-cupti-cu12 12.5.82 which is incompatible.\n",
      "torch 2.6.0+cu124 requires nvidia-cuda-nvrtc-cu12==12.4.127; platform_system == \"Linux\" and platform_machine == \"x86_64\", but you have nvidia-cuda-nvrtc-cu12 12.5.82 which is incompatible.\n",
      "torch 2.6.0+cu124 requires nvidia-cuda-runtime-cu12==12.4.127; platform_system == \"Linux\" and platform_machine == \"x86_64\", but you have nvidia-cuda-runtime-cu12 12.5.82 which is incompatible.\n",
      "torch 2.6.0+cu124 requires nvidia-cudnn-cu12==9.1.0.70; platform_system == \"Linux\" and platform_machine == \"x86_64\", but you have nvidia-cudnn-cu12 9.3.0.75 which is incompatible.\n",
      "torch 2.6.0+cu124 requires nvidia-cufft-cu12==11.2.1.3; platform_system == \"Linux\" and platform_machine == \"x86_64\", but you have nvidia-cufft-cu12 11.2.3.61 which is incompatible.\n",
      "torch 2.6.0+cu124 requires nvidia-curand-cu12==10.3.5.147; platform_system == \"Linux\" and platform_machine == \"x86_64\", but you have nvidia-curand-cu12 10.3.6.82 which is incompatible.\n",
      "torch 2.6.0+cu124 requires nvidia-cusolver-cu12==11.6.1.9; platform_system == \"Linux\" and platform_machine == \"x86_64\", but you have nvidia-cusolver-cu12 11.6.3.83 which is incompatible.\n",
      "torch 2.6.0+cu124 requires nvidia-cusparse-cu12==12.3.1.170; platform_system == \"Linux\" and platform_machine == \"x86_64\", but you have nvidia-cusparse-cu12 12.5.1.3 which is incompatible.\n",
      "torch 2.6.0+cu124 requires nvidia-nvjitlink-cu12==12.4.127; platform_system == \"Linux\" and platform_machine == \"x86_64\", but you have nvidia-nvjitlink-cu12 12.5.82 which is incompatible.\n",
      "gcsfs 2025.3.2 requires fsspec==2025.3.2, but you have fsspec 2024.12.0 which is incompatible.\u001b[0m\u001b[31m\n",
      "\u001b[0mSuccessfully installed boto3-1.37.30 botocore-1.37.30 datasets-3.5.0 dill-0.3.8 fsspec-2024.12.0 jmespath-1.0.1 multiprocess-0.70.16 s3transfer-0.11.4 sacremoses-0.1.1 xxhash-3.5.0\n"
     ]
    }
   ],
   "source": [
    "!pip install tqdm boto3 requests regex sentencepiece sacremoses datasets pandas"
   ]
  },
  {
   "cell_type": "code",
   "execution_count": 2,
   "metadata": {
    "colab": {
     "base_uri": "https://localhost:8080/"
    },
    "id": "BS8kdcVs3amT",
    "outputId": "c239332f-e255-4873-e092-ddf2c1d1da69"
   },
   "outputs": [
    {
     "name": "stdout",
     "output_type": "stream",
     "text": [
      "Path to dataset files: /kaggle/input/unlocking-language-understanding-with-the-multin\n"
     ]
    }
   ],
   "source": [
    "import kagglehub\n",
    "\n",
    "# Download latest version\n",
    "path = kagglehub.dataset_download(\"thedevastator/unlocking-language-understanding-with-the-multin\")\n",
    "\n",
    "print(\"Path to dataset files:\", path)"
   ]
  },
  {
   "cell_type": "code",
   "execution_count": 3,
   "metadata": {
    "colab": {
     "base_uri": "https://localhost:8080/",
     "height": 326,
     "referenced_widgets": [
      "9d277c0a3e5e4ff594991e5fe53ac200",
      "3f5e0f35c67b4224a58214380352e96e",
      "d26959e02d98481c801fda68297bc997",
      "986b42ac8a194f888732851da4d5b189",
      "f3f197720dec4c2197ae10f19e032003",
      "2bdf943f32e84883be429050719fd683",
      "a9cdb963307747edbcfbe2577ea998ca",
      "e1ee017b2a89451e8fe40254359b8e4f",
      "497ad06d7e934575b256c7afe4c66a46",
      "dcf5eb1d79c64ece8a023ec10f47a6ef",
      "294d269867f04954a4594e0941cb2306",
      "9f781db7698c4f87b235e450d1c0a52c",
      "1bce768cdc5a4f9f9f39b12222269c25",
      "26521647d89d4cafacb89f02c8484fd5",
      "750cd9970adc47279a1db22673cb659b",
      "a3fe072a1ddc44c299800ad385d70105",
      "38c74d4ca001429bba2d47b92996d2f2",
      "7ddc2690f19a4d0e9ebaaf7b648d1ce2",
      "e695605ee1c5477d86afcda879a84dc5",
      "d2f14c1c4afb4ccb9b67c15d6153ab72",
      "a2dfbe426336460ab4267e7a18083a2b",
      "febecd530e724fe4a9c139de979fd781",
      "e9bb1310c3f74af1a14e73826c42310b",
      "0c25a80f064b4748969ec2400346935d",
      "7ee46bf892744e5f9c574e704bfbd090",
      "92da4868ab364d2fb4b31b54f7ac8d6d",
      "066a0493cb474c94ad01425d0d5108fe",
      "639cc31348ff40c59ce716f4b375d2b9",
      "a8c055180c4c40caaff5356300b291e5",
      "b55a7365a381428989daf95ba86b4c1b",
      "96175f08fd8e4c5bb62b686e3229a342",
      "5d4629e160224c6caed79ba699d85789",
      "cbe7bd1aee4942a7b63e432a6794e86d",
      "ae4a1197c2054d06b282e743e2c97f5f",
      "e3c4d114cebb4f0ab6423e10876ebb2e",
      "da477bb496f64e67ab0ca0955d960810",
      "8ea626c3e4aa41ee952fb144e391bd53",
      "c730436ce0b44ca793e714ad602f410f",
      "5e0986c2ef354cc58e0db99583c4fb78",
      "6374330a7eaa454696f45248d6bddef9",
      "98c2b08994ae4378bd58e82bbf790853",
      "d0ce4a99bdb84b7a9994f4ee918b4e13",
      "f3196d204c1f4e40b223f9ebf0dd47b1",
      "03251c0c3a694d9f9c6f736d7b2463ff"
     ]
    },
    "id": "0uygpExu3z55",
    "outputId": "61d3f190-c61c-434d-d8af-ab4ceef996f4"
   },
   "outputs": [
    {
     "name": "stderr",
     "output_type": "stream",
     "text": [
      "/usr/local/lib/python3.11/dist-packages/torch/hub.py:330: UserWarning: You are about to download and run code from an untrusted repository. In a future release, this won't be allowed. To add the repository to your trusted list, change the command to {calling_fn}(..., trust_repo=False) and a command prompt will appear asking for an explicit confirmation of trust, or load(..., trust_repo=True), which will assume that the prompt is to be answered with 'yes'. You can also use load(..., trust_repo='check') which will only prompt for confirmation if the repo is not already trusted. This will eventually be the default behaviour\n",
      "  warnings.warn(\n",
      "Downloading: \"https://github.com/huggingface/pytorch-transformers/zipball/main\" to /root/.cache/torch/hub/main.zip\n",
      "/usr/local/lib/python3.11/dist-packages/huggingface_hub/utils/_auth.py:94: UserWarning: \n",
      "The secret `HF_TOKEN` does not exist in your Colab secrets.\n",
      "To authenticate with the Hugging Face Hub, create a token in your settings tab (https://huggingface.co/settings/tokens), set it as secret in your Google Colab and restart your session.\n",
      "You will be able to reuse this secret in all of your notebooks.\n",
      "Please note that authentication is recommended but still optional to access public models or datasets.\n",
      "  warnings.warn(\n"
     ]
    },
    {
     "data": {
      "application/vnd.jupyter.widget-view+json": {
       "model_id": "9d277c0a3e5e4ff594991e5fe53ac200",
       "version_major": 2,
       "version_minor": 0
      },
      "text/plain": [
       "tokenizer_config.json:   0%|          | 0.00/48.0 [00:00<?, ?B/s]"
      ]
     },
     "metadata": {},
     "output_type": "display_data"
    },
    {
     "data": {
      "application/vnd.jupyter.widget-view+json": {
       "model_id": "9f781db7698c4f87b235e450d1c0a52c",
       "version_major": 2,
       "version_minor": 0
      },
      "text/plain": [
       "config.json:   0%|          | 0.00/483 [00:00<?, ?B/s]"
      ]
     },
     "metadata": {},
     "output_type": "display_data"
    },
    {
     "data": {
      "application/vnd.jupyter.widget-view+json": {
       "model_id": "e9bb1310c3f74af1a14e73826c42310b",
       "version_major": 2,
       "version_minor": 0
      },
      "text/plain": [
       "vocab.txt:   0%|          | 0.00/232k [00:00<?, ?B/s]"
      ]
     },
     "metadata": {},
     "output_type": "display_data"
    },
    {
     "data": {
      "application/vnd.jupyter.widget-view+json": {
       "model_id": "ae4a1197c2054d06b282e743e2c97f5f",
       "version_major": 2,
       "version_minor": 0
      },
      "text/plain": [
       "tokenizer.json:   0%|          | 0.00/466k [00:00<?, ?B/s]"
      ]
     },
     "metadata": {},
     "output_type": "display_data"
    }
   ],
   "source": [
    "import torch\n",
    "from torch.utils.data import DataLoader\n",
    "\n",
    "# DistilBERT 모델용 tokenizer 로드 (pretrained)\n",
    "# 이 tokenizer는 문장을 토큰화해서 모델이 이해할 수 있는 input_ids로 변환해줌\n",
    "tokenizer = torch.hub.load('huggingface/pytorch-transformers', 'tokenizer', 'distilbert-base-uncased')"
   ]
  },
  {
   "cell_type": "code",
   "execution_count": 4,
   "metadata": {
    "id": "wTjOaG7938e0"
   },
   "outputs": [],
   "source": [
    "import random\n",
    "import pandas as pd\n",
    "\n",
    "\n",
    "def load_data(path, nrows=None):\n",
    "  df = pd.read_csv(path, nrows=nrows, keep_default_na=False)\n",
    "  data = []\n",
    "  for _, row in df.iterrows():\n",
    "    if len(row['premise']) * len(row['hypothesis']) != 0:\n",
    "      data.append({'premise': row['premise'], 'hypothesis': row['hypothesis'], 'label': row['label']})\n",
    "\n",
    "  return data\n",
    "\n",
    "# 경로 : load_data(path + '/불러올파일명.csv', nrows=1000)\n",
    "train_data = load_data(path+'/train.csv', nrows=1000)\n",
    "test_data = load_data(path+'/validation_matched.csv', nrows=1000)"
   ]
  },
  {
   "cell_type": "code",
   "execution_count": 5,
   "metadata": {
    "colab": {
     "base_uri": "https://localhost:8080/"
    },
    "id": "InvUqeeg4Qpt",
    "outputId": "2ad1ab55-f8da-41ea-d28a-1941937d1bb4"
   },
   "outputs": [
    {
     "data": {
      "text/plain": [
       "({'premise': 'Conceptually cream skimming has two basic dimensions - product and geography.',\n",
       "  'hypothesis': 'Product and geography are what make cream skimming work. ',\n",
       "  'label': 1},\n",
       " {'premise': 'The new rights are nice enough',\n",
       "  'hypothesis': 'Everyone really likes the newest benefits ',\n",
       "  'label': 1})"
      ]
     },
     "execution_count": 5,
     "metadata": {},
     "output_type": "execute_result"
    }
   ],
   "source": [
    "train_data[0], test_data[0]"
   ]
  },
  {
   "cell_type": "code",
   "execution_count": 6,
   "metadata": {
    "id": "iKVCI8kO4gs2"
   },
   "outputs": [],
   "source": [
    "def collate_fn(batch):\n",
    "  max_len = 400\n",
    "  texts, labels = [], []\n",
    "  for row in batch:\n",
    "    labels.append(row['label'])\n",
    "    texts.append(row['premise'] + row['hypothesis'])\n",
    "\n",
    "  texts = torch.LongTensor(tokenizer(texts, padding=True, truncation=True, max_length=max_len).input_ids)\n",
    "  labels = torch.LongTensor(labels)\n",
    "\n",
    "  return texts, labels\n",
    "\n",
    "\n",
    "train_loader = DataLoader(\n",
    "    train_data, batch_size=64, shuffle=True, collate_fn=collate_fn\n",
    ")\n",
    "test_loader = DataLoader(\n",
    "    test_data, batch_size=64, shuffle=False, collate_fn=collate_fn\n",
    ")"
   ]
  },
  {
   "cell_type": "code",
   "execution_count": 7,
   "metadata": {
    "colab": {
     "base_uri": "https://localhost:8080/",
     "height": 123,
     "referenced_widgets": [
      "42f2b26e10654e12aa2ed4e5034513b6",
      "b902544a8d4a4fa3ab7bf1211f6e131c",
      "b82c3c14fdcc43e3b6be061bed22fb08",
      "924bb767bcf648b1aec277dcb01ec7b0",
      "683445b05090467f94b2178384d2cede",
      "a35de88f350c45eea2b530130d62835a",
      "5e8511a3ddf841b4b3c3b5231bf402b1",
      "f25c21aa14c64067899f0ba119a5f0d3",
      "18f9839f42184b4a832e6b81ae7ef8f8",
      "16056c9a57e74142a2fd5b23e34cf666",
      "aed3778f60d74d959e240ea4f94a3c8a"
     ]
    },
    "id": "a5jUhuRI46UJ",
    "outputId": "b0d182b1-8f30-4494-ebbe-8289b64566d0"
   },
   "outputs": [
    {
     "name": "stderr",
     "output_type": "stream",
     "text": [
      "Using cache found in /root/.cache/torch/hub/huggingface_pytorch-transformers_main\n",
      "Xet Storage is enabled for this repo, but the 'hf_xet' package is not installed. Falling back to regular HTTP download. For better performance, install the package with: `pip install huggingface_hub[hf_xet]` or `pip install hf_xet`\n",
      "WARNING:huggingface_hub.file_download:Xet Storage is enabled for this repo, but the 'hf_xet' package is not installed. Falling back to regular HTTP download. For better performance, install the package with: `pip install huggingface_hub[hf_xet]` or `pip install hf_xet`\n"
     ]
    },
    {
     "data": {
      "application/vnd.jupyter.widget-view+json": {
       "model_id": "42f2b26e10654e12aa2ed4e5034513b6",
       "version_major": 2,
       "version_minor": 0
      },
      "text/plain": [
       "model.safetensors:   0%|          | 0.00/268M [00:00<?, ?B/s]"
      ]
     },
     "metadata": {},
     "output_type": "display_data"
    }
   ],
   "source": [
    "from torch import nn\n",
    "\n",
    "\n",
    "class TextClassifier(nn.Module):\n",
    "  def __init__(self):\n",
    "    super().__init__()\n",
    "\n",
    "    self.encoder = torch.hub.load('huggingface/pytorch-transformers', 'model', 'distilbert-base-uncased')\n",
    "    #입력차원수 : 768(DistillBERT의 hidden size)\n",
    "    #출력차원수 : 3(MNLI-3way classification:Entailment(함의)/Cpmtradoctopm(모순)/Neutral(중립))\n",
    "    self.classifier = nn.Linear(768, 3)\n",
    "\n",
    "  def forward(self, x):\n",
    "    x = self.encoder(x)['last_hidden_state']\n",
    "    x = self.classifier(x[:, 0])\n",
    "\n",
    "    return x\n",
    "\n",
    "\n",
    "model = TextClassifier()"
   ]
  },
  {
   "cell_type": "code",
   "execution_count": 8,
   "metadata": {
    "id": "PspHWW6I52oH"
   },
   "outputs": [],
   "source": [
    "for param in model.encoder.parameters():\n",
    "  param.requires_grad = False"
   ]
  },
  {
   "cell_type": "code",
   "execution_count": 9,
   "metadata": {
    "id": "l4HOCr116JCw"
   },
   "outputs": [],
   "source": [
    "from torch.optim import Adam\n",
    "import numpy as np\n",
    "import matplotlib.pyplot as plt\n",
    "\n",
    "def accuracy(model, dataloader):\n",
    "    cnt = 0      # 전체 샘플 수\n",
    "    acc = 0      # 정답 개수 누적\n",
    "\n",
    "    for data in dataloader:\n",
    "        inputs, labels = data\n",
    "        inputs, labels = inputs.to('cuda'), labels.to('cuda')\n",
    "\n",
    "        preds = model(inputs)  # 로짓(logit) 출력\n",
    "        preds = torch.argmax(preds, dim=-1)\n",
    "\n",
    "        cnt += labels.shape[0]  # 총 샘플 수 누적\n",
    "        acc += (labels == preds).sum().item()  # 예측이 맞은 수 누적\n",
    "\n",
    "    return acc / cnt  # 정확도 반환\n",
    "\n",
    "#학습 과정 시각화 함수\n",
    "def plot_acc(train_acc, test_acc):\n",
    "  x = np.arange(len(train_acc))\n",
    "\n",
    "  plt.plot(x, train_acc, label='train') #학습 데이터 정확도 그래프\n",
    "  plt.plot(x, test_acc, label='test') #테스트 데이터 정확도 그래프\n",
    "  plt.legend()\n",
    "  plt.show()\n",
    "\n",
    "def plot_loss(losses):\n",
    "    plt.plot(np.arange(len(losses)), losses, label='train_loss')\n",
    "    plt.xlabel('Epoch')\n",
    "    plt.ylabel('Loss')\n",
    "    plt.title('Training Loss over Time')\n",
    "    plt.legend()\n",
    "    plt.show()"
   ]
  },
  {
   "cell_type": "code",
   "execution_count": 12,
   "metadata": {
    "colab": {
     "base_uri": "https://localhost:8080/",
     "height": 1000
    },
    "id": "GApBlEPP59uy",
    "outputId": "8c8e5b10-3f6a-4ed0-e31a-7977c46caf71"
   },
   "outputs": [
    {
     "name": "stdout",
     "output_type": "stream",
     "text": [
      "[Epoch 01/50] Loss: 16.0919 | Train Acc: 0.4980 | Test Acc: 0.3830\n",
      "[Epoch 02/50] Loss: 15.9491 | Train Acc: 0.4980 | Test Acc: 0.3830\n",
      "[Epoch 03/50] Loss: 15.9896 | Train Acc: 0.5270 | Test Acc: 0.3910\n",
      "[Epoch 04/50] Loss: 15.9861 | Train Acc: 0.5440 | Test Acc: 0.4040\n",
      "[Epoch 05/50] Loss: 15.9323 | Train Acc: 0.5250 | Test Acc: 0.3820\n",
      "[Epoch 06/50] Loss: 15.9859 | Train Acc: 0.5010 | Test Acc: 0.4000\n",
      "[Epoch 07/50] Loss: 15.8743 | Train Acc: 0.5220 | Test Acc: 0.4030\n",
      "[Epoch 08/50] Loss: 16.0115 | Train Acc: 0.4880 | Test Acc: 0.3860\n",
      "[Epoch 09/50] Loss: 15.7736 | Train Acc: 0.4810 | Test Acc: 0.3810\n",
      "[Epoch 10/50] Loss: 15.9399 | Train Acc: 0.5210 | Test Acc: 0.3920\n",
      "[Epoch 11/50] Loss: 15.8299 | Train Acc: 0.5410 | Test Acc: 0.4030\n",
      "[Epoch 12/50] Loss: 15.7852 | Train Acc: 0.5190 | Test Acc: 0.3890\n",
      "[Epoch 13/50] Loss: 15.6474 | Train Acc: 0.5490 | Test Acc: 0.3930\n",
      "[Epoch 14/50] Loss: 15.8641 | Train Acc: 0.5570 | Test Acc: 0.4070\n",
      "[Epoch 15/50] Loss: 15.7148 | Train Acc: 0.5200 | Test Acc: 0.3910\n",
      "[Epoch 16/50] Loss: 15.7461 | Train Acc: 0.5000 | Test Acc: 0.3850\n",
      "[Epoch 17/50] Loss: 15.6374 | Train Acc: 0.5460 | Test Acc: 0.4100\n",
      "[Epoch 18/50] Loss: 15.6234 | Train Acc: 0.5270 | Test Acc: 0.3830\n",
      "[Epoch 19/50] Loss: 15.5745 | Train Acc: 0.5240 | Test Acc: 0.3980\n",
      "[Epoch 20/50] Loss: 15.8351 | Train Acc: 0.5440 | Test Acc: 0.4190\n",
      "[Epoch 21/50] Loss: 15.6062 | Train Acc: 0.5450 | Test Acc: 0.3860\n",
      "[Epoch 22/50] Loss: 15.6846 | Train Acc: 0.5460 | Test Acc: 0.4040\n",
      "[Epoch 23/50] Loss: 15.6405 | Train Acc: 0.5170 | Test Acc: 0.4050\n",
      "[Epoch 24/50] Loss: 15.6333 | Train Acc: 0.5360 | Test Acc: 0.4120\n",
      "[Epoch 25/50] Loss: 15.4701 | Train Acc: 0.5460 | Test Acc: 0.3910\n",
      "[Epoch 26/50] Loss: 15.6714 | Train Acc: 0.5230 | Test Acc: 0.3830\n",
      "[Epoch 27/50] Loss: 15.4172 | Train Acc: 0.5550 | Test Acc: 0.4040\n",
      "[Epoch 28/50] Loss: 15.5398 | Train Acc: 0.5290 | Test Acc: 0.3930\n",
      "[Epoch 29/50] Loss: 15.3409 | Train Acc: 0.5510 | Test Acc: 0.4120\n",
      "[Epoch 30/50] Loss: 15.5863 | Train Acc: 0.5390 | Test Acc: 0.4040\n",
      "[Epoch 31/50] Loss: 15.3887 | Train Acc: 0.5330 | Test Acc: 0.4040\n",
      "[Epoch 32/50] Loss: 15.3739 | Train Acc: 0.5480 | Test Acc: 0.4010\n",
      "[Epoch 33/50] Loss: 15.3579 | Train Acc: 0.5430 | Test Acc: 0.4070\n",
      "[Epoch 34/50] Loss: 15.4144 | Train Acc: 0.5580 | Test Acc: 0.4000\n",
      "[Epoch 35/50] Loss: 15.5426 | Train Acc: 0.5480 | Test Acc: 0.4080\n",
      "[Epoch 36/50] Loss: 15.2765 | Train Acc: 0.5500 | Test Acc: 0.3900\n",
      "[Epoch 37/50] Loss: 15.4628 | Train Acc: 0.5510 | Test Acc: 0.4030\n",
      "[Epoch 38/50] Loss: 15.3475 | Train Acc: 0.5700 | Test Acc: 0.3980\n",
      "[Epoch 39/50] Loss: 15.3695 | Train Acc: 0.5320 | Test Acc: 0.4080\n",
      "[Epoch 40/50] Loss: 15.3233 | Train Acc: 0.5460 | Test Acc: 0.3970\n",
      "[Epoch 41/50] Loss: 15.1654 | Train Acc: 0.5490 | Test Acc: 0.3800\n",
      "[Epoch 42/50] Loss: 15.4233 | Train Acc: 0.5400 | Test Acc: 0.4040\n",
      "[Epoch 43/50] Loss: 15.1969 | Train Acc: 0.5490 | Test Acc: 0.4210\n",
      "[Epoch 44/50] Loss: 15.2686 | Train Acc: 0.5710 | Test Acc: 0.3950\n",
      "[Epoch 45/50] Loss: 15.1417 | Train Acc: 0.5860 | Test Acc: 0.3930\n",
      "[Epoch 46/50] Loss: 15.1288 | Train Acc: 0.5630 | Test Acc: 0.3970\n",
      "[Epoch 47/50] Loss: 15.4020 | Train Acc: 0.5270 | Test Acc: 0.3930\n",
      "[Epoch 48/50] Loss: 15.3838 | Train Acc: 0.5720 | Test Acc: 0.4140\n",
      "[Epoch 49/50] Loss: 15.1959 | Train Acc: 0.5620 | Test Acc: 0.3810\n",
      "[Epoch 50/50] Loss: 15.1922 | Train Acc: 0.5900 | Test Acc: 0.4040\n"
     ]
    },
    {
     "data": {
      "image/png": "[encoded data removed]",
      "text/plain": [
       "<Figure size 640x480 with 1 Axes>"
      ]
     },
     "metadata": {},
     "output_type": "display_data"
    },
    {
     "data": {
      "image/png": "[encoded data removed]",
      "text/plain": [
       "<Figure size 640x480 with 1 Axes>"
      ]
     },
     "metadata": {},
     "output_type": "display_data"
    }
   ],
   "source": [
    "from torch.optim import Adam\n",
    "import numpy as np\n",
    "import matplotlib.pyplot as plt\n",
    "\n",
    "\n",
    "lr = 0.001\n",
    "model = model.to('cuda')\n",
    "loss_fn = nn.CrossEntropyLoss()\n",
    "\n",
    "optimizer = Adam(model.parameters(), lr=lr)\n",
    "\n",
    "train_acc= []\n",
    "test_acc = []\n",
    "train_losses = []\n",
    "\n",
    "n_epochs = 50\n",
    "\n",
    "for epoch in range(n_epochs):\n",
    "  total_loss = 0.\n",
    "  model.train()\n",
    "  for data in train_loader:\n",
    "    model.zero_grad()\n",
    "    inputs, labels = data\n",
    "    inputs, labels = inputs.to('cuda'), labels.to('cuda').long()\n",
    "\n",
    "    preds = model(inputs)\n",
    "    loss = loss_fn(preds, labels)\n",
    "    loss.backward()\n",
    "    optimizer.step()\n",
    "\n",
    "    total_loss += loss.item()\n",
    "\n",
    "  train_acc.append(accuracy(model, train_loader))\n",
    "  test_acc.append(accuracy(model, test_loader))\n",
    "  print(f\"[Epoch {epoch+1:02d}/{n_epochs}] Loss: {total_loss:.4f} | Train Acc: {train_acc[-1]:.4f} | Test Acc: {test_acc[-1]:.4f}\")\n",
    "\n",
    "  train_losses.append(total_loss)\n",
    "\n",
    "plot_acc(train_acc, test_acc) #학습 결과 시각화\n",
    "plot_loss(train_losses) #손실값 시각화"
   ]
  },
  {
   "cell_type": "code",
   "execution_count": 13,
   "metadata": {
    "colab": {
     "base_uri": "https://localhost:8080/"
    },
    "id": "_cP-o8Yi6dVM",
    "outputId": "b37eccb3-d5d1-482e-b3d3-106313906a47"
   },
   "outputs": [
    {
     "name": "stdout",
     "output_type": "stream",
     "text": [
      "=========> Train acc: 0.598 | Test acc: 0.410\n"
     ]
    }
   ],
   "source": [
    "# 평가 시 gradient 계산 비활성화\n",
    "with torch.no_grad():\n",
    "    model.eval()  # 평가 모드로 전환 (계산 비활성화)\n",
    "    train_acc = accuracy(model, train_loader)\n",
    "    test_acc = accuracy(model, test_loader)\n",
    "\n",
    "    print(f\"=========> Train acc: {train_acc:.3f} | Test acc: {test_acc:.3f}\")"
   ]
  }
 ],
 "metadata": {
  "accelerator": "GPU",
  "colab": {
   "gpuType": "T4",
   "provenance": []
  },
  "kernelspec": {
   "display_name": "Python 3",
   "name": "python3"
  },
  "language_info": {
   "name": "python"
  }
 },
 "nbformat": 4,
 "nbformat_minor": 0
}
