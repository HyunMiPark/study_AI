{
  "nbformat": 4,
  "nbformat_minor": 0,
  "metadata": {
    "colab": {
      "provenance": [],
      "gpuType": "T4"
    },
    "kernelspec": {
      "name": "python3",
      "display_name": "Python 3"
    },
    "language_info": {
      "name": "python"
    },
    "accelerator": "GPU"
  },
  "cells": [
    {
      "cell_type": "markdown",
      "source": [
        "[목표]\n",
        "- MNIST를 regression model이 아닌 classification model로 구현\n",
        "- train과 test data에 대한 모델의 정확도를 plot하여 generalization error 확인"
      ],
      "metadata": {
        "id": "JGNnnS1QDHgW"
      }
    },
    {
      "cell_type": "code",
      "execution_count": 8,
      "metadata": {
        "id": "GAOri0UPCuBw"
      },
      "outputs": [],
      "source": [
        "import torch\n",
        "import torchvision\n",
        "import torchvision.transforms as transforms"
      ]
    },
    {
      "cell_type": "code",
      "source": [
        "import numpy as np\n",
        "import matplotlib.pyplot as plt\n",
        "\n",
        "\n",
        "def accuracy(model, dataloader):\n",
        "  cnt = 0\n",
        "  acc = 0\n",
        "\n",
        "  for data in dataloader:\n",
        "    inputs, labels = data\n",
        "    inputs, labels = inputs.to('cuda'), labels.to('cuda')\n",
        "\n",
        "    preds = model(inputs)\n",
        "    preds = torch.argmax(preds, dim=-1)\n",
        "\n",
        "    cnt += labels.shape[0]\n",
        "    acc += (labels == preds).sum().item()\n",
        "\n",
        "  return acc / cnt\n",
        "\n",
        "\n",
        "def plot_acc(train_accs, test_accs):\n",
        "  x = np.arange(len(train_accs))\n",
        "\n",
        "  plt.plot(x, train_accs, label='train')\n",
        "  plt.plot(x, test_accs, label='test')\n",
        "  plt.legend()\n",
        "  plt.show()"
      ],
      "metadata": {
        "id": "9oJzTs-EyScn"
      },
      "execution_count": 9,
      "outputs": []
    },
    {
      "cell_type": "code",
      "source": [
        "transform = transforms.ToTensor()\n",
        "\n",
        "trainset = torchvision.datasets.MNIST(\n",
        "    root='./data',\n",
        "    train=True,\n",
        "    download=True,\n",
        "    transform=transform\n",
        ")\n",
        "testset = torchvision.datasets.MNIST(\n",
        "    root='./data',\n",
        "    train=False,\n",
        "    download=True,\n",
        "    transform=transform\n",
        ")\n"
      ],
      "metadata": {
        "id": "I6_0O4i5DGi4"
      },
      "execution_count": 10,
      "outputs": []
    },
    {
      "cell_type": "code",
      "source": [
        "batch_size = 256\n",
        "\n",
        "trainloader = torch.utils.data.DataLoader(\n",
        "    trainset,\n",
        "    batch_size=batch_size,\n",
        "    shuffle=True\n",
        ")\n",
        "testloader = torch.utils.data.DataLoader(\n",
        "    testset,\n",
        "    batch_size=batch_size,\n",
        "    shuffle=False\n",
        ")"
      ],
      "metadata": {
        "id": "S4LfM0qjyaeK"
      },
      "execution_count": 11,
      "outputs": []
    },
    {
      "cell_type": "code",
      "source": [
        "from torch import nn\n",
        "\n",
        "class Model(nn.Module):\n",
        "  def __init__(self, input_dim, n_dim):\n",
        "    super().__init__()\n",
        "\n",
        "    self.layer1 = nn.Linear(input_dim, n_dim)\n",
        "    self.layer2 = nn.Linear(n_dim, n_dim)\n",
        "    self.layer3 = nn.Linear(n_dim, 10)\n",
        "\n",
        "    self.act = nn.ReLU()\n",
        "\n",
        "  def forward(self, x):\n",
        "    x = torch.flatten(x, start_dim=1)\n",
        "    x = self.act(self.layer1(x))\n",
        "    x = self.act(self.layer2(x))\n",
        "    x = self.act(self.layer3(x))\n",
        "\n",
        "    return x\n",
        "\n",
        "model = Model(28 * 28 * 1, 1024)"
      ],
      "metadata": {
        "id": "sNwN0enUEfx0"
      },
      "execution_count": 12,
      "outputs": []
    },
    {
      "cell_type": "code",
      "source": [
        "from torch.optim import SGD\n",
        "\n",
        "lr = 0.001\n",
        "model = model.to('cuda')\n",
        "\n",
        "optimizer = SGD(model.parameters(), lr=lr)"
      ],
      "metadata": {
        "id": "27ndE-gKJlWQ"
      },
      "execution_count": 13,
      "outputs": []
    },
    {
      "cell_type": "code",
      "source": [
        "n_epochs = 100\n",
        "loss_fn = nn.CrossEntropyLoss()\n",
        "train_accs = []\n",
        "test_accs = []\n",
        "\n",
        "for epoch in range(n_epochs):\n",
        "  total_loss = 0.\n",
        "  for data in trainloader:\n",
        "    model.zero_grad()\n",
        "    inputs, labels = data\n",
        "    inputs, labels = inputs.to('cuda'), labels.to('cuda')\n",
        "\n",
        "    preds = model(inputs)\n",
        "    loss = loss_fn(preds, labels)\n",
        "    loss.backward()\n",
        "    optimizer.step()\n",
        "\n",
        "    total_loss += loss.item()\n",
        "  train_accs.append(accuracy(model, trainloader))\n",
        "  test_accs.append(accuracy(model, testloader))\n",
        "\n",
        "  print(f\"Epoch {epoch:3d} | Loss: {total_loss}\")\n",
        "\n",
        "plot_acc(train_accs, test_accs)\n"
      ],
      "metadata": {
        "colab": {
          "base_uri": "https://localhost:8080/",
          "height": 1000
        },
        "id": "W_peznJSNTQ0",
        "outputId": "d06cec1d-e63c-43b7-e67a-c87d487731b4"
      },
      "execution_count": 14,
      "outputs": [
        {
          "output_type": "stream",
          "name": "stdout",
          "text": [
            "Epoch   0 | Loss: 539.607227563858\n",
            "Epoch   1 | Loss: 536.4099950790405\n",
            "Epoch   2 | Loss: 533.0538001060486\n",
            "Epoch   3 | Loss: 529.5960683822632\n",
            "Epoch   4 | Loss: 525.9236710071564\n",
            "Epoch   5 | Loss: 521.935920715332\n",
            "Epoch   6 | Loss: 517.4248716831207\n",
            "Epoch   7 | Loss: 511.90337777137756\n",
            "Epoch   8 | Loss: 505.74601316452026\n",
            "Epoch   9 | Loss: 498.86534786224365\n",
            "Epoch  10 | Loss: 491.05374002456665\n",
            "Epoch  11 | Loss: 482.2301924228668\n",
            "Epoch  12 | Loss: 472.27636778354645\n",
            "Epoch  13 | Loss: 461.06576704978943\n",
            "Epoch  14 | Loss: 448.38495552539825\n",
            "Epoch  15 | Loss: 434.357826590538\n",
            "Epoch  16 | Loss: 418.94005620479584\n",
            "Epoch  17 | Loss: 402.3232372999191\n",
            "Epoch  18 | Loss: 384.6050908565521\n",
            "Epoch  19 | Loss: 366.0607326030731\n",
            "Epoch  20 | Loss: 347.0223751068115\n",
            "Epoch  21 | Loss: 328.03164887428284\n",
            "Epoch  22 | Loss: 309.4143319129944\n",
            "Epoch  23 | Loss: 291.5422555208206\n",
            "Epoch  24 | Loss: 274.7951706647873\n",
            "Epoch  25 | Loss: 259.25299924612045\n",
            "Epoch  26 | Loss: 245.11719316244125\n",
            "Epoch  27 | Loss: 232.2968834042549\n",
            "Epoch  28 | Loss: 220.7298852801323\n",
            "Epoch  29 | Loss: 210.3246986269951\n",
            "Epoch  30 | Loss: 200.98998928070068\n",
            "Epoch  31 | Loss: 192.74355536699295\n",
            "Epoch  32 | Loss: 185.11068719625473\n",
            "Epoch  33 | Loss: 178.2533034682274\n",
            "Epoch  34 | Loss: 172.1138852238655\n",
            "Epoch  35 | Loss: 166.5492748618126\n",
            "Epoch  36 | Loss: 161.4855818748474\n",
            "Epoch  37 | Loss: 156.72124588489532\n",
            "Epoch  38 | Loss: 152.4883982539177\n",
            "Epoch  39 | Loss: 148.51747626066208\n",
            "Epoch  40 | Loss: 144.92643755674362\n",
            "Epoch  41 | Loss: 141.55201563239098\n",
            "Epoch  42 | Loss: 138.45154628157616\n",
            "Epoch  43 | Loss: 135.5039805173874\n",
            "Epoch  44 | Loss: 132.68561613559723\n",
            "Epoch  45 | Loss: 130.23315650224686\n",
            "Epoch  46 | Loss: 127.83771201968193\n",
            "Epoch  47 | Loss: 125.66815903782845\n",
            "Epoch  48 | Loss: 123.5786694586277\n",
            "Epoch  49 | Loss: 121.61468288302422\n",
            "Epoch  50 | Loss: 119.70680180191994\n",
            "Epoch  51 | Loss: 117.89185434579849\n",
            "Epoch  52 | Loss: 116.38142386078835\n",
            "Epoch  53 | Loss: 114.75616738200188\n",
            "Epoch  54 | Loss: 113.2946375310421\n",
            "Epoch  55 | Loss: 111.83742189407349\n",
            "Epoch  56 | Loss: 110.47732329368591\n",
            "Epoch  57 | Loss: 109.19711983203888\n",
            "Epoch  58 | Loss: 107.97786006331444\n",
            "Epoch  59 | Loss: 106.75056993961334\n",
            "Epoch  60 | Loss: 105.62558603286743\n",
            "Epoch  61 | Loss: 104.61007681488991\n",
            "Epoch  62 | Loss: 103.56893214583397\n",
            "Epoch  63 | Loss: 102.6228623688221\n",
            "Epoch  64 | Loss: 101.69220626354218\n",
            "Epoch  65 | Loss: 100.863282173872\n",
            "Epoch  66 | Loss: 100.04055845737457\n",
            "Epoch  67 | Loss: 99.10295033454895\n",
            "Epoch  68 | Loss: 98.37005132436752\n",
            "Epoch  69 | Loss: 97.58066245913506\n",
            "Epoch  70 | Loss: 96.90216210484505\n",
            "Epoch  71 | Loss: 96.06867742538452\n",
            "Epoch  72 | Loss: 95.40533155202866\n",
            "Epoch  73 | Loss: 94.85789379477501\n",
            "Epoch  74 | Loss: 94.11579763889313\n",
            "Epoch  75 | Loss: 93.52135211229324\n",
            "Epoch  76 | Loss: 92.99839660525322\n",
            "Epoch  77 | Loss: 92.35585433244705\n",
            "Epoch  78 | Loss: 91.80767744779587\n",
            "Epoch  79 | Loss: 91.19948962330818\n",
            "Epoch  80 | Loss: 90.72444185614586\n",
            "Epoch  81 | Loss: 90.20987179875374\n",
            "Epoch  82 | Loss: 89.77868843078613\n",
            "Epoch  83 | Loss: 89.2306125164032\n",
            "Epoch  84 | Loss: 88.76599410176277\n",
            "Epoch  85 | Loss: 88.30869075655937\n",
            "Epoch  86 | Loss: 87.88818046450615\n",
            "Epoch  87 | Loss: 87.34830433130264\n",
            "Epoch  88 | Loss: 86.9275199174881\n",
            "Epoch  89 | Loss: 86.5518182516098\n",
            "Epoch  90 | Loss: 86.02749888598919\n",
            "Epoch  91 | Loss: 85.66183149814606\n",
            "Epoch  92 | Loss: 85.40532672405243\n",
            "Epoch  93 | Loss: 84.88393408060074\n",
            "Epoch  94 | Loss: 84.71488465368748\n",
            "Epoch  95 | Loss: 84.18394865095615\n",
            "Epoch  96 | Loss: 83.89344339072704\n",
            "Epoch  97 | Loss: 83.45787532627583\n",
            "Epoch  98 | Loss: 83.15532052516937\n",
            "Epoch  99 | Loss: 82.90898683667183\n"
          ]
        },
        {
          "output_type": "display_data",
          "data": {
            "text/plain": [
              "<Figure size 640x480 with 1 Axes>"
            ],
            "image/png": "[encoded data removed]"
          },
          "metadata": {}
        }
      ]
    }
  ]
}