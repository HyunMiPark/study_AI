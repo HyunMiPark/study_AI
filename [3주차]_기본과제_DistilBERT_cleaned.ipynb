{
 "cells": [
  {
   "cell_type": "markdown",
   "metadata": {
    "id": "RmSHkslkn0nN"
   },
   "source": [
    "DistilBERT fine-tuning으로 감정 분석 모델 학습하기\n",
    "이번 실습에서는 pre-trained된 DistilBERT를 불러와 이전 주차 실습에서 사용하던 감정 분석 문제에 적용합니다. 먼저 필요한 library들을 불러옵니다."
   ]
  },
  {
   "cell_type": "markdown",
   "metadata": {
    "id": "xk8zN8Sfn5sK"
   },
   "source": [
    "### 과제 요구 사항들을 구현하고, epoch마다의 train loss와 최종 모델의 test accuracy가 print된 notebook을 public github repository에 업로드하여 공유해주시면 됩니다. 반드시 출력 결과가 남아있어야 합니다.\n",
    "- [o] AG_News dataset 준비\n",
    "    - Huggingface dataset의 `fancyzhx/ag_news`를 load\n",
    "    - `collate_fn` 함수에 다음 수정사항들을 반영\n",
    "    - Truncation과 관련된 부분들을 삭제\n",
    "- [o] Classifier output, loss function, accuracy function 변경\n",
    "    - 뉴스 기사 분류 문제는 binary classification이 아닌 일반적인 classification 문제입니다. MNIST 과제에서 했던 것 처럼 `nn.CrossEntropyLoss` 를 추가하고 `TextClassifier`의 출력 차원을 잘 조정하여 task를 풀 수 있도록 수정\n",
    "    - 그리고 정확도를 재는 `accuracy` 함수도 classification에 맞춰 수정\n",
    "- [o]  학습 결과 report\n",
    "    - DistilBERT 실습과 같이 매 epoch 마다의 train loss를 출력하고 최종 모델의 test accuracy를 report 첨부"
   ]
  },
  {
   "cell_type": "code",
   "execution_count": 1,
   "metadata": {
    "colab": {
     "base_uri": "https://localhost:8080/"
    },
    "id": "iBCwfVr6nyU2",
    "outputId": "4e944fd6-8ad0-444d-ef30-dee661e32a71"
   },
   "outputs": [
    {
     "name": "stdout",
     "output_type": "stream",
     "text": [
      "Requirement already satisfied: tqdm in /usr/local/lib/python3.11/dist-packages (4.67.1)\n",
      "Collecting boto3\n",
      "  Downloading boto3-1.37.29-py3-none-any.whl.metadata (6.7 kB)\n",
      "Requirement already satisfied: requests in /usr/local/lib/python3.11/dist-packages (2.32.3)\n",
      "Requirement already satisfied: regex in /usr/local/lib/python3.11/dist-packages (2024.11.6)\n",
      "Requirement already satisfied: sentencepiece in /usr/local/lib/python3.11/dist-packages (0.2.0)\n",
      "Collecting sacremoses\n",
      "  Downloading sacremoses-0.1.1-py3-none-any.whl.metadata (8.3 kB)\n",
      "Collecting datasets\n",
      "  Downloading datasets-3.5.0-py3-none-any.whl.metadata (19 kB)\n",
      "Collecting botocore<1.38.0,>=1.37.29 (from boto3)\n",
      "  Downloading botocore-1.37.29-py3-none-any.whl.metadata (5.7 kB)\n",
      "Collecting jmespath<2.0.0,>=0.7.1 (from boto3)\n",
      "  Downloading jmespath-1.0.1-py3-none-any.whl.metadata (7.6 kB)\n",
      "Collecting s3transfer<0.12.0,>=0.11.0 (from boto3)\n",
      "  Downloading s3transfer-0.11.4-py3-none-any.whl.metadata (1.7 kB)\n",
      "Requirement already satisfied: charset-normalizer<4,>=2 in /usr/local/lib/python3.11/dist-packages (from requests) (3.4.1)\n",
      "Requirement already satisfied: idna<4,>=2.5 in /usr/local/lib/python3.11/dist-packages (from requests) (3.10)\n",
      "Requirement already satisfied: urllib3<3,>=1.21.1 in /usr/local/lib/python3.11/dist-packages (from requests) (2.3.0)\n",
      "Requirement already satisfied: certifi>=2017.4.17 in /usr/local/lib/python3.11/dist-packages (from requests) (2025.1.31)\n",
      "Requirement already satisfied: click in /usr/local/lib/python3.11/dist-packages (from sacremoses) (8.1.8)\n",
      "Requirement already satisfied: joblib in /usr/local/lib/python3.11/dist-packages (from sacremoses) (1.4.2)\n",
      "Requirement already satisfied: filelock in /usr/local/lib/python3.11/dist-packages (from datasets) (3.18.0)\n",
      "Requirement already satisfied: numpy>=1.17 in /usr/local/lib/python3.11/dist-packages (from datasets) (2.0.2)\n",
      "Requirement already satisfied: pyarrow>=15.0.0 in /usr/local/lib/python3.11/dist-packages (from datasets) (18.1.0)\n",
      "Collecting dill<0.3.9,>=0.3.0 (from datasets)\n",
      "  Downloading dill-0.3.8-py3-none-any.whl.metadata (10 kB)\n",
      "Requirement already satisfied: pandas in /usr/local/lib/python3.11/dist-packages (from datasets) (2.2.2)\n",
      "Collecting xxhash (from datasets)\n",
      "  Downloading xxhash-3.5.0-cp311-cp311-manylinux_2_17_x86_64.manylinux2014_x86_64.whl.metadata (12 kB)\n",
      "Collecting multiprocess<0.70.17 (from datasets)\n",
      "  Downloading multiprocess-0.70.16-py311-none-any.whl.metadata (7.2 kB)\n",
      "Collecting fsspec<=2024.12.0,>=2023.1.0 (from fsspec[http]<=2024.12.0,>=2023.1.0->datasets)\n",
      "  Downloading fsspec-2024.12.0-py3-none-any.whl.metadata (11 kB)\n",
      "Requirement already satisfied: aiohttp in /usr/local/lib/python3.11/dist-packages (from datasets) (3.11.15)\n",
      "Requirement already satisfied: huggingface-hub>=0.24.0 in /usr/local/lib/python3.11/dist-packages (from datasets) (0.30.1)\n",
      "Requirement already satisfied: packaging in /usr/local/lib/python3.11/dist-packages (from datasets) (24.2)\n",
      "Requirement already satisfied: pyyaml>=5.1 in /usr/local/lib/python3.11/dist-packages (from datasets) (6.0.2)\n",
      "Requirement already satisfied: python-dateutil<3.0.0,>=2.1 in /usr/local/lib/python3.11/dist-packages (from botocore<1.38.0,>=1.37.29->boto3) (2.8.2)\n",
      "Requirement already satisfied: aiohappyeyeballs>=2.3.0 in /usr/local/lib/python3.11/dist-packages (from aiohttp->datasets) (2.6.1)\n",
      "Requirement already satisfied: aiosignal>=1.1.2 in /usr/local/lib/python3.11/dist-packages (from aiohttp->datasets) (1.3.2)\n",
      "Requirement already satisfied: attrs>=17.3.0 in /usr/local/lib/python3.11/dist-packages (from aiohttp->datasets) (25.3.0)\n",
      "Requirement already satisfied: frozenlist>=1.1.1 in /usr/local/lib/python3.11/dist-packages (from aiohttp->datasets) (1.5.0)\n",
      "Requirement already satisfied: multidict<7.0,>=4.5 in /usr/local/lib/python3.11/dist-packages (from aiohttp->datasets) (6.2.0)\n",
      "Requirement already satisfied: propcache>=0.2.0 in /usr/local/lib/python3.11/dist-packages (from aiohttp->datasets) (0.3.1)\n",
      "Requirement already satisfied: yarl<2.0,>=1.17.0 in /usr/local/lib/python3.11/dist-packages (from aiohttp->datasets) (1.18.3)\n",
      "Requirement already satisfied: typing-extensions>=3.7.4.3 in /usr/local/lib/python3.11/dist-packages (from huggingface-hub>=0.24.0->datasets) (4.13.1)\n",
      "Requirement already satisfied: pytz>=2020.1 in /usr/local/lib/python3.11/dist-packages (from pandas->datasets) (2025.2)\n",
      "Requirement already satisfied: tzdata>=2022.7 in /usr/local/lib/python3.11/dist-packages (from pandas->datasets) (2025.2)\n",
      "Requirement already satisfied: six>=1.5 in /usr/local/lib/python3.11/dist-packages (from python-dateutil<3.0.0,>=2.1->botocore<1.38.0,>=1.37.29->boto3) (1.17.0)\n",
      "Downloading boto3-1.37.29-py3-none-any.whl (139 kB)\n",
      "\u001b[2K   \u001b[90m━━━━━━━━━━━━━━━━━━━━━━━━━━━━━━━━━━━━━━━━\u001b[0m \u001b[32m139.6/139.6 kB\u001b[0m \u001b[31m4.7 MB/s\u001b[0m eta \u001b[36m0:00:00\u001b[0m\n",
      "\u001b[?25hDownloading sacremoses-0.1.1-py3-none-any.whl (897 kB)\n",
      "\u001b[2K   \u001b[90m━━━━━━━━━━━━━━━━━━━━━━━━━━━━━━━━━━━━━━━━\u001b[0m \u001b[32m897.5/897.5 kB\u001b[0m \u001b[31m26.8 MB/s\u001b[0m eta \u001b[36m0:00:00\u001b[0m\n",
      "\u001b[?25hDownloading datasets-3.5.0-py3-none-any.whl (491 kB)\n",
      "\u001b[2K   \u001b[90m━━━━━━━━━━━━━━━━━━━━━━━━━━━━━━━━━━━━━━━━\u001b[0m \u001b[32m491.2/491.2 kB\u001b[0m \u001b[31m35.0 MB/s\u001b[0m eta \u001b[36m0:00:00\u001b[0m\n",
      "\u001b[?25hDownloading botocore-1.37.29-py3-none-any.whl (13.5 MB)\n",
      "\u001b[2K   \u001b[90m━━━━━━━━━━━━━━━━━━━━━━━━━━━━━━━━━━━━━━━━\u001b[0m \u001b[32m13.5/13.5 MB\u001b[0m \u001b[31m75.6 MB/s\u001b[0m eta \u001b[36m0:00:00\u001b[0m\n",
      "\u001b[?25hDownloading dill-0.3.8-py3-none-any.whl (116 kB)\n",
      "\u001b[2K   \u001b[90m━━━━━━━━━━━━━━━━━━━━━━━━━━━━━━━━━━━━━━━━\u001b[0m \u001b[32m116.3/116.3 kB\u001b[0m \u001b[31m9.5 MB/s\u001b[0m eta \u001b[36m0:00:00\u001b[0m\n",
      "\u001b[?25hDownloading fsspec-2024.12.0-py3-none-any.whl (183 kB)\n",
      "\u001b[2K   \u001b[90m━━━━━━━━━━━━━━━━━━━━━━━━━━━━━━━━━━━━━━━━\u001b[0m \u001b[32m183.9/183.9 kB\u001b[0m \u001b[31m13.9 MB/s\u001b[0m eta \u001b[36m0:00:00\u001b[0m\n",
      "\u001b[?25hDownloading jmespath-1.0.1-py3-none-any.whl (20 kB)\n",
      "Downloading multiprocess-0.70.16-py311-none-any.whl (143 kB)\n",
      "\u001b[2K   \u001b[90m━━━━━━━━━━━━━━━━━━━━━━━━━━━━━━━━━━━━━━━━\u001b[0m \u001b[32m143.5/143.5 kB\u001b[0m \u001b[31m13.5 MB/s\u001b[0m eta \u001b[36m0:00:00\u001b[0m\n",
      "\u001b[?25hDownloading s3transfer-0.11.4-py3-none-any.whl (84 kB)\n",
      "\u001b[2K   \u001b[90m━━━━━━━━━━━━━━━━━━━━━━━━━━━━━━━━━━━━━━━━\u001b[0m \u001b[32m84.4/84.4 kB\u001b[0m \u001b[31m7.2 MB/s\u001b[0m eta \u001b[36m0:00:00\u001b[0m\n",
      "\u001b[?25hDownloading xxhash-3.5.0-cp311-cp311-manylinux_2_17_x86_64.manylinux2014_x86_64.whl (194 kB)\n",
      "\u001b[2K   \u001b[90m━━━━━━━━━━━━━━━━━━━━━━━━━━━━━━━━━━━━━━━━\u001b[0m \u001b[32m194.8/194.8 kB\u001b[0m \u001b[31m18.4 MB/s\u001b[0m eta \u001b[36m0:00:00\u001b[0m\n",
      "\u001b[?25hInstalling collected packages: xxhash, sacremoses, jmespath, fsspec, dill, multiprocess, botocore, s3transfer, datasets, boto3\n",
      "  Attempting uninstall: fsspec\n",
      "    Found existing installation: fsspec 2025.3.2\n",
      "    Uninstalling fsspec-2025.3.2:\n",
      "      Successfully uninstalled fsspec-2025.3.2\n",
      "\u001b[31mERROR: pip's dependency resolver does not currently take into account all the packages that are installed. This behaviour is the source of the following dependency conflicts.\n",
      "torch 2.6.0+cu124 requires nvidia-cublas-cu12==12.4.5.8; platform_system == \"Linux\" and platform_machine == \"x86_64\", but you have nvidia-cublas-cu12 12.5.3.2 which is incompatible.\n",
      "torch 2.6.0+cu124 requires nvidia-cuda-cupti-cu12==12.4.127; platform_system == \"Linux\" and platform_machine == \"x86_64\", but you have nvidia-cuda-cupti-cu12 12.5.82 which is incompatible.\n",
      "torch 2.6.0+cu124 requires nvidia-cuda-nvrtc-cu12==12.4.127; platform_system == \"Linux\" and platform_machine == \"x86_64\", but you have nvidia-cuda-nvrtc-cu12 12.5.82 which is incompatible.\n",
      "torch 2.6.0+cu124 requires nvidia-cuda-runtime-cu12==12.4.127; platform_system == \"Linux\" and platform_machine == \"x86_64\", but you have nvidia-cuda-runtime-cu12 12.5.82 which is incompatible.\n",
      "torch 2.6.0+cu124 requires nvidia-cudnn-cu12==9.1.0.70; platform_system == \"Linux\" and platform_machine == \"x86_64\", but you have nvidia-cudnn-cu12 9.3.0.75 which is incompatible.\n",
      "torch 2.6.0+cu124 requires nvidia-cufft-cu12==11.2.1.3; platform_system == \"Linux\" and platform_machine == \"x86_64\", but you have nvidia-cufft-cu12 11.2.3.61 which is incompatible.\n",
      "torch 2.6.0+cu124 requires nvidia-curand-cu12==10.3.5.147; platform_system == \"Linux\" and platform_machine == \"x86_64\", but you have nvidia-curand-cu12 10.3.6.82 which is incompatible.\n",
      "torch 2.6.0+cu124 requires nvidia-cusolver-cu12==11.6.1.9; platform_system == \"Linux\" and platform_machine == \"x86_64\", but you have nvidia-cusolver-cu12 11.6.3.83 which is incompatible.\n",
      "torch 2.6.0+cu124 requires nvidia-cusparse-cu12==12.3.1.170; platform_system == \"Linux\" and platform_machine == \"x86_64\", but you have nvidia-cusparse-cu12 12.5.1.3 which is incompatible.\n",
      "torch 2.6.0+cu124 requires nvidia-nvjitlink-cu12==12.4.127; platform_system == \"Linux\" and platform_machine == \"x86_64\", but you have nvidia-nvjitlink-cu12 12.5.82 which is incompatible.\n",
      "gcsfs 2025.3.2 requires fsspec==2025.3.2, but you have fsspec 2024.12.0 which is incompatible.\u001b[0m\u001b[31m\n",
      "\u001b[0mSuccessfully installed boto3-1.37.29 botocore-1.37.29 datasets-3.5.0 dill-0.3.8 fsspec-2024.12.0 jmespath-1.0.1 multiprocess-0.70.16 s3transfer-0.11.4 sacremoses-0.1.1 xxhash-3.5.0\n"
     ]
    }
   ],
   "source": [
    "!pip install tqdm boto3 requests regex sentencepiece sacremoses datasets"
   ]
  },
  {
   "cell_type": "markdown",
   "metadata": {
    "id": "CppLX-lfoD0n"
   },
   "source": [
    "그 후, 우리가 사용하는 DistilBERT pre-training 때 사용한 tokenizer를 불러옵니다."
   ]
  },
  {
   "cell_type": "code",
   "execution_count": 2,
   "metadata": {
    "colab": {
     "base_uri": "https://localhost:8080/",
     "height": 326,
     "referenced_widgets": [
      "a828eea3125b4281afe87656df33be82",
      "4fcc4df5bc43408aa50f8287f4118e98",
      "11382286d2554108875e8a2902fe583b",
      "d899dd257c294497bf05be5ea04b81bb",
      "5e53a3a2b3c1456bb2feaaad7adb5810",
      "1425f8edf43a40538cdca331aaec7df8",
      "b6942bbd32994da592aee99cc8187969",
      "1dc165773b1749008a07164e4defe03a",
      "79c084ded947431a8bc8f8e7bbbf075b",
      "7f570e7be754438b933f19a621523781",
      "2265b6c15b8a402986122d5c9c90ca8a",
      "7fc53d124e7b499dae5fe4c243840038",
      "bcc87c7909fb4505a82656bb3d8e3386",
      "6361acfaf9fc45ea80b4b0059a33cdd9",
      "74f3543340e949c4988798e38ee6caed",
      "a7d7eacf27c8464e9968acadf0688a47",
      "0d88d06f8c42493fa050e02ec6a7488b",
      "89d775f2b00b4465a97c2c3f01fc7211",
      "c46aedba033c4e648531e78aaa3dd839",
      "d3b47356a69e4a4b90eec6877e520ee9",
      "f568a580bf8243449bd65b0efa1a7b0e",
      "82f40d852bce484fbbd049be6a03aa05",
      "3d62a66392f8440b97260ce7aca2d543",
      "cef6e993cd574d4da9d35519062d0bc3",
      "7249070626aa4165b95af362e79a3f7e",
      "4014bd4842ed42638988d5389f3d9a76",
      "e789e190ee524570aabbabfa0c51b4d1",
      "79da2db563964e8b9ac00151bca109a4",
      "c37db3fd1d4d4add859b407ccd4f60ab",
      "120c38fa484f4926a7beaf9dded3ec2e",
      "22ddded6924a4d648a9d2a6eabd5196e",
      "8a86589bbec84830b5221860d03a01f6",
      "5dd8529727f1416ab45186f40c27f62d",
      "89e41afeb4474456b552ae4973095a32",
      "2adcf8815e8a431a9cd8174ea95066e9",
      "ee8e9294a58d40ffa9abb2b32b91f337",
      "f712361940234119aa6b3893931198e7",
      "0de9b989f9a54527be3e2d973e2156fb",
      "97cae53d5fe040f8820715d0b80bdc22",
      "1fe1f0d5951f4f1082bc8a526c263323",
      "dec0f682892d4e78bf2bd1aed5b50b52",
      "c4501a18062b418486f1330992aa2a2b",
      "7164c24d0e604956b9a14e0c8c94dd97",
      "420262db807b4f4c945e19a01c3fc976"
     ]
    },
    "id": "FoDmWnQAoA4F",
    "outputId": "9745ae8c-ac12-4185-f4c5-57c38ff37970"
   },
   "outputs": [
    {
     "name": "stderr",
     "output_type": "stream",
     "text": [
      "/usr/local/lib/python3.11/dist-packages/torch/hub.py:330: UserWarning: You are about to download and run code from an untrusted repository. In a future release, this won't be allowed. To add the repository to your trusted list, change the command to {calling_fn}(..., trust_repo=False) and a command prompt will appear asking for an explicit confirmation of trust, or load(..., trust_repo=True), which will assume that the prompt is to be answered with 'yes'. You can also use load(..., trust_repo='check') which will only prompt for confirmation if the repo is not already trusted. This will eventually be the default behaviour\n",
      "  warnings.warn(\n",
      "Downloading: \"https://github.com/huggingface/pytorch-transformers/zipball/main\" to /root/.cache/torch/hub/main.zip\n",
      "/usr/local/lib/python3.11/dist-packages/huggingface_hub/utils/_auth.py:94: UserWarning: \n",
      "The secret `HF_TOKEN` does not exist in your Colab secrets.\n",
      "To authenticate with the Hugging Face Hub, create a token in your settings tab (https://huggingface.co/settings/tokens), set it as secret in your Google Colab and restart your session.\n",
      "You will be able to reuse this secret in all of your notebooks.\n",
      "Please note that authentication is recommended but still optional to access public models or datasets.\n",
      "  warnings.warn(\n"
     ]
    },
    {
     "data": {
      "application/vnd.jupyter.widget-view+json": {
       "model_id": "a828eea3125b4281afe87656df33be82",
       "version_major": 2,
       "version_minor": 0
      },
      "text/plain": [
       "tokenizer_config.json:   0%|          | 0.00/48.0 [00:00<?, ?B/s]"
      ]
     },
     "metadata": {},
     "output_type": "display_data"
    },
    {
     "data": {
      "application/vnd.jupyter.widget-view+json": {
       "model_id": "7fc53d124e7b499dae5fe4c243840038",
       "version_major": 2,
       "version_minor": 0
      },
      "text/plain": [
       "config.json:   0%|          | 0.00/483 [00:00<?, ?B/s]"
      ]
     },
     "metadata": {},
     "output_type": "display_data"
    },
    {
     "data": {
      "application/vnd.jupyter.widget-view+json": {
       "model_id": "3d62a66392f8440b97260ce7aca2d543",
       "version_major": 2,
       "version_minor": 0
      },
      "text/plain": [
       "vocab.txt:   0%|          | 0.00/232k [00:00<?, ?B/s]"
      ]
     },
     "metadata": {},
     "output_type": "display_data"
    },
    {
     "data": {
      "application/vnd.jupyter.widget-view+json": {
       "model_id": "89e41afeb4474456b552ae4973095a32",
       "version_major": 2,
       "version_minor": 0
      },
      "text/plain": [
       "tokenizer.json:   0%|          | 0.00/466k [00:00<?, ?B/s]"
      ]
     },
     "metadata": {},
     "output_type": "display_data"
    }
   ],
   "source": [
    "import torch\n",
    "from datasets import load_dataset\n",
    "from torch.utils.data import DataLoader\n",
    "\n",
    "# DistilBERT 모델용 tokenizer 로드 (pretrained)\n",
    "# 이 tokenizer는 문장을 토큰화해서 모델이 이해할 수 있는 input_ids로 변환해줌\n",
    "tokenizer = torch.hub.load('huggingface/pytorch-transformers', 'tokenizer', 'distilbert-base-uncased')"
   ]
  },
  {
   "cell_type": "markdown",
   "metadata": {
    "id": "EYph-EE7oNPw"
   },
   "source": [
    "DistilBERT의 tokenizer를 불러왔으면 이제 collate_fn과 data loader를 정의합니다. 이 과정은 이전 실습과 동일하게 다음과 같이 구현할 수 있습니다."
   ]
  },
  {
   "cell_type": "code",
   "execution_count": 3,
   "metadata": {
    "colab": {
     "base_uri": "https://localhost:8080/",
     "height": 268,
     "referenced_widgets": [
      "0e3eacc0a4f444579537b999d6f65de2",
      "994187730b8947d283ed2a09edd8c55c",
      "4af04876b56d40ff9363e532657fbf4b",
      "5224c99f8b27407e9a9e8e673daaffcd",
      "948f64db2b7948178bac0d88ae44184f",
      "7952571c6ba44275b819cc24dc70c544",
      "84ee3e5ff974416d96aa54bddc0f10a0",
      "0c587f82a74049e79d211d4c23b7c10e",
      "4038daa758fd450c862cec6a00e2c85b",
      "8647b416a4bf4652b1e20a757a81ee26",
      "216c2dae5ec34f38a5f7475faa983955",
      "3d7d08de139c47a0a24f9b4909d2b068",
      "20474cabfbe4420cac1ada5d212c277f",
      "34d202266d0b4f009c59d4a13f153b33",
      "d2108bec49d04bf2b6226031e539923a",
      "96faeb70989b4b5485c76189e1404079",
      "a61423210ca543ac8d7f362e0b53b55c",
      "760ce578a94149e99a313bdfbeab3a4b",
      "ad6bcf1ce1c44aa98b51da9915a58d14",
      "7353b2c91f4e45418de76e8f58260542",
      "06b4aa122381460a97a3166bc25816d6",
      "9c9f5e89c48a456ab00228fba8444d68",
      "ea9429fe8e2f47a4ba5b2ef0a841c8ba",
      "9a40eb25936c418483407c759791a250",
      "cf4724acca40480da9fb5ee2bbc36795",
      "7c68689dae214e2398b59a0f35e6b381",
      "fee311e029f047d78bfb574b55ed251d",
      "46f28ee7e52b4bf7860b5cad10475a6b",
      "59361a3ae98046b9a9db206aa061b389",
      "3215957754e84116bfce47d0489fbf7b",
      "1bad2215880c4192ac655a0604813747",
      "bd7513b5cdeb41678f321346c05409d6",
      "ac1bbd20196f4f01bfefe58782e2cfdc",
      "c216547d92a44828acab0d6b8ba61c2c",
      "a73223cab56a483a916a8c3081f63e3c",
      "2d0af292850e4cd3ae3c57c6ca022715",
      "53e118b69d9146698d14519128c79af7",
      "e1b3b181779b4f6e92fe26505a360c2b",
      "14e2e0a809cd4cbaa2c2ca78cec4586b",
      "6d2920db2ee5400db8359947b5576be0",
      "4d6819f44f7941ae8cd5e500bde242fb",
      "3cf68bc3b7ad43a8ab5451f97608fe50",
      "b6eb7be1e62642deb57f4b620ea1674e",
      "eceb28cfadb344b9a5a51f92a75f870a",
      "e676f4dce068462aa824c3e00a31f618",
      "d1d417e72f5b47f9b7d1f70102164ce2",
      "ab5e1fec0296456b9bd27ba4fef8e606",
      "04e6a63aecc5482f9e5838c9e0a8ae63",
      "a07c46c33e8e49da9aa43be0566e9e6a",
      "363b4346ebca40c2b426345c7ad89823",
      "f8cc4e33cc4c4bfebfb1d28d49056afe",
      "4de990df6c454f9bbb647aa519ccfe9a",
      "c6299c5677204630a601e81efde4f6a7",
      "9c0f578d12714d918aef879dea633550",
      "168be93f14564a71ba78785e026346ef"
     ]
    },
    "id": "oUFf6U7joPAR",
    "outputId": "90013208-2f13-4717-9ece-d8d086255de1"
   },
   "outputs": [
    {
     "data": {
      "application/vnd.jupyter.widget-view+json": {
       "model_id": "0e3eacc0a4f444579537b999d6f65de2",
       "version_major": 2,
       "version_minor": 0
      },
      "text/plain": [
       "README.md:   0%|          | 0.00/8.07k [00:00<?, ?B/s]"
      ]
     },
     "metadata": {},
     "output_type": "display_data"
    },
    {
     "data": {
      "application/vnd.jupyter.widget-view+json": {
       "model_id": "3d7d08de139c47a0a24f9b4909d2b068",
       "version_major": 2,
       "version_minor": 0
      },
      "text/plain": [
       "train-00000-of-00001.parquet:   0%|          | 0.00/18.6M [00:00<?, ?B/s]"
      ]
     },
     "metadata": {},
     "output_type": "display_data"
    },
    {
     "data": {
      "application/vnd.jupyter.widget-view+json": {
       "model_id": "ea9429fe8e2f47a4ba5b2ef0a841c8ba",
       "version_major": 2,
       "version_minor": 0
      },
      "text/plain": [
       "test-00000-of-00001.parquet:   0%|          | 0.00/1.23M [00:00<?, ?B/s]"
      ]
     },
     "metadata": {},
     "output_type": "display_data"
    },
    {
     "data": {
      "application/vnd.jupyter.widget-view+json": {
       "model_id": "c216547d92a44828acab0d6b8ba61c2c",
       "version_major": 2,
       "version_minor": 0
      },
      "text/plain": [
       "Generating train split:   0%|          | 0/120000 [00:00<?, ? examples/s]"
      ]
     },
     "metadata": {},
     "output_type": "display_data"
    },
    {
     "data": {
      "application/vnd.jupyter.widget-view+json": {
       "model_id": "e676f4dce068462aa824c3e00a31f618",
       "version_major": 2,
       "version_minor": 0
      },
      "text/plain": [
       "Generating test split:   0%|          | 0/7600 [00:00<?, ? examples/s]"
      ]
     },
     "metadata": {},
     "output_type": "display_data"
    },
    {
     "name": "stdout",
     "output_type": "stream",
     "text": [
      "train sample:  {'text': \"Wall St. Bears Claw Back Into the Black (Reuters) Reuters - Short-sellers, Wall Street's dwindling\\\\band of ultra-cynics, are seeing green again.\", 'label': 2}\n",
      "test sample: {'text': \"Fears for T N pension after talks Unions representing workers at Turner   Newall say they are 'disappointed' after talks with stricken parent firm Federal Mogul.\", 'label': 2}\n",
      "train sample count:  6000\n",
      "test sample count:  380\n"
     ]
    }
   ],
   "source": [
    "# IMDB 감정 분석 데이터셋의 5%만 로드 (학습 데이터와 테스트 데이터 각각)\n",
    "# 4개 카테고리(world/sports/Business/Sci,Tech)\n",
    "train_ds = load_dataset(\"fancyzhx/ag_news\", split=\"train[:5%]\")\n",
    "test_ds = load_dataset(\"fancyzhx/ag_news\", split=\"test[:5%]\")\n",
    "\n",
    "#첫번째 샘플 데이터 확인\n",
    "print(\"train sample: \", train_ds[0])\n",
    "print(\"test sample:\", test_ds[0])\n",
    "\n",
    "#샘플 개수 확인\n",
    "print(\"train sample count: \", len(train_ds))\n",
    "print(\"test sample count: \", len(test_ds))\n",
    "\n",
    "# 데이터를 배치로 묶기 위한 함수 정의\n",
    "def collate_fn(batch):\n",
    "    texts, labels = [], []  # 입력 문장들과 라벨들을 저장할 리스트\n",
    "\n",
    "    # 배치 내 각 샘플에 대해 text와 label 추출\n",
    "    for row in batch:\n",
    "        labels.append(row['label'])\n",
    "        texts.append(row['text'])\n",
    "\n",
    "    # tokenizer로 텍스트를 토큰화하고, 최대 길이로 패딩 및 자르기\n",
    "    # tokenizer는 사전에 정의되어 있어야 함 (예: tokenizer = AutoTokenizer.from_pretrained(...))\n",
    "    texts = torch.LongTensor(tokenizer(texts, padding=True).input_ids)\n",
    "    # 라벨 리스트를 LongTensor로 변환\n",
    "    labels = torch.LongTensor(labels)\n",
    "\n",
    "    # 모델 학습에 필요한 입력 (토큰화된 문장들)과 정답 라벨 반환\n",
    "    return texts, labels\n",
    "\n",
    "# 학습용 DataLoader 정의 (shuffle=True로 배치 순서 랜덤화)\n",
    "train_loader = DataLoader(\n",
    "    train_ds, batch_size=64, shuffle=True, collate_fn=collate_fn\n",
    ")\n",
    "\n",
    "# 테스트용 DataLoader 정의 (shuffle=False로 배치 순서 고정)\n",
    "test_loader = DataLoader(\n",
    "    test_ds, batch_size=64, shuffle=False, collate_fn=collate_fn\n",
    ")"
   ]
  },
  {
   "cell_type": "markdown",
   "metadata": {
    "id": "ejq75QcyoUxz"
   },
   "source": [
    "이제 pre-trained DistilBERT를 불러옵니다. 이번에는 PyTorch hub에서 제공하는 DistilBERT를 불러봅시다."
   ]
  },
  {
   "cell_type": "code",
   "execution_count": 4,
   "metadata": {
    "colab": {
     "base_uri": "https://localhost:8080/",
     "height": 641,
     "referenced_widgets": [
      "26bc2be7a5bc4bb5813d6a7e54cb2c95",
      "90dc1cf84e194711a17a65f74fa2b653",
      "c44bb8bb1b5c47d0acd000fc3391f7ce",
      "03fb730492a24105bde1c9b21c2debef",
      "13e6a5f69c7440f3b860214599578bda",
      "98e43bc1a8de476180120112cea857a9",
      "13a8fdf819924be0b3f1b15628458d1f",
      "f377d6fdc6f54b59821e83707e6c10a9",
      "3198bc5c5475469e8d0bb77ba563d900",
      "f0ad5c89fd724ef28de98681d62af8c4",
      "b9990774bd8a4390a74cf75a277517e7"
     ]
    },
    "id": "mdHWq0-LoWZ_",
    "outputId": "a91fa951-7a39-42a3-efc8-0ed4b53a7f26"
   },
   "outputs": [
    {
     "name": "stderr",
     "output_type": "stream",
     "text": [
      "Using cache found in /root/.cache/torch/hub/huggingface_pytorch-transformers_main\n",
      "Xet Storage is enabled for this repo, but the 'hf_xet' package is not installed. Falling back to regular HTTP download. For better performance, install the package with: `pip install huggingface_hub[hf_xet]` or `pip install hf_xet`\n",
      "WARNING:huggingface_hub.file_download:Xet Storage is enabled for this repo, but the 'hf_xet' package is not installed. Falling back to regular HTTP download. For better performance, install the package with: `pip install huggingface_hub[hf_xet]` or `pip install hf_xet`\n"
     ]
    },
    {
     "data": {
      "application/vnd.jupyter.widget-view+json": {
       "model_id": "26bc2be7a5bc4bb5813d6a7e54cb2c95",
       "version_major": 2,
       "version_minor": 0
      },
      "text/plain": [
       "model.safetensors:   0%|          | 0.00/268M [00:00<?, ?B/s]"
      ]
     },
     "metadata": {},
     "output_type": "display_data"
    },
    {
     "data": {
      "text/plain": [
       "DistilBertModel(\n",
       "  (embeddings): Embeddings(\n",
       "    (word_embeddings): Embedding(30522, 768, padding_idx=0)\n",
       "    (position_embeddings): Embedding(512, 768)\n",
       "    (LayerNorm): LayerNorm((768,), eps=1e-12, elementwise_affine=True)\n",
       "    (dropout): Dropout(p=0.1, inplace=False)\n",
       "  )\n",
       "  (transformer): Transformer(\n",
       "    (layer): ModuleList(\n",
       "      (0-5): 6 x TransformerBlock(\n",
       "        (attention): DistilBertSdpaAttention(\n",
       "          (dropout): Dropout(p=0.1, inplace=False)\n",
       "          (q_lin): Linear(in_features=768, out_features=768, bias=True)\n",
       "          (k_lin): Linear(in_features=768, out_features=768, bias=True)\n",
       "          (v_lin): Linear(in_features=768, out_features=768, bias=True)\n",
       "          (out_lin): Linear(in_features=768, out_features=768, bias=True)\n",
       "        )\n",
       "        (sa_layer_norm): LayerNorm((768,), eps=1e-12, elementwise_affine=True)\n",
       "        (ffn): FFN(\n",
       "          (dropout): Dropout(p=0.1, inplace=False)\n",
       "          (lin1): Linear(in_features=768, out_features=3072, bias=True)\n",
       "          (lin2): Linear(in_features=3072, out_features=768, bias=True)\n",
       "          (activation): GELUActivation()\n",
       "        )\n",
       "        (output_layer_norm): LayerNorm((768,), eps=1e-12, elementwise_affine=True)\n",
       "      )\n",
       "    )\n",
       "  )\n",
       ")"
      ]
     },
     "execution_count": 4,
     "metadata": {},
     "output_type": "execute_result"
    }
   ],
   "source": [
    "#DistilBERT 모델을 PyTorch Hub에서 로드 후 model 출력\n",
    "model = torch.hub.load('huggingface/pytorch-transformers', 'model', 'distilbert-base-uncased')\n",
    "model"
   ]
  },
  {
   "cell_type": "markdown",
   "metadata": {
    "id": "_ALCiqT0oYtH"
   },
   "source": [
    "출력 결과를 통해 우리는 DistilBERT의 architecture는 일반적인 Transformer와 동일한 것을 알 수 있습니다. Embedding layer로 시작해서 여러 layer의 Attention, FFN를 거칩니다.\n",
    "\n",
    "이제 DistilBERT를 거치고 난 [CLS] token의 representation을 가지고 text 분류를 하는 모델을 구현합시다."
   ]
  },
  {
   "cell_type": "code",
   "execution_count": 5,
   "metadata": {
    "colab": {
     "base_uri": "https://localhost:8080/"
    },
    "id": "0cyDj_Kcoa11",
    "outputId": "74e2c69c-7e9e-4eec-ea13-49c8d7fdade4"
   },
   "outputs": [
    {
     "name": "stderr",
     "output_type": "stream",
     "text": [
      "Using cache found in /root/.cache/torch/hub/huggingface_pytorch-transformers_main\n"
     ]
    }
   ],
   "source": [
    "from torch import nn\n",
    "\n",
    "# 텍스트 분류 모델 정의 (DistilBERT + Linear layer)\n",
    "class TextClassifier(nn.Module):\n",
    "    def __init__(self):\n",
    "        super().__init__()\n",
    "\n",
    "        # 사전학습된 DistilBERT 모델을 encoder로 불러옴 (pretrained transformer)\n",
    "        self.encoder = torch.hub.load('huggingface/pytorch-transformers', 'model', 'distilbert-base-uncased')\n",
    "\n",
    "\n",
    "        # [CLS] 토큰 분류기 정의 \n",
    "        self.classifier = nn.Linear(768, 4)\n",
    "\n",
    "    def forward(self, x):\n",
    "        # encoder에 input_ids 전달\n",
    "        x = self.encoder(x)['last_hidden_state']\n",
    "\n",
    "        # [CLS] 토큰 위치 벡터를 classification head에 전달\n",
    "        x = self.classifier(x[:, 0])\n",
    "\n",
    "        return x  # logit 출력\n",
    "\n",
    "model = TextClassifier()"
   ]
  },
  {
   "cell_type": "markdown",
   "metadata": {
    "id": "TNQdgtOpojah"
   },
   "source": [
    "위와 같이 TextClassifier의 encoder를 불러온 DistilBERT, 그리고 classifier를 linear layer로 설정합니다. 그리고 forward 함수에서 순차적으로 사용하여 예측 결과를 반환합니다.\n",
    "\n",
    "다음은 마지막 classifier layer를 제외한 나머지 부분을 freeze하는 코드를 구현합니다."
   ]
  },
  {
   "cell_type": "code",
   "execution_count": 6,
   "metadata": {
    "id": "hBrZxLxpokUF"
   },
   "outputs": [],
   "source": [
    "for param in model.encoder.parameters():\n",
    "  param.requires_grad = False"
   ]
  },
  {
   "cell_type": "markdown",
   "metadata": {
    "id": "9WYlxxIRol44"
   },
   "source": [
    "위의 코드는 encoder에 해당하는 parameter들의 requires_grad를 False로 설정하는 모습입니다. requires_grad를 False로 두는 경우, gradient 계산 및 업데이트가 이루어지지 않아 결과적으로 학습이 되지 않습니다. 즉, 마지막 classifier에 해당하는 linear layer만 학습이 이루어집니다. 이런 식으로 특정 부분들을 freeze하게 되면 효율적으로 학습을 할 수 있습니다.\n",
    "\n",
    "마지막으로 이전과 같은 코드를 사용하여 학습 결과를 확인해봅시다."
   ]
  },
  {
   "cell_type": "code",
   "execution_count": 7,
   "metadata": {
    "id": "MQOXNoZforNf"
   },
   "outputs": [],
   "source": [
    "from torch.optim import Adam\n",
    "import numpy as np\n",
    "import matplotlib.pyplot as plt\n",
    "\n",
    "def accuracy(model, dataloader):\n",
    "    cnt = 0      # 전체 샘플 수\n",
    "    acc = 0      # 정답 개수 누적\n",
    "\n",
    "    for data in dataloader:\n",
    "        inputs, labels = data\n",
    "        inputs, labels = inputs.to('cuda'), labels.to('cuda')\n",
    "\n",
    "        preds = model(inputs)  # 로짓(logit) 출력\n",
    "        preds = torch.argmax(preds, dim=-1)\n",
    "\n",
    "        cnt += labels.shape[0]  # 총 샘플 수 누적\n",
    "        acc += (labels == preds).sum().item()  # 예측이 맞은 수 누적\n",
    "\n",
    "    return acc / cnt  # 정확도 반환\n",
    "\n",
    "#학습 과정 시각화 함수\n",
    "def plot_acc(train_acc, test_acc):\n",
    "  x = np.arange(len(train_acc))\n",
    "\n",
    "  plt.plot(x, train_acc, label='train') #학습 데이터 정확도 그래프\n",
    "  plt.plot(x, test_acc, label='test') #테스트 데이터 정확도 그래프\n",
    "  plt.legend()\n",
    "  plt.show()\n",
    "\n",
    "def plot_loss(losses):\n",
    "    plt.plot(np.arange(len(losses)), losses, label='train_loss')\n",
    "    plt.xlabel('Epoch')\n",
    "    plt.ylabel('Loss')\n",
    "    plt.title('Training Loss over Time')\n",
    "    plt.legend()\n",
    "    plt.show()"
   ]
  },
  {
   "cell_type": "code",
   "execution_count": 8,
   "metadata": {
    "colab": {
     "base_uri": "https://localhost:8080/",
     "height": 1000
    },
    "id": "sAQ-I3Oqo6sa",
    "outputId": "1069a0ad-389a-4efb-8d25-93bdf45bc5ea"
   },
   "outputs": [
    {
     "name": "stderr",
     "output_type": "stream",
     "text": [
      "We strongly recommend passing in an `attention_mask` since your input_ids may be padded. See https://huggingface.co/docs/transformers/troubleshooting#incorrect-output-when-padding-tokens-arent-masked.\n"
     ]
    },
    {
     "name": "stdout",
     "output_type": "stream",
     "text": [
      "[Epoch 01/30] Loss: 98.6848 | Train Acc: 0.8063 | Test Acc: 0.8026\n",
      "[Epoch 02/30] Loss: 68.9752 | Train Acc: 0.8198 | Test Acc: 0.8158\n",
      "[Epoch 03/30] Loss: 58.8979 | Train Acc: 0.8203 | Test Acc: 0.8395\n",
      "[Epoch 04/30] Loss: 54.1513 | Train Acc: 0.8382 | Test Acc: 0.8421\n",
      "[Epoch 05/30] Loss: 51.1447 | Train Acc: 0.8317 | Test Acc: 0.8421\n",
      "[Epoch 06/30] Loss: 49.8861 | Train Acc: 0.8393 | Test Acc: 0.8447\n",
      "[Epoch 07/30] Loss: 47.2094 | Train Acc: 0.8438 | Test Acc: 0.8395\n",
      "[Epoch 08/30] Loss: 47.2848 | Train Acc: 0.8395 | Test Acc: 0.8474\n",
      "[Epoch 09/30] Loss: 46.0521 | Train Acc: 0.8427 | Test Acc: 0.8395\n",
      "[Epoch 10/30] Loss: 44.6926 | Train Acc: 0.8470 | Test Acc: 0.8605\n",
      "[Epoch 11/30] Loss: 44.6393 | Train Acc: 0.8502 | Test Acc: 0.8579\n",
      "[Epoch 12/30] Loss: 43.0391 | Train Acc: 0.8510 | Test Acc: 0.8447\n",
      "[Epoch 13/30] Loss: 42.2279 | Train Acc: 0.8508 | Test Acc: 0.8421\n",
      "[Epoch 14/30] Loss: 43.2142 | Train Acc: 0.8545 | Test Acc: 0.8632\n",
      "[Epoch 15/30] Loss: 42.3559 | Train Acc: 0.8480 | Test Acc: 0.8500\n",
      "[Epoch 16/30] Loss: 41.7814 | Train Acc: 0.8580 | Test Acc: 0.8632\n",
      "[Epoch 17/30] Loss: 41.1564 | Train Acc: 0.8513 | Test Acc: 0.8368\n",
      "[Epoch 18/30] Loss: 41.1407 | Train Acc: 0.8532 | Test Acc: 0.8316\n",
      "[Epoch 19/30] Loss: 41.1410 | Train Acc: 0.8527 | Test Acc: 0.8553\n",
      "[Epoch 20/30] Loss: 40.0903 | Train Acc: 0.8562 | Test Acc: 0.8553\n",
      "[Epoch 21/30] Loss: 39.8053 | Train Acc: 0.8555 | Test Acc: 0.8658\n",
      "[Epoch 22/30] Loss: 40.2498 | Train Acc: 0.8605 | Test Acc: 0.8500\n",
      "[Epoch 23/30] Loss: 39.6717 | Train Acc: 0.8588 | Test Acc: 0.8553\n",
      "[Epoch 24/30] Loss: 39.1713 | Train Acc: 0.8595 | Test Acc: 0.8605\n",
      "[Epoch 25/30] Loss: 39.3746 | Train Acc: 0.8562 | Test Acc: 0.8526\n",
      "[Epoch 26/30] Loss: 39.2469 | Train Acc: 0.8597 | Test Acc: 0.8632\n",
      "[Epoch 27/30] Loss: 38.6927 | Train Acc: 0.8638 | Test Acc: 0.8632\n",
      "[Epoch 28/30] Loss: 38.8637 | Train Acc: 0.8607 | Test Acc: 0.8553\n",
      "[Epoch 29/30] Loss: 38.4851 | Train Acc: 0.8573 | Test Acc: 0.8474\n",
      "[Epoch 30/30] Loss: 38.3701 | Train Acc: 0.8642 | Test Acc: 0.8684\n"
     ]
    },
    {
     "data": {
      "image/png": "[encoded data removed]",
      "text/plain": [
       "<Figure size 640x480 with 1 Axes>"
      ]
     },
     "metadata": {},
     "output_type": "display_data"
    },
    {
     "data": {
      "image/png": "[encoded data removed]",
      "text/plain": [
       "<Figure size 640x480 with 1 Axes>"
      ]
     },
     "metadata": {},
     "output_type": "display_data"
    }
   ],
   "source": [
    "# 학습 설정\n",
    "lr = 0.001\n",
    "model = model.to('cuda')  # 모델을 GPU로 이동\n",
    "loss_fn = nn.CrossEntropyLoss()\n",
    "\n",
    "optimizer = Adam(model.parameters(), lr=lr)\n",
    "train_acc= []\n",
    "test_acc = []\n",
    "train_losses = []\n",
    "\n",
    "n_epochs = 30\n",
    "\n",
    "# 학습 루프\n",
    "for epoch in range(n_epochs):\n",
    "    total_loss = 0.\n",
    "    model.train()  # 학습 모드 설정\n",
    "\n",
    "    for data in train_loader:\n",
    "        model.zero_grad()  # 이전 gradient 초기화\n",
    "\n",
    "        inputs, labels = data\n",
    "        inputs, labels = inputs.to('cuda'), labels.to('cuda')\n",
    "\n",
    "        preds = model(inputs)\n",
    "        loss = loss_fn(preds, labels)  # 손실 계산\n",
    "        loss.backward()  # 역전파\n",
    "        optimizer.step()  # 파라미터 업데이트\n",
    "\n",
    "        total_loss += loss.item()  # loss 누적\n",
    "\n",
    "    train_acc.append(accuracy(model, train_loader))\n",
    "    test_acc.append(accuracy(model, test_loader))\n",
    "    print(f\"[Epoch {epoch+1:02d}/{n_epochs}] Loss: {total_loss:.4f} | Train Acc: {train_acc[-1]:.4f} | Test Acc: {test_acc[-1]:.4f}\")\n",
    "\n",
    "    train_losses.append(total_loss)\n",
    "\n",
    "plot_acc(train_acc, test_acc) #학습 결과 시각화\n",
    "plot_loss(train_losses) #손실값 시각화"
   ]
  },
  {
   "cell_type": "code",
   "execution_count": 9,
   "metadata": {
    "colab": {
     "base_uri": "https://localhost:8080/"
    },
    "id": "aol54ZtwphT0",
    "outputId": "af2290d0-b03f-45c7-b25d-6783fd5cc2b2"
   },
   "outputs": [
    {
     "name": "stdout",
     "output_type": "stream",
     "text": [
      "=========> Train acc: 0.868 | Test acc: 0.861\n"
     ]
    }
   ],
   "source": [
    "# 평가 시 gradient 계산 비활성화\n",
    "with torch.no_grad():\n",
    "    model.eval()  # 평가 모드로 전환 (계산 비활성화)\n",
    "    train_acc = accuracy(model, train_loader)\n",
    "    test_acc = accuracy(model, test_loader)\n",
    "\n",
    "    print(f\"=========> Train acc: {train_acc:.3f} | Test acc: {test_acc:.3f}\")\n"
   ]
  }
 ],
 "metadata": {
  "accelerator": "GPU",
  "colab": {
   "gpuType": "T4",
   "name": "[3주차]_기본과제_DistilBERT.ipynb",
   "provenance": []
  },
  "kernelspec": {
   "display_name": "Python (myenv)",
   "language": "python",
   "name": "myenv"
  },
  "language_info": {
   "codemirror_mode": {
    "name": "ipython",
    "version": 3
   },
   "file_extension": ".py",
   "mimetype": "text/x-python",
   "name": "python",
   "nbconvert_exporter": "python",
   "pygments_lexer": "ipython3",
   "version": "3.12.9"
  }
 },
 "nbformat": 4,
 "nbformat_minor": 4
}
