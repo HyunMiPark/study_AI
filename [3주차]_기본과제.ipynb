{
  "nbformat": 4,
  "nbformat_minor": 0,
  "metadata": {
    "colab": {
      "provenance": [],
      "gpuType": "T4",
      "authorship_tag": "ABX9TyPmsdqTimlw0AK3ceh+HV4I",
      "include_colab_link": true
    },
    "kernelspec": {
      "name": "python3",
      "display_name": "Python 3"
    },
    "language_info": {
      "name": "python"
    },
    "accelerator": "GPU",
  },
  "cells": [
    {
      "cell_type": "markdown",
      "metadata": {
        "id": "view-in-github",
        "colab_type": "text"
      },
      "source": [
        "<a href=\"https://colab.research.google.com/github/HyunMiPark/study_AI/blob/main/%5B3%EC%A3%BC%EC%B0%A8%5D_%EA%B8%B0%EB%B3%B8%EA%B3%BC%EC%A0%9C.ipynb\" target=\"_parent\"><img src=\"https://colab.research.google.com/assets/colab-badge.svg\" alt=\"Open In Colab\"/></a>"
      ]
    },
    {
      "cell_type": "markdown",
      "source": [
        "DistilBERT fine-tuning으로 감정 분석 모델 학습하기\n",
        "이번 실습에서는 pre-trained된 DistilBERT를 불러와 이전 주차 실습에서 사용하던 감정 분석 문제에 적용합니다. 먼저 필요한 library들을 불러옵니다."
      ],
      "metadata": {
        "id": "RmSHkslkn0nN"
      }
    },
    {
      "cell_type": "markdown",
      "source": [
        "### 과제 요구 사항들을 구현하고, epoch마다의 train loss와 최종 모델의 test accuracy가 print된 notebook을 public github repository에 업로드하여 공유해주시면 됩니다. 반드시 출력 결과가 남아있어야 합니다.\n",
        "- [o] AG_News dataset 준비\n",
        "    - Huggingface dataset의 `fancyzhx/ag_news`를 load\n",
        "    - `collate_fn` 함수에 다음 수정사항들을 반영\n",
        "    - Truncation과 관련된 부분들을 삭제\n",
        "- [o] Classifier output, loss function, accuracy function 변경\n",
        "    - 뉴스 기사 분류 문제는 binary classification이 아닌 일반적인 classification 문제입니다. MNIST 과제에서 했던 것 처럼 `nn.CrossEntropyLoss` 를 추가하고 `TextClassifier`의 출력 차원을 잘 조정하여 task를 풀 수 있도록 수정\n",
        "    - 그리고 정확도를 재는 `accuracy` 함수도 classification에 맞춰 수정\n",
        "- [o]  학습 결과 report\n",
        "    - DistilBERT 실습과 같이 매 epoch 마다의 train loss를 출력하고 최종 모델의 test accuracy를 report 첨부"
      ],
      "metadata": {
        "id": "xk8zN8Sfn5sK"
      }
    },
    {
      "cell_type": "code",
      "execution_count": 1,
      "metadata": {
        "colab": {
          "base_uri": "https://localhost:8080/"
        },
        "id": "iBCwfVr6nyU2",
        "outputId": "e0ffb85f-687f-4c23-cc7f-644bbbc24a55"
      },
      "outputs": [
        {
          "output_type": "stream",
          "name": "stdout",
          "text": [
            "Requirement already satisfied: tqdm in /usr/local/lib/python3.11/dist-packages (4.67.1)\n",
            "Collecting boto3\n",
            "  Downloading boto3-1.37.28-py3-none-any.whl.metadata (6.7 kB)\n",
            "Requirement already satisfied: requests in /usr/local/lib/python3.11/dist-packages (2.32.3)\n",
            "Requirement already satisfied: regex in /usr/local/lib/python3.11/dist-packages (2024.11.6)\n",
            "Requirement already satisfied: sentencepiece in /usr/local/lib/python3.11/dist-packages (0.2.0)\n",
            "Collecting sacremoses\n",
            "  Downloading sacremoses-0.1.1-py3-none-any.whl.metadata (8.3 kB)\n",
            "Collecting datasets\n",
            "  Downloading datasets-3.5.0-py3-none-any.whl.metadata (19 kB)\n",
            "Collecting botocore<1.38.0,>=1.37.28 (from boto3)\n",
            "  Downloading botocore-1.37.28-py3-none-any.whl.metadata (5.7 kB)\n",
            "Collecting jmespath<2.0.0,>=0.7.1 (from boto3)\n",
            "  Downloading jmespath-1.0.1-py3-none-any.whl.metadata (7.6 kB)\n",
            "Collecting s3transfer<0.12.0,>=0.11.0 (from boto3)\n",
            "  Downloading s3transfer-0.11.4-py3-none-any.whl.metadata (1.7 kB)\n",
            "Requirement already satisfied: charset-normalizer<4,>=2 in /usr/local/lib/python3.11/dist-packages (from requests) (3.4.1)\n",
            "Requirement already satisfied: idna<4,>=2.5 in /usr/local/lib/python3.11/dist-packages (from requests) (3.10)\n",
            "Requirement already satisfied: urllib3<3,>=1.21.1 in /usr/local/lib/python3.11/dist-packages (from requests) (2.3.0)\n",
            "Requirement already satisfied: certifi>=2017.4.17 in /usr/local/lib/python3.11/dist-packages (from requests) (2025.1.31)\n",
            "Requirement already satisfied: click in /usr/local/lib/python3.11/dist-packages (from sacremoses) (8.1.8)\n",
            "Requirement already satisfied: joblib in /usr/local/lib/python3.11/dist-packages (from sacremoses) (1.4.2)\n",
            "Requirement already satisfied: filelock in /usr/local/lib/python3.11/dist-packages (from datasets) (3.18.0)\n",
            "Requirement already satisfied: numpy>=1.17 in /usr/local/lib/python3.11/dist-packages (from datasets) (2.0.2)\n",
            "Requirement already satisfied: pyarrow>=15.0.0 in /usr/local/lib/python3.11/dist-packages (from datasets) (18.1.0)\n",
            "Collecting dill<0.3.9,>=0.3.0 (from datasets)\n",
            "  Downloading dill-0.3.8-py3-none-any.whl.metadata (10 kB)\n",
            "Requirement already satisfied: pandas in /usr/local/lib/python3.11/dist-packages (from datasets) (2.2.2)\n",
            "Collecting xxhash (from datasets)\n",
            "  Downloading xxhash-3.5.0-cp311-cp311-manylinux_2_17_x86_64.manylinux2014_x86_64.whl.metadata (12 kB)\n",
            "Collecting multiprocess<0.70.17 (from datasets)\n",
            "  Downloading multiprocess-0.70.16-py311-none-any.whl.metadata (7.2 kB)\n",
            "Collecting fsspec<=2024.12.0,>=2023.1.0 (from fsspec[http]<=2024.12.0,>=2023.1.0->datasets)\n",
            "  Downloading fsspec-2024.12.0-py3-none-any.whl.metadata (11 kB)\n",
            "Requirement already satisfied: aiohttp in /usr/local/lib/python3.11/dist-packages (from datasets) (3.11.15)\n",
            "Requirement already satisfied: huggingface-hub>=0.24.0 in /usr/local/lib/python3.11/dist-packages (from datasets) (0.30.1)\n",
            "Requirement already satisfied: packaging in /usr/local/lib/python3.11/dist-packages (from datasets) (24.2)\n",
            "Requirement already satisfied: pyyaml>=5.1 in /usr/local/lib/python3.11/dist-packages (from datasets) (6.0.2)\n",
            "Requirement already satisfied: python-dateutil<3.0.0,>=2.1 in /usr/local/lib/python3.11/dist-packages (from botocore<1.38.0,>=1.37.28->boto3) (2.8.2)\n",
            "Requirement already satisfied: aiohappyeyeballs>=2.3.0 in /usr/local/lib/python3.11/dist-packages (from aiohttp->datasets) (2.6.1)\n",
            "Requirement already satisfied: aiosignal>=1.1.2 in /usr/local/lib/python3.11/dist-packages (from aiohttp->datasets) (1.3.2)\n",
            "Requirement already satisfied: attrs>=17.3.0 in /usr/local/lib/python3.11/dist-packages (from aiohttp->datasets) (25.3.0)\n",
            "Requirement already satisfied: frozenlist>=1.1.1 in /usr/local/lib/python3.11/dist-packages (from aiohttp->datasets) (1.5.0)\n",
            "Requirement already satisfied: multidict<7.0,>=4.5 in /usr/local/lib/python3.11/dist-packages (from aiohttp->datasets) (6.3.1)\n",
            "Requirement already satisfied: propcache>=0.2.0 in /usr/local/lib/python3.11/dist-packages (from aiohttp->datasets) (0.3.1)\n",
            "Requirement already satisfied: yarl<2.0,>=1.17.0 in /usr/local/lib/python3.11/dist-packages (from aiohttp->datasets) (1.18.3)\n",
            "Requirement already satisfied: typing-extensions>=3.7.4.3 in /usr/local/lib/python3.11/dist-packages (from huggingface-hub>=0.24.0->datasets) (4.13.0)\n",
            "Requirement already satisfied: pytz>=2020.1 in /usr/local/lib/python3.11/dist-packages (from pandas->datasets) (2025.2)\n",
            "Requirement already satisfied: tzdata>=2022.7 in /usr/local/lib/python3.11/dist-packages (from pandas->datasets) (2025.2)\n",
            "Requirement already satisfied: six>=1.5 in /usr/local/lib/python3.11/dist-packages (from python-dateutil<3.0.0,>=2.1->botocore<1.38.0,>=1.37.28->boto3) (1.17.0)\n",
            "Downloading boto3-1.37.28-py3-none-any.whl (139 kB)\n",
            "\u001b[2K   \u001b[90m━━━━━━━━━━━━━━━━━━━━━━━━━━━━━━━━━━━━━━━━\u001b[0m \u001b[32m139.6/139.6 kB\u001b[0m \u001b[31m4.0 MB/s\u001b[0m eta \u001b[36m0:00:00\u001b[0m\n",
            "\u001b[?25hDownloading sacremoses-0.1.1-py3-none-any.whl (897 kB)\n",
            "\u001b[2K   \u001b[90m━━━━━━━━━━━━━━━━━━━━━━━━━━━━━━━━━━━━━━━━\u001b[0m \u001b[32m897.5/897.5 kB\u001b[0m \u001b[31m21.2 MB/s\u001b[0m eta \u001b[36m0:00:00\u001b[0m\n",
            "\u001b[?25hDownloading datasets-3.5.0-py3-none-any.whl (491 kB)\n",
            "\u001b[2K   \u001b[90m━━━━━━━━━━━━━━━━━━━━━━━━━━━━━━━━━━━━━━━━\u001b[0m \u001b[32m491.2/491.2 kB\u001b[0m \u001b[31m31.1 MB/s\u001b[0m eta \u001b[36m0:00:00\u001b[0m\n",
            "\u001b[?25hDownloading botocore-1.37.28-py3-none-any.whl (13.5 MB)\n",
            "\u001b[2K   \u001b[90m━━━━━━━━━━━━━━━━━━━━━━━━━━━━━━━━━━━━━━━━\u001b[0m \u001b[32m13.5/13.5 MB\u001b[0m \u001b[31m90.3 MB/s\u001b[0m eta \u001b[36m0:00:00\u001b[0m\n",
            "\u001b[?25hDownloading dill-0.3.8-py3-none-any.whl (116 kB)\n",
            "\u001b[2K   \u001b[90m━━━━━━━━━━━━━━━━━━━━━━━━━━━━━━━━━━━━━━━━\u001b[0m \u001b[32m116.3/116.3 kB\u001b[0m \u001b[31m10.4 MB/s\u001b[0m eta \u001b[36m0:00:00\u001b[0m\n",
            "\u001b[?25hDownloading fsspec-2024.12.0-py3-none-any.whl (183 kB)\n",
            "\u001b[2K   \u001b[90m━━━━━━━━━━━━━━━━━━━━━━━━━━━━━━━━━━━━━━━━\u001b[0m \u001b[32m183.9/183.9 kB\u001b[0m \u001b[31m15.1 MB/s\u001b[0m eta \u001b[36m0:00:00\u001b[0m\n",
            "\u001b[?25hDownloading jmespath-1.0.1-py3-none-any.whl (20 kB)\n",
            "Downloading multiprocess-0.70.16-py311-none-any.whl (143 kB)\n",
            "\u001b[2K   \u001b[90m━━━━━━━━━━━━━━━━━━━━━━━━━━━━━━━━━━━━━━━━\u001b[0m \u001b[32m143.5/143.5 kB\u001b[0m \u001b[31m12.1 MB/s\u001b[0m eta \u001b[36m0:00:00\u001b[0m\n",
            "\u001b[?25hDownloading s3transfer-0.11.4-py3-none-any.whl (84 kB)\n",
            "\u001b[2K   \u001b[90m━━━━━━━━━━━━━━━━━━━━━━━━━━━━━━━━━━━━━━━━\u001b[0m \u001b[32m84.4/84.4 kB\u001b[0m \u001b[31m7.2 MB/s\u001b[0m eta \u001b[36m0:00:00\u001b[0m\n",
            "\u001b[?25hDownloading xxhash-3.5.0-cp311-cp311-manylinux_2_17_x86_64.manylinux2014_x86_64.whl (194 kB)\n",
            "\u001b[2K   \u001b[90m━━━━━━━━━━━━━━━━━━━━━━━━━━━━━━━━━━━━━━━━\u001b[0m \u001b[32m194.8/194.8 kB\u001b[0m \u001b[31m14.5 MB/s\u001b[0m eta \u001b[36m0:00:00\u001b[0m\n",
            "\u001b[?25hInstalling collected packages: xxhash, sacremoses, jmespath, fsspec, dill, multiprocess, botocore, s3transfer, datasets, boto3\n",
            "  Attempting uninstall: fsspec\n",
            "    Found existing installation: fsspec 2025.3.2\n",
            "    Uninstalling fsspec-2025.3.2:\n",
            "      Successfully uninstalled fsspec-2025.3.2\n",
            "\u001b[31mERROR: pip's dependency resolver does not currently take into account all the packages that are installed. This behaviour is the source of the following dependency conflicts.\n",
            "torch 2.6.0+cu124 requires nvidia-cublas-cu12==12.4.5.8; platform_system == \"Linux\" and platform_machine == \"x86_64\", but you have nvidia-cublas-cu12 12.5.3.2 which is incompatible.\n",
            "torch 2.6.0+cu124 requires nvidia-cuda-cupti-cu12==12.4.127; platform_system == \"Linux\" and platform_machine == \"x86_64\", but you have nvidia-cuda-cupti-cu12 12.5.82 which is incompatible.\n",
            "torch 2.6.0+cu124 requires nvidia-cuda-nvrtc-cu12==12.4.127; platform_system == \"Linux\" and platform_machine == \"x86_64\", but you have nvidia-cuda-nvrtc-cu12 12.5.82 which is incompatible.\n",
            "torch 2.6.0+cu124 requires nvidia-cuda-runtime-cu12==12.4.127; platform_system == \"Linux\" and platform_machine == \"x86_64\", but you have nvidia-cuda-runtime-cu12 12.5.82 which is incompatible.\n",
            "torch 2.6.0+cu124 requires nvidia-cudnn-cu12==9.1.0.70; platform_system == \"Linux\" and platform_machine == \"x86_64\", but you have nvidia-cudnn-cu12 9.3.0.75 which is incompatible.\n",
            "torch 2.6.0+cu124 requires nvidia-cufft-cu12==11.2.1.3; platform_system == \"Linux\" and platform_machine == \"x86_64\", but you have nvidia-cufft-cu12 11.2.3.61 which is incompatible.\n",
            "torch 2.6.0+cu124 requires nvidia-curand-cu12==10.3.5.147; platform_system == \"Linux\" and platform_machine == \"x86_64\", but you have nvidia-curand-cu12 10.3.6.82 which is incompatible.\n",
            "torch 2.6.0+cu124 requires nvidia-cusolver-cu12==11.6.1.9; platform_system == \"Linux\" and platform_machine == \"x86_64\", but you have nvidia-cusolver-cu12 11.6.3.83 which is incompatible.\n",
            "torch 2.6.0+cu124 requires nvidia-cusparse-cu12==12.3.1.170; platform_system == \"Linux\" and platform_machine == \"x86_64\", but you have nvidia-cusparse-cu12 12.5.1.3 which is incompatible.\n",
            "torch 2.6.0+cu124 requires nvidia-nvjitlink-cu12==12.4.127; platform_system == \"Linux\" and platform_machine == \"x86_64\", but you have nvidia-nvjitlink-cu12 12.5.82 which is incompatible.\n",
            "gcsfs 2025.3.2 requires fsspec==2025.3.2, but you have fsspec 2024.12.0 which is incompatible.\u001b[0m\u001b[31m\n",
            "\u001b[0mSuccessfully installed boto3-1.37.28 botocore-1.37.28 datasets-3.5.0 dill-0.3.8 fsspec-2024.12.0 jmespath-1.0.1 multiprocess-0.70.16 s3transfer-0.11.4 sacremoses-0.1.1 xxhash-3.5.0\n"
          ]
        }
      ],
      "source": [
        "!pip install tqdm boto3 requests regex sentencepiece sacremoses datasets"
      ]
    },
    {
      "cell_type": "markdown",
      "source": [
        "그 후, 우리가 사용하는 DistilBERT pre-training 때 사용한 tokenizer를 불러옵니다."
      ],
      "metadata": {
        "id": "CppLX-lfoD0n"
      }
    },
    {
      "cell_type": "code",
      "source": [
        "import torch\n",
        "from datasets import load_dataset\n",
        "from torch.utils.data import DataLoader\n",
        "\n",
        "# DistilBERT 모델용 tokenizer 로드 (pretrained)\n",
        "# 이 tokenizer는 문장을 토큰화해서 모델이 이해할 수 있는 input_ids로 변환해줌\n",
        "tokenizer = torch.hub.load('huggingface/pytorch-transformers', 'tokenizer', 'distilbert-base-uncased')"
      ],
      "metadata": {
        "colab": {
          "base_uri": "https://localhost:8080/",
          "height": 326,
          "referenced_widgets": [
            "8c6febc820b84c1c822faeb13acb2fd4",
            "dafe414db1f046ffb8bc792c23431845",
            "088c2afab62844b4aaa4d60187ea23ba",
            "c8cadf5910274c77a0e328cf4fbad746",
            "82b081867ece44f8bb8265a88e743f75",
            "ed2cbf6f5e934e3eb480a12eb3ee9528",
            "124d1051ac9b43cc8ea83551e972df23",
            "fa7fa7dac3e749f0912bfb0761766795",
            "baeb271ca1cc4c5fb8bd201abfeac461",
            "fb9bdaed4a1942abbce0472ee9550a51",
            "73199ac99cac4f9ea9e3102a8bd991da",
            "8429accf7f594402a0092211eadf1dd0",
            "1f92ac63d3c040eca78500e24a2cce1f",
            "9906098f212a4f41b6ce292165ca8d82",
            "28770fa1ed97460cb487aa4197b022e5",
            "b6461d3ee17a4be6b7bf7ca3761a3789",
            "7782624a71bc47569acc73ac775535a7",
            "1bbd5ed157da4aedb2e4e86747382a06",
            "245f91d5f1b84c11b4b8b089b818f333",
            "d31757ebaac74cd88b7fa5507faec82e",
            "9ee705371ad6409b9ba44f868467ac1e",
            "6d9b7f74d2e641bb9430e6942acfac08",
            "44dd67e00d884a73a724856b8e9e8850",
            "58eb29630f8e4e67a2eaa00d3f82de2b",
            "61cb6cdd88a149ae95e39a913c94d0c3",
            "e12ec2ccf2994d35beb5b193ae3dcdb3",
            "de1c307c79f8404e996ba1f86e963257",
            "fdab9b6d369a46ecbdde45e0616a7ff2",
            "931bd8be9c1d40f28b1681ecca6c4829",
            "e2abc175a01b40a48f4eccfa1f7392f5",
            "2fee469141ee4df696b0ad5033179d18",
            "3a8627a3c1474694a25f720d4efb172e",
            "a97e0b2b60d24d109b5a5185b82e69a7",
            "58f15bf013b84754ba25aa18023d7ffe",
            "2b5973718a9c43b6a38b7c9799083862",
            "ce54bd31394640fabdba5421831439de",
            "278d4d8fc485480280920e6a2a5554ae",
            "b2d7c28fcf3143399ff4a59e64ab9568",
            "cb9a80b937aa47c8950ef477348749c7",
            "9c8e381d1f4745eab7caf9cb610c3086",
            "91284e2137444398a1e5a97c17b724ef",
            "b24e8ea477e6446b84f3c333f7be971b",
            "1a4585fc788540078beec134a6a626e2",
            "4891ea7cd58b48b2a7d32829a5d414ce"
          ]
        },
        "id": "FoDmWnQAoA4F",
        "outputId": "7ff9675d-203f-4023-ac21-2b3f3c9b9879"
      },
      "execution_count": 2,
      "outputs": [
        {
          "output_type": "stream",
          "name": "stderr",
          "text": [
            "/usr/local/lib/python3.11/dist-packages/torch/hub.py:330: UserWarning: You are about to download and run code from an untrusted repository. In a future release, this won't be allowed. To add the repository to your trusted list, change the command to {calling_fn}(..., trust_repo=False) and a command prompt will appear asking for an explicit confirmation of trust, or load(..., trust_repo=True), which will assume that the prompt is to be answered with 'yes'. You can also use load(..., trust_repo='check') which will only prompt for confirmation if the repo is not already trusted. This will eventually be the default behaviour\n",
            "  warnings.warn(\n",
            "Downloading: \"https://github.com/huggingface/pytorch-transformers/zipball/main\" to /root/.cache/torch/hub/main.zip\n",
            "/usr/local/lib/python3.11/dist-packages/huggingface_hub/utils/_auth.py:94: UserWarning: \n",
            "The secret `HF_TOKEN` does not exist in your Colab secrets.\n",
            "To authenticate with the Hugging Face Hub, create a token in your settings tab (https://huggingface.co/settings/tokens), set it as secret in your Google Colab and restart your session.\n",
            "You will be able to reuse this secret in all of your notebooks.\n",
            "Please note that authentication is recommended but still optional to access public models or datasets.\n",
            "  warnings.warn(\n"
          ]
        },
        {
          "output_type": "display_data",
          "data": {
            "text/plain": [
              "tokenizer_config.json:   0%|          | 0.00/48.0 [00:00<?, ?B/s]"
            ],
            "application/vnd.jupyter.widget-view+json": {
              "version_major": 2,
              "version_minor": 0,
              "model_id": "8c6febc820b84c1c822faeb13acb2fd4"
            }
          },
          "metadata": {}
        },
        {
          "output_type": "display_data",
          "data": {
            "text/plain": [
              "config.json:   0%|          | 0.00/483 [00:00<?, ?B/s]"
            ],
            "application/vnd.jupyter.widget-view+json": {
              "version_major": 2,
              "version_minor": 0,
              "model_id": "8429accf7f594402a0092211eadf1dd0"
            }
          },
          "metadata": {}
        },
        {
          "output_type": "display_data",
          "data": {
            "text/plain": [
              "vocab.txt:   0%|          | 0.00/232k [00:00<?, ?B/s]"
            ],
            "application/vnd.jupyter.widget-view+json": {
              "version_major": 2,
              "version_minor": 0,
              "model_id": "44dd67e00d884a73a724856b8e9e8850"
            }
          },
          "metadata": {}
        },
        {
          "output_type": "display_data",
          "data": {
            "text/plain": [
              "tokenizer.json:   0%|          | 0.00/466k [00:00<?, ?B/s]"
            ],
            "application/vnd.jupyter.widget-view+json": {
              "version_major": 2,
              "version_minor": 0,
              "model_id": "58f15bf013b84754ba25aa18023d7ffe"
            }
          },
          "metadata": {}
        }
      ]
    },
    {
      "cell_type": "markdown",
      "source": [
        "DistilBERT의 tokenizer를 불러왔으면 이제 collate_fn과 data loader를 정의합니다. 이 과정은 이전 실습과 동일하게 다음과 같이 구현할 수 있습니다."
      ],
      "metadata": {
        "id": "EYph-EE7oNPw"
      }
    },
    {
      "cell_type": "code",
      "source": [
        "# IMDB 감정 분석 데이터셋의 5%만 로드 (학습 데이터와 테스트 데이터 각각)\n",
        "train_ds = load_dataset(\"fancyzhx/ag_news\", split=\"train[:5%]\")\n",
        "test_ds = load_dataset(\"fancyzhx/ag_news\", split=\"test[:5%]\")\n",
        "\n",
        "#첫번째 샘플 데이터 확인\n",
        "print(\"train sample: \", train_ds[0])\n",
        "print(\"test sample:\", test_ds[0])\n",
        "\n",
        "#샘플 개수 확인\n",
        "print(\"train sample count: \", len(train_ds))\n",
        "print(\"test sample count: \", len(test_ds))\n",
        "\n",
        "# 데이터를 배치로 묶기 위한 함수 정의\n",
        "def collate_fn(batch):\n",
        "    texts, labels = [], []  # 입력 문장들과 라벨들을 저장할 리스트\n",
        "\n",
        "    # 배치 내 각 샘플에 대해 text와 label 추출\n",
        "    for row in batch:\n",
        "        labels.append(row['label'])\n",
        "        texts.append(row['text'])\n",
        "\n",
        "    # tokenizer로 텍스트를 토큰화하고, 최대 길이로 패딩 및 자르기\n",
        "    # tokenizer는 사전에 정의되어 있어야 함 (예: tokenizer = AutoTokenizer.from_pretrained(...))\n",
        "    texts = torch.LongTensor(tokenizer(texts, padding=True).input_ids)\n",
        "    # 라벨 리스트를 LongTensor로 변환\n",
        "    labels = torch.LongTensor(labels)\n",
        "\n",
        "    # 모델 학습에 필요한 입력 (토큰화된 문장들)과 정답 라벨 반환\n",
        "    return texts, labels\n",
        "\n",
        "# 학습용 DataLoader 정의 (shuffle=True로 배치 순서 랜덤화)\n",
        "train_loader = DataLoader(\n",
        "    train_ds, batch_size=64, shuffle=True, collate_fn=collate_fn\n",
        ")\n",
        "\n",
        "# 테스트용 DataLoader 정의 (shuffle=False로 배치 순서 고정)\n",
        "test_loader = DataLoader(\n",
        "    test_ds, batch_size=64, shuffle=False, collate_fn=collate_fn\n",
        ")"
      ],
      "metadata": {
        "colab": {
          "base_uri": "https://localhost:8080/",
          "height": 268,
          "referenced_widgets": [
            "f758ee477b99418ba9da3c0333fd2a75",
            "1af21a3521ab40f198fc515f2cdbf040",
            "b5e343606b374c739326e8bf4fc54a7f",
            "b3e989f3d5444e6da0a30e3d45704bf5",
            "b595091aaadd4b78850d53d406c84a6f",
            "4ac74450c4e34af59e88bed23fdd5e3c",
            "3fab1b7a085249cdb7938d869cdcb9bd",
            "60efb06af5204a27b7bcfd3ae51b1fdb",
            "c23f064b5fc44d6a9280e1c67dc959dd",
            "270611d637ff4601ba196dd43dc1ab26",
            "31005a2bb63f47b391be8e42da33c42b",
            "65616cf079f14aff8c951a89efca7f60",
            "574f39d0126447cfa4b51da5d8934b9b",
            "106a6dfaa28b439c8566df7d07ac07e1",
            "4c1bb2c7d832453a84c7348f94c3d945",
            "d0ed1c6d8f524f60be3acc0c0113cb1a",
            "d7ae77e102984de281f608b5bde828f1",
            "2379ab7baf8a486aadf4ce410922dd32",
            "f323b068b98541ea9c3a34c2a88e9373",
            "dc058e7c2f1346c9ab69b8c8df1b02af",
            "71f10057b90e4b8abc9770dc0b658198",
            "8a7ddc1a1ebd48ffbe564806dfdc6b20",
            "7f88ccc30a6b4ec3a08aba6dfe5599f3",
            "d98042f121a34aef8d651575a61f0172",
            "33312b9beef1422ab19fab4c5db9107f",
            "96c076f59f04459eb87ed06e078ec824",
            "da643b54d2534e3a8f63e41a5de48da3",
            "9554d40e1f744fc9a13792b01bab6542",
            "661bd842f91d4258ba1a04f825a209e4",
            "c1f3c89e41164365a1406dc82ec162e1",
            "722e05c8fe4f4a869a063cfb8409cdcd",
            "a739417e64d740b8b1f1c9e55b622f0a",
            "964b3068be8e4ccabc91262192159d60",
            "eacd13d489184907a731d4fb5a3f924c",
            "2dba863cf5ff4c7b8b1e06185ce3b1d8",
            "547a8cb57a38411787546d27c30b8827",
            "28024c0bc48549ea89cf9f6fe242f997",
            "c41e5f7800c8497691522fdf40f65349",
            "f6dabffd741045c194b56eea5b8fcb16",
            "509ec8e643994aa7b7bc9607221ca1dc",
            "8894f25daa924f7695d5f2a37f4cc533",
            "9e21f00f460a40ce9a1d4a56dcfa2022",
            "bfca2b968aa243fca5628e0acef577e3",
            "356949a215c64c458e625ff26ef3d65c",
            "545961e820174d828f748c20ea915cb8",
            "7983dc88109a47cc9d75eda8de0a738c",
            "98ee114d0e4f4005883d38d7049ec8a7",
            "288285073c144d16af07f9e6e4d3762d",
            "314c692273a24952bdf0abe789770575",
            "19905e7a077b44e7a8b286ecff96e027",
            "41a0872360a74d9595e77651c2aa98dc",
            "9da0b32ca11f49a687401e9e4424b1e2",
            "252b465edec148c58965a3e0b22ffb97",
            "2d1f018e8f5443f486e4c061badbe18b",
            "4ef9d2d09ff644039982a38d43ba2010"
          ]
        },
        "id": "oUFf6U7joPAR",
        "outputId": "37a04e19-f6a8-4360-93bf-461d13ff4ec1"
      },
      "execution_count": 3,
      "outputs": [
        {
          "output_type": "display_data",
          "data": {
            "text/plain": [
              "README.md:   0%|          | 0.00/8.07k [00:00<?, ?B/s]"
            ],
            "application/vnd.jupyter.widget-view+json": {
              "version_major": 2,
              "version_minor": 0,
              "model_id": "f758ee477b99418ba9da3c0333fd2a75"
            }
          },
          "metadata": {}
        },
        {
          "output_type": "display_data",
          "data": {
            "text/plain": [
              "train-00000-of-00001.parquet:   0%|          | 0.00/18.6M [00:00<?, ?B/s]"
            ],
            "application/vnd.jupyter.widget-view+json": {
              "version_major": 2,
              "version_minor": 0,
              "model_id": "65616cf079f14aff8c951a89efca7f60"
            }
          },
          "metadata": {}
        },
        {
          "output_type": "display_data",
          "data": {
            "text/plain": [
              "test-00000-of-00001.parquet:   0%|          | 0.00/1.23M [00:00<?, ?B/s]"
            ],
            "application/vnd.jupyter.widget-view+json": {
              "version_major": 2,
              "version_minor": 0,
              "model_id": "7f88ccc30a6b4ec3a08aba6dfe5599f3"
            }
          },
          "metadata": {}
        },
        {
          "output_type": "display_data",
          "data": {
            "text/plain": [
              "Generating train split:   0%|          | 0/120000 [00:00<?, ? examples/s]"
            ],
            "application/vnd.jupyter.widget-view+json": {
              "version_major": 2,
              "version_minor": 0,
              "model_id": "eacd13d489184907a731d4fb5a3f924c"
            }
          },
          "metadata": {}
        },
        {
          "output_type": "display_data",
          "data": {
            "text/plain": [
              "Generating test split:   0%|          | 0/7600 [00:00<?, ? examples/s]"
            ],
            "application/vnd.jupyter.widget-view+json": {
              "version_major": 2,
              "version_minor": 0,
              "model_id": "545961e820174d828f748c20ea915cb8"
            }
          },
          "metadata": {}
        },
        {
          "output_type": "stream",
          "name": "stdout",
          "text": [
            "train sample:  {'text': \"Wall St. Bears Claw Back Into the Black (Reuters) Reuters - Short-sellers, Wall Street's dwindling\\\\band of ultra-cynics, are seeing green again.\", 'label': 2}\n",
            "test sample: {'text': \"Fears for T N pension after talks Unions representing workers at Turner   Newall say they are 'disappointed' after talks with stricken parent firm Federal Mogul.\", 'label': 2}\n",
            "train sample count:  6000\n",
            "test sample count:  380\n"
          ]
        }
      ]
    },
    {
      "cell_type": "markdown",
      "source": [
        "이제 pre-trained DistilBERT를 불러옵니다. 이번에는 PyTorch hub에서 제공하는 DistilBERT를 불러봅시다."
      ],
      "metadata": {
        "id": "ejq75QcyoUxz"
      }
    },
    {
      "cell_type": "code",
      "source": [
        "#DistilBERT 모델을 PyTorch Hub에서 로드 후 model 출력\n",
        "model = torch.hub.load('huggingface/pytorch-transformers', 'model', 'distilbert-base-uncased')\n",
        "model"
      ],
      "metadata": {
        "colab": {
          "base_uri": "https://localhost:8080/",
          "height": 641,
          "referenced_widgets": [
            "0327de87ada04fec9c9dbbfb8f0d3d10",
            "ac99516279f847ff9b6d25291e5737b5",
            "a7b4608107694bb8bc24b7b3f0825798",
            "25a84962be1e4ffc90d31653f6ddbb0a",
            "e1d94e73ab6c4197afc422d3893eb748",
            "335193818da042b08f588c81666830bd",
            "2e8796100044436c9dada90937d8f38a",
            "ec42e10630314d9ca8508ae28184f560",
            "432514e3b6c746c3bdd83881211d19c7",
            "c7f9f4a5a8b042fb97e5d960ed4d0830",
            "6a0a786d9962478fa281b22b4e1329a8"
          ]
        },
        "id": "mdHWq0-LoWZ_",
        "outputId": "5ce2509c-abb8-442c-a67b-77dae4ec07b7"
      },
      "execution_count": 4,
      "outputs": [
        {
          "output_type": "stream",
          "name": "stderr",
          "text": [
            "Using cache found in /root/.cache/torch/hub/huggingface_pytorch-transformers_main\n",
            "Xet Storage is enabled for this repo, but the 'hf_xet' package is not installed. Falling back to regular HTTP download. For better performance, install the package with: `pip install huggingface_hub[hf_xet]` or `pip install hf_xet`\n",
            "WARNING:huggingface_hub.file_download:Xet Storage is enabled for this repo, but the 'hf_xet' package is not installed. Falling back to regular HTTP download. For better performance, install the package with: `pip install huggingface_hub[hf_xet]` or `pip install hf_xet`\n"
          ]
        },
        {
          "output_type": "display_data",
          "data": {
            "text/plain": [
              "model.safetensors:   0%|          | 0.00/268M [00:00<?, ?B/s]"
            ],
            "application/vnd.jupyter.widget-view+json": {
              "version_major": 2,
              "version_minor": 0,
              "model_id": "0327de87ada04fec9c9dbbfb8f0d3d10"
            }
          },
          "metadata": {}
        },
        {
          "output_type": "execute_result",
          "data": {
            "text/plain": [
              "DistilBertModel(\n",
              "  (embeddings): Embeddings(\n",
              "    (word_embeddings): Embedding(30522, 768, padding_idx=0)\n",
              "    (position_embeddings): Embedding(512, 768)\n",
              "    (LayerNorm): LayerNorm((768,), eps=1e-12, elementwise_affine=True)\n",
              "    (dropout): Dropout(p=0.1, inplace=False)\n",
              "  )\n",
              "  (transformer): Transformer(\n",
              "    (layer): ModuleList(\n",
              "      (0-5): 6 x TransformerBlock(\n",
              "        (attention): DistilBertSdpaAttention(\n",
              "          (dropout): Dropout(p=0.1, inplace=False)\n",
              "          (q_lin): Linear(in_features=768, out_features=768, bias=True)\n",
              "          (k_lin): Linear(in_features=768, out_features=768, bias=True)\n",
              "          (v_lin): Linear(in_features=768, out_features=768, bias=True)\n",
              "          (out_lin): Linear(in_features=768, out_features=768, bias=True)\n",
              "        )\n",
              "        (sa_layer_norm): LayerNorm((768,), eps=1e-12, elementwise_affine=True)\n",
              "        (ffn): FFN(\n",
              "          (dropout): Dropout(p=0.1, inplace=False)\n",
              "          (lin1): Linear(in_features=768, out_features=3072, bias=True)\n",
              "          (lin2): Linear(in_features=3072, out_features=768, bias=True)\n",
              "          (activation): GELUActivation()\n",
              "        )\n",
              "        (output_layer_norm): LayerNorm((768,), eps=1e-12, elementwise_affine=True)\n",
              "      )\n",
              "    )\n",
              "  )\n",
              ")"
            ]
          },
          "metadata": {},
          "execution_count": 4
        }
      ]
    },
    {
      "cell_type": "markdown",
      "source": [
        "출력 결과를 통해 우리는 DistilBERT의 architecture는 일반적인 Transformer와 동일한 것을 알 수 있습니다. Embedding layer로 시작해서 여러 layer의 Attention, FFN를 거칩니다.\n",
        "\n",
        "이제 DistilBERT를 거치고 난 [CLS] token의 representation을 가지고 text 분류를 하는 모델을 구현합시다."
      ],
      "metadata": {
        "id": "_ALCiqT0oYtH"
      }
    },
    {
      "cell_type": "code",
      "source": [
        "from torch import nn\n",
        "\n",
        "# 텍스트 분류 모델 정의 (DistilBERT + Linear layer)\n",
        "class TextClassifier(nn.Module):\n",
        "    def __init__(self):\n",
        "        super().__init__()\n",
        "\n",
        "        # 사전학습된 DistilBERT 모델을 encoder로 불러옴 (pretrained transformer)\n",
        "        self.encoder = torch.hub.load('huggingface/pytorch-transformers', 'model', 'distilbert-base-uncased')\n",
        "\n",
        "\n",
        "        # [CLS] 토큰 분류기 정의\n",
        "        self.classifier = nn.Linear(768, 4)\n",
        "\n",
        "    def forward(self, x):\n",
        "        # encoder에 input_ids 전달\n",
        "        x = self.encoder(x)['last_hidden_state']\n",
        "\n",
        "        # [CLS] 토큰 위치 벡터를 classification head에 전달\n",
        "        x = self.classifier(x[:, 0])\n",
        "\n",
        "        return x  # logit 출력\n",
        "\n",
        "model = TextClassifier()"
      ],
      "metadata": {
        "colab": {
          "base_uri": "https://localhost:8080/"
        },
        "id": "0cyDj_Kcoa11",
        "outputId": "16064333-f587-4039-ceb7-bb13d774fb76"
      },
      "execution_count": 5,
      "outputs": [
        {
          "output_type": "stream",
          "name": "stderr",
          "text": [
            "Using cache found in /root/.cache/torch/hub/huggingface_pytorch-transformers_main\n"
          ]
        }
      ]
    },
    {
      "cell_type": "markdown",
      "source": [
        "위와 같이 TextClassifier의 encoder를 불러온 DistilBERT, 그리고 classifier를 linear layer로 설정합니다. 그리고 forward 함수에서 순차적으로 사용하여 예측 결과를 반환합니다.\n",
        "\n",
        "다음은 마지막 classifier layer를 제외한 나머지 부분을 freeze하는 코드를 구현합니다."
      ],
      "metadata": {
        "id": "TNQdgtOpojah"
      }
    },
    {
      "cell_type": "code",
      "source": [
        "for param in model.encoder.parameters():\n",
        "  param.requires_grad = False"
      ],
      "metadata": {
        "id": "hBrZxLxpokUF"
      },
      "execution_count": 6,
      "outputs": []
    },
    {
      "cell_type": "markdown",
      "source": [
        "위의 코드는 encoder에 해당하는 parameter들의 requires_grad를 False로 설정하는 모습입니다. requires_grad를 False로 두는 경우, gradient 계산 및 업데이트가 이루어지지 않아 결과적으로 학습이 되지 않습니다. 즉, 마지막 classifier에 해당하는 linear layer만 학습이 이루어집니다. 이런 식으로 특정 부분들을 freeze하게 되면 효율적으로 학습을 할 수 있습니다.\n",
        "\n",
        "마지막으로 이전과 같은 코드를 사용하여 학습 결과를 확인해봅시다."
      ],
      "metadata": {
        "id": "9WYlxxIRol44"
      }
    },
    {
      "cell_type": "code",
      "source": [
        "from torch.optim import Adam\n",
        "import numpy as np\n",
        "import matplotlib.pyplot as plt\n",
        "\n",
        "def accuracy(model, dataloader):\n",
        "    cnt = 0      # 전체 샘플 수\n",
        "    acc = 0      # 정답 개수 누적\n",
        "\n",
        "    for data in dataloader:\n",
        "        inputs, labels = data\n",
        "        inputs, labels = inputs.to('cuda'), labels.to('cuda')\n",
        "\n",
        "        preds = model(inputs)  # 로짓(logit) 출력\n",
        "        preds = torch.argmax(preds, dim=-1)\n",
        "\n",
        "        cnt += labels.shape[0]  # 총 샘플 수 누적\n",
        "        acc += (labels == preds).sum().item()  # 예측이 맞은 수 누적\n",
        "\n",
        "    return acc / cnt  # 정확도 반환\n",
        "\n",
        "#학습 과정 시각화 함수\n",
        "def plot_acc(train_acc, test_acc):\n",
        "  x = np.arange(len(train_acc))\n",
        "\n",
        "  plt.plot(x, train_acc, label='train') #학습 데이터 정확도 그래프\n",
        "  plt.plot(x, test_acc, label='test') #테스트 데이터 정확도 그래프\n",
        "  plt.legend()\n",
        "  plt.show()"
      ],
      "metadata": {
        "id": "MQOXNoZforNf"
      },
      "execution_count": 7,
      "outputs": []
    },
    {
      "cell_type": "code",
      "source": [
        "# 학습 설정\n",
        "lr = 0.001\n",
        "model = model.to('cuda')  # 모델을 GPU로 이동\n",
        "loss_fn = nn.CrossEntropyLoss()\n",
        "\n",
        "optimizer = Adam(model.parameters(), lr=lr)\n",
        "train_acc= []\n",
        "test_acc = []\n",
        "\n",
        "n_epochs = 30\n",
        "\n",
        "# 학습 루프\n",
        "for epoch in range(n_epochs):\n",
        "    total_loss = 0.\n",
        "    model.train()  # 학습 모드 설정\n",
        "\n",
        "    for data in train_loader:\n",
        "        model.zero_grad()  # 이전 gradient 초기화\n",
        "\n",
        "        inputs, labels = data\n",
        "        inputs, labels = inputs.to('cuda'), labels.to('cuda')\n",
        "\n",
        "        preds = model(inputs)\n",
        "        loss = loss_fn(preds, labels)  # 손실 계산\n",
        "        loss.backward()  # 역전파\n",
        "        optimizer.step()  # 파라미터 업데이트\n",
        "\n",
        "        total_loss += loss.item()  # loss 누적\n",
        "\n",
        "    train_acc.append(accuracy(model, train_loader))\n",
        "    test_acc.append(accuracy(model, test_loader))\n",
        "    print(f\"Epoch {epoch:3d} | Train Loss: {total_loss}\")\n",
        "\n",
        "\n",
        "plot_acc(train_acc, test_acc) #학습 결과 시각화"
      ],
      "metadata": {
        "colab": {
          "base_uri": "https://localhost:8080/",
          "height": 1000
        },
        "id": "sAQ-I3Oqo6sa",
        "outputId": "ea1dfdf3-361a-4290-a17a-e3d80998859d"
      },
      "execution_count": 8,
      "outputs": [
        {
          "output_type": "stream",
          "name": "stderr",
          "text": [
            "We strongly recommend passing in an `attention_mask` since your input_ids may be padded. See https://huggingface.co/docs/transformers/troubleshooting#incorrect-output-when-padding-tokens-arent-masked.\n"
          ]
        },
        {
          "output_type": "stream",
          "name": "stdout",
          "text": [
            "Epoch   0 | Train Loss: 99.8298454284668\n",
            "Epoch   1 | Train Loss: 69.75227725505829\n",
            "Epoch   2 | Train Loss: 59.62034088373184\n",
            "Epoch   3 | Train Loss: 53.703147888183594\n",
            "Epoch   4 | Train Loss: 51.27237722277641\n",
            "Epoch   5 | Train Loss: 49.18913185596466\n",
            "Epoch   6 | Train Loss: 47.54028540849686\n",
            "Epoch   7 | Train Loss: 46.15240556001663\n",
            "Epoch   8 | Train Loss: 45.49269884824753\n",
            "Epoch   9 | Train Loss: 44.60186447203159\n",
            "Epoch  10 | Train Loss: 44.13785892724991\n",
            "Epoch  11 | Train Loss: 43.161930128932\n",
            "Epoch  12 | Train Loss: 42.68158699572086\n",
            "Epoch  13 | Train Loss: 42.528368800878525\n",
            "Epoch  14 | Train Loss: 42.091656401753426\n",
            "Epoch  15 | Train Loss: 41.70351946353912\n",
            "Epoch  16 | Train Loss: 41.026288628578186\n",
            "Epoch  17 | Train Loss: 40.45197096467018\n",
            "Epoch  18 | Train Loss: 40.85944952070713\n",
            "Epoch  19 | Train Loss: 40.38323709368706\n",
            "Epoch  20 | Train Loss: 40.026699244976044\n",
            "Epoch  21 | Train Loss: 39.86113923788071\n",
            "Epoch  22 | Train Loss: 39.76182797551155\n",
            "Epoch  23 | Train Loss: 38.800423979759216\n",
            "Epoch  24 | Train Loss: 39.70848575234413\n",
            "Epoch  25 | Train Loss: 38.82298047840595\n",
            "Epoch  26 | Train Loss: 38.9443721473217\n",
            "Epoch  27 | Train Loss: 38.88341864943504\n",
            "Epoch  28 | Train Loss: 38.57835403084755\n",
            "Epoch  29 | Train Loss: 38.24983648955822\n"
          ]
        },
        {
          "output_type": "display_data",
          "data": {
            "text/plain": [
              "<Figure size 640x480 with 1 Axes>"
            ],
            "image/png": "iVBORw0KGgoAAAANSUhEUgAAAi4AAAGdCAYAAAA1/PiZAAAAOnRFWHRTb2Z0d2FyZQBNYXRwbG90bGliIHZlcnNpb24zLjEwLjAsIGh0dHBzOi8vbWF0cGxvdGxpYi5vcmcvlHJYcgAAAAlwSFlzAAAPYQAAD2EBqD+naQAAcK1JREFUeJzt3Xd4lFXax/HvpCdAEiAhoQRCRyD0IlUUpCl2RcACKqgLrsrqLqiIZQUrLxaUtaCuimBjLSgoCFhASui9d5IQShIS0mae949DEgIhySQzmQR+n+vKlWHmmWfOjGPmnnPuc982y7IsRERERCoAL08PQERERKS4FLiIiIhIhaHARURERCoMBS4iIiJSYShwERERkQpDgYuIiIhUGApcREREpMJQ4CIiIiIVho+nB+AqDoeDw4cPU6VKFWw2m6eHIyIiIsVgWRYpKSnUqlULL6+i51MumsDl8OHDREVFeXoYIiIiUgIHDhygTp06RR530QQuVapUAcwTDw4O9vBoREREpDiSk5OJiorK/RwvykUTuOQsDwUHBytwERERqWCKm+ah5FwRERGpMBS4iIiISIWhwEVEREQqjIsmx6U47HY7WVlZnh5GheTt7Y2Pj4+2mouIiEddMoHLqVOnOHjwIJZleXooFVZQUBA1a9bEz8/P00MREZFL1CURuNjtdg4ePEhQUBDh4eGaNXCSZVlkZmZy9OhR9uzZQ+PGjYtVJEhERMTVLonAJSsrC8uyCA8PJzAw0NPDqZACAwPx9fVl3759ZGZmEhAQ4OkhiYjIJeiS+tqsmZbS0SyLiIh4mj6JREREpMJQ4CIiIiIVhgKXS0R0dDRTp0719DBERERK5ZJIzq2oevXqRZs2bVwScKxcuZJKlSqVflAiIiIepBmXCsyyLLKzs4t1bHh4OEFBQW4ekYhUGLt+hTWfQkWrbZWdASveg/hNnh6JeMglGbhYlkVaZrZHfopbAG/48OEsWbKE119/HZvNhs1m46OPPsJms/HTTz/Rvn17/P39+eOPP9i1axfXX389ERERVK5cmY4dO7JgwYJ85zt3qchms/H+++9z4403EhQUROPGjfnuu+9c+TKLSHmVuBNmDoZvR8PuRZ4eTfE57PDNKPjxMfjoWkg77ukRiQdckktFp7PsNH96vkcee/Nz/QjyK/plf/3119m+fTstW7bkueeeA2DTJvMNY9y4cbz66qs0aNCAqlWrcuDAAQYOHMgLL7yAv78///3vfxk0aBDbtm2jbt26F3yMZ599lpdffplXXnmFN998k2HDhrFv3z6qVavmmicrIuWPZcFPj4M90/x76VvQ8CrPjqk4LAt++hds/p/59+njsPA5GDTVk6MSD7gkZ1wqgpCQEPz8/AgKCiIyMpLIyEi8vb0BeO6557j66qtp2LAh1apVo3Xr1tx///20bNmSxo0b8/zzz9OwYcMiZ1CGDx/OkCFDaNSoEZMmTeLUqVOsWLGiLJ6eiHjK5m/NMpG3H9i8YNdCiNvo6VEV7fdXYeV7gA26jDHXxX4Eh2I9OSrxgEtyxiXQ15vNz/Xz2GOXVocOHfL9+9SpUzzzzDPMnTuXI0eOkJ2dzenTp9m/f3+h52nVqlXu5UqVKhEcHExCQkKpxyci5VTGKZg33lzu9ggc2wGb5sCyaXDjOx4dWqFiP4Zf/20uD3gJOt8PqYmwfhb8MBZG/gpepf/bKhXDJRm42Gy2Yi3XlFfn7g567LHH+OWXX3j11Vdp1KgRgYGB3HLLLWRmZhZ6Hl9f33z/ttlsOBwOl49XRMqJ316GlMMQWg96jIWEzSZw2fAl9J4AwbU8PcLzbZ0LPzxiLvf4hwlaAPo+D9t+hCNrzcxLx3s9NEApa1oqKsf8/Pyw2+1FHvfnn38yfPhwbrzxRmJiYoiMjGTv3r3uH6CIVBwJW83MCsCAl8E3EGq3h3rdwJEFy//j2fEVZN9S+OoesBzQ9g64akLebZVrwFVPmcsLnzMzMHJJUOBSjkVHR7N8+XL27t1LYmLiBWdDGjduzDfffMPatWtZt24dQ4cO1cyJiOSxLLMTx5ENTQZA0/55t3V9yPxe9SFkpHhmfAWJ3wSf3w7Z6WbM174O5/ab63AvRMZA+kn4ZaJHhillT4FLOfbYY4/h7e1N8+bNCQ8Pv2DOypQpU6hatSpdu3Zl0KBB9OvXj3bt2pXxaEWk3Nr4Nez9HXwCYMCL+W9r3A+qN4aMJFj9iWfGd66T++HTmyE9CaIuh1tmgHcBy/vePnDNFHN57aewf3nZjlM8wmYVt7BIOZecnExISAhJSUkEBwfnuy09PZ09e/ZQv359AgICPDTCik+vo0gFlJ4Mb3WEU3Fw5VNwxePnHxP7EXz/MIREwd/XFhwklJXUYzCjn0kcDr8MRvwIQUWUaPh2tCmmFxEDoxZ7dvzitMI+vwuiGRcRkYvZ4hdN0FKtQd6y0Lla3Q6VwiHpQF6dFE/ITIWZt5qgJbgO3PF10UELQJ9nISAU4jfAqg/cPkzxLAUuIiIXq/hNsHy6uTzwFfC9wEypbwB0GmUuL33DM20A7Fnwxd2mLktgVbjzGwipXbz7VgqD3k+by7/+G1Li3TdO8TgFLiIiFyPLgrn/AMsOl10HjfoUfnyHe8EnEI6sg71/lM0Yczgc8O0Y2PmLGcPQLyG8qXPnaD8carWFjGT4ZUKRh0vFpcBFRORitG4W7F8GvkHQf3LRx1eqDm2HmctL33Tv2M61YKIpJmfzhtv+C1EdnT+Hlzdc8xpgg/WzYe+fLh+mlA8KXERELjanT+bNOlzxTwipU7z7Xf43wAY75pu6L2Vh6ZtmeQrg+mnQpG/Jz1W7vZl5ATPbZM8q9fCk/FHgIiJysVn0AqQehbAmcPno4t+vekO47Fpzedlb7hnb2dbNhp/PFJG7+jloM6T05+z9NARWg6NbymdRPSk1BS4iIheTw2th5fvm8sBXwcfPuft3/bv5vX62e5NcdyyAb/9mLncZk/e4pRVUDa5+1lxePBmSD7vmvFJuKHARkUvb/r8gYYunR+EaDseZhFwHtLwZGlzh/DmiOkFUZ7Bnwop3XT9GgIOx8MWdppJvzG1w9fPnV8UtjTZ3QJ1OkHkK5j/puvM6HLBrERzf7bpzitMUuIjIpWvtTFPs7MMBkHXa06MpvbWfwqFV4FcZ+r5Q8vPk1HtZ+b6preJKiTvgs1sgKw0a9jZ5LV4u/ijy8oJrXgWbF2z6BnYvLv059/wG7/WCT26A9/tA2vHSn1NKRIFLOdarVy8eeeQRl51v+PDh3HDDDS47n0iFtn2+2YILcPqE6TRckaUdz+vX02s8BNcs+bmaDjQF69JPwprPXDI8wCzbfHIjnD4OtdqZHUTOLmUVV83W0PE+c/nHxyE7s2TnSdgKn90GHw8yW8UB0o7BwmddM05xmgIXEbn0HFhpip1ZdlMxFmD9F54dU2ktfM4EBDWaQ+f7S3cuL2/ociapd9lb4Ci6S32RTp80/YeSDkD1RjDsS/CvXPrzFubKJ6FSDUjc7nyycUq8aYPwThezy8rLBzqOhNvO9HOK/dgseUmZU+BSTg0fPpwlS5bw+uuvY7PZsNls7N27l40bNzJgwAAqV65MREQEd955J4mJee3cv/rqK2JiYggMDKR69er06dOH1NRUnnnmGT7++GO+/fbb3PMtXrzYc09QxFOObjNl5bNPm6Jsd31rrt+5AFITC79veXUo1vQbAlPLxNu39OdsPdTszjm5D7Z8X7pzZZ2Gz4dAwmaoHAl3fGOq3bpbYCj0fd5c/u0VOHmg6Ptkppo2CW+0Na+p5YBm18Lflpvlp+bXmRYJWDB3rGuCOnHKpRm4WJZ5c3rip5iltF9//XW6dOnCyJEjOXLkCEeOHKFKlSpcddVVtG3bllWrVjFv3jzi4+O57bbbADhy5AhDhgzhnnvuYcuWLSxevJibbroJy7J47LHHuO222+jfv3/u+bp27erOV1mk/Ek6BJ/cZJaGareHWz+GiBam4qoj23RRrmgcdvhhLGCZD9R6Lvr/2i8IOo00l0vTBsCeDV/fB/uXgn+I6T9UtZ5rxlgcrQZD3a4mp2b++Asf57CbWZQ32pndSFmpULsDjJgHt38GYY3yjr36OfAPhiNr8wJGKTOXZgvNrDSYVMszj/3EYfCrVORhISEh+Pn5ERQURGRkJAD//ve/adu2LZMmTco9bsaMGURFRbF9+3ZOnTpFdnY2N910E/XqmT8MMTExuccGBgaSkZGRez6RS0racfj0Jkg+CNUbm7LyOUsVrW6Hw2tMtdnSLrOUtdiPzAeof0je7IKrdBwJf0w1Mzr7/4J6XZy7v3VmVmLrD+DtD0M+h8iWrh1jUWw2M1MyvYeZOdqxABqf1f7Assxs288TTO0XgKrR0HsitLix4N1OVSLgqqfgp3+aJbrm15fNDJIAl+qMSwW1bt06Fi1aROXKlXN/mjVrBsCuXbto3bo1vXv3JiYmhltvvZX33nuPEydOeHjUIuVAZppZqji6FarUNA38KlXPu73lzabc/OHVZtdLRZGaaD44wXyQVq7h2vNXDofWt5vLJWkDsGgSrP7Y7O65ZQZEd3Pt+IorogV0fsBc/ulxyEo3l4+sg/9eb3Y5Hd1iOkz3mwyjV0DLmwrfot3hXoiMMQnMOUnRUiYuzRkX3yAz8+Gpxy6hU6dOMWjQIF566aXzbqtZsybe3t788ssvLF26lJ9//pk333yTJ598kuXLl1O/fv3SjFqk4rJnw1f3wIG/8pYqQuvmP6ZyuMl32THfFF676inPjNVZCyaaD87IGOhwj3seo8sYE3xs+9EEdWGNi3e/Fe/Bby+by9dMyavI6ym9xpmlwOO7YcEz5nVbNwuwwNvPzLT1+IfpTF0c3j7meX1wtdmG3u4uqNvZjU9AclyaMy42m1mu8cSPE0WW/Pz8sNvzEr/atWvHpk2biI6OplGjRvl+KlWqdOap2ejWrRvPPvssa9aswc/Pjzlz5hR4PhGXSDtuptlnDSt/tS0sC354GLb/ZJYqhs4y374L0nqw+b1+tik0Vt4dXAVrPjWXr5liPkjdIbwJNBkAWLBsWvHus2mO2YIM0OsJ6DDCPWNzRkAw9DtT22b5O7Duc8CCmFthzCro++/iBy05ojpB2zvM5bn/MEGyuN2lGbhUENHR0Sxfvpy9e/eSmJjI6NGjOX78OEOGDGHlypXs2rWL+fPnM2LECOx2O8uXL2fSpEmsWrWK/fv3880333D06FEuu+yy3POtX7+ebdu2kZiYSFaWGpBJKWRnmOWDN9qa5M2tP8DKDzw9qvx+fd58uOcsVRSWuNp0IPhVgZP7zexMebd2pvndarD5AHWnnIJ06z6HU0cLP3b3EvhmFGCZ5ZQr/unesTmj5c2m6B1AdA8YuQhufr90ycJ9njVLTPEbYFU5e/9fpBS4lGOPPfYY3t7eNG/enPDwcDIzM/nzzz+x2+307duXmJgYHnnkEUJDQ/Hy8iI4OJjffvuNgQMH0qRJE5566ilee+01BgwYAMDIkSNp2rQpHTp0IDw8nD//VNt3KQHLgg1fwVsdTYO89JMQdCYxcf2sku8+cbW/psPvr5nL1/5f0UsVvoEmyRLOLCGUc3t+M79zxuxO9bqagnHZ6Xl9kApyZJ2ZebNnwmXXwcBXXFvKv7RsNpMgPHoF3P091G5X+nNWCjONHQF+/bd7+zsJADbLKi9/ZUonOTmZkJAQkpKSCA4Ozndbeno6e/bsoX79+gQEBHhohBWfXkdh31ITrBw6U3irciRc9aT5kHqtmamNct+vUKe9Z8e54SuzBRcLrnwKrni8ePfb85upkOofAo9tB99y+j5PPgxTLjMzSf/cY+qVuNvGb+CrERBUHR7ZaLZLn+34bvigH6QmmNmMYV+V39fP1Rx2eL+32ZnWajDc5KYeTxepwj6/C6IZFxEpWuIO+Hyo6elzKBZ8K5mqpH9fbZISA0Oh2TXm2PWzPTpUdi2COQ8AltnO2/Ox4t+3XncIrg0ZSSZRt7za87v5XbNN2QQtYILT0Lqm3P26z/PfdirB1MdJTYCIGFP35FIJWsBUGr7mNcBm3v97NZvtTgpcROTCTh01SYfTOsO2ueYbfvsR8Pc1Jnfh7JpEOdtmN34Ndg/lTx1eA7PvAEcWNL8BBrzk3FKFl5dJ1gRY5+EArDB7lpjf9XuW3WN6+8DlOW0ApuVVjE1PNqX8T+yB0Hpwx1cQEFJ24yovareH9sPN5bn/8Nz/A5cABS4icr7MNPjtVZN4u/J909OnSX94cBkMmmoKcJ2rwZWmL0xaIuxcWOZD5tgu+PQWyDxlPtBvetd8E3ZWTgC24+fyt0sKTA5RTn5LWQYuYHbQBITA8V2w7SeToD37Dohbb/Kc7pwDVS7hApe9nzZtEo5ugeX/8fRoLlolClymTZtGdHQ0AQEBdO7cmRUrVhR6/NSpU2natCmBgYFERUXx6KOPkp6enu+YQ4cOcccdd1C9enUCAwOJiYlh1apVJRmeiJSUw266Ab/Z3uzIyUwxyxF3/wBDZ0ONZhe+r7cPxNxiLq8v4+TWlHjTdTgt0dQ0GfwZ+PiX7Fw1LoPIVmbWpjy2ADixxzQq9PKFuk5Wsi0t/8pmpxCYnWRz7jezP36VzUxL9YZlO57yJqgaXH2ma/TiySYXyYWOpmRwIrWEXa4vIk5v/J89ezZjx45l+vTpdO7cmalTp9KvXz+2bdtGjRrnV22cOXMm48aNY8aMGXTt2pXt27czfPhwbDYbU6ZMAeDEiRN069aNK6+8kp9++onw8HB27NhB1apO7qmX8uNUgvnguBSnjEvjyHrISPHMY6clwpJXzLZOgJAoU/a85c1mCaU4Wg2Gv94238bTk8rmv396klmqOLnPlGof9rWp2VEarW83swjrZ+f16ykvdp9ZJorqdH6CbFnofL/ZBn9gufm3ly8M/sT0exJocwes/gQOroD5T8KtH7rktJsPJ3Pr9KU4LPhn/6bc3SUaL69ytGOrDDkduEyZMoWRI0cyYoQpKDR9+nTmzp3LjBkzGDdu3HnHL126lG7dujF06FDA1BIZMmQIy5cvzz3mpZdeIioqig8/zPsP7I5KrxfJBiqPKfbrd+qo+cYeWhfu/734H3qXutiP4PuHPT0Ks6Om5z+g0/3OJ1jWbA1hTSFxG2z+Dtrd6Z4xnu2ncSbYqhRuug4XtIzlrJY3m91TB1eaJajyNJPgqWWiHFUiTYC69kzxuxunQ8OrPDOW8sjLy/RGercXbPoG2t8NDXqV6pQn0zK5/9NVpGaavKJnv9/MTxviePmWVkSHFd377mLj1CdKZmYmsbGx9OmT16DKy8uLPn36sGzZsgLv07VrV2JjY3OXk3bv3s2PP/7IwIEDc4/57rvv6NChA7feeis1atSgbdu2vPfeeyV5PgXy9vbOHb+UXFpaGgC+vr6FH7h/GWQkQ/xG0xFWipaaCL+cqQURWg/CmpT9T3gzk3z58Fro9nDJdoXYbPkr0Lpb0sG8x7ntE9cFGFUiTc4OwPovXHNOV/BkfsvZev3L7MC6flre8qDkqdkaOt5nLv/4OGSX/LPH7rB46PM1HDh+mqhqgTx1zWUE+XmzYu9x+r/+Gx/8sQeH49L6Uu7UjEtiYiJ2u52IiPzfaCIiIti6dWuB9xk6dCiJiYl0794dy7LIzs7mgQce4Iknnsg9Zvfu3bzzzjuMHTuWJ554gpUrV/L3v/8dPz8/7r777gLPm5GRQUZGRu6/k5OTL/wkfXwICgri6NGj+Pr64qUZAKdYlkVaWhoJCQmEhobmBoIXdHhN3uV1syC6u3sHeDH4ZaJZ8ohsBaMWlyyptLyIuc00/tv7O5w8AKFR7nusv94xicPRPZzvXFyU1rfDroUmMOo1rnwUUkvYYpb0fIOgdgfPjSO0LoyY67nHrwiufBI2/Q8St8Oyt6DH2BKd5tWft/H7jkQCfb15984OXFYzmH4tIvnX1+tZuusYz/+wmZ82HOHlW1rRILyya59DOeX2JouLFy9m0qRJvP3223Tu3JmdO3fy8MMP8/zzzzNhwgQAHA4HHTp0YNKkSQC0bduWjRs3Mn369AsGLpMnT+bZZ58t1hhsNhs1a9Zkz5497Nu3zzVP7BIUGhpKZGQxdgycHbhs/hYGvnpp1XRw1v6/8qbdr5lSsYMWMIFKdA8TuGz4ssR/sIuUngSxH5vLOSXpXanZNaZezYk9cGBF+Wigl7MNum4X8PHz7FikcIGh0Pd5k8D82ytmm72TQfyPG47wzuJdALx0Sysuq2lyt6KqBfHZfZ2ZuWI/k+ZuYdW+Ewx4/Xce79eUEd3q432R5744FbiEhYXh7e1NfHz+ksbx8fEX/ECbMGECd955J/fdZ6bNYmJiSE1NZdSoUTz55JN4eXlRs2ZNmjdvnu9+l112GV9/feGM/vHjxzN2bN4fxOTkZKKiLvym8PPzo3HjxlouKiFfX9+iZ1rATGUfWWsue/ubJaPtP0GLG906vgrLng1zzxRIa3snRHX07HhcpdVtJnBZPxu6P+qe2YrYj82up7Cm0Ohq15/frxI0v84UW1s/u5wELuVgmUiKr9Vg8z7dvxTmj4fBnxb7rtvjU3jsy3UAjOxRn+ta18p3u81mY1jnelzRJJxxX2/gj52J/HvuFn7ccIRXbm1Nw4t49sWpwMXPz4/27duzcOFCbrjhBsDMlixcuJAxY8YUeJ+0tLTzlmZyPgBzkj27devGtm3b8h2zfft26tW7cOMrf39//P2d2+7o5eWlUvXudnIfnD5hdhp0GmmmSNfNVuByISvfN4mlgVVNs7aLRfPrzdr+0a2mf02tNq49f3amWSYC6DrGfQngrW4zgcumb6D/i56d5bBnw94/zGUFLhWDzWYSdaf3gC3fw44F0LhPkXdLOp3F/Z/EkpZpp2vD6vyr/4XLENSpGsQn93Zi1soDvDB3C6v3n2Tg67/zj75NuLd7g4ty9sXp/9vHjh3Le++9x8cff8yWLVt48MEHSU1Nzd1ldNdddzF+/Pjc4wcNGsQ777zDrFmz2LNnD7/88gsTJkxg0KBBuQHMo48+yl9//cWkSZPYuXMnM2fO5N1332X06NEueppSZg6vNb8jWphS8AA7fzHJp5JfShwsesFc7j0RKlX37HhcKSAEmprmnm5J0t00B1IOm4J3Mbe5/vw56l8BVWqaYHzHz+57nOI4ss7MYAaEmOTPUvpu3WFe/Gkra/af0I5Ld4poAZc/aC7/9DhkpRd6uMNhMXb2WvYkplI7NJA3h7TFx7vwj2qbzcaQTnWZ/2hPejQOIyPbwaQft3LL9KXsTDjlqmdSbjgduAwePJhXX32Vp59+mjZt2rB27VrmzZuXm7C7f/9+jhw5knv8U089xT/+8Q+eeuopmjdvzr333ku/fv34z3/yqgp27NiROXPm8Pnnn9OyZUuef/55pk6dyrBhw1zwFKVM5eS31GoD4U1N8TJHtmnQJvn98rT5IKrVLi/Iu5i0OlOBdsNXZrbAVSzL1BEB6DzKvflTXt6eK6p3rpz8lugepc6DWrbrGA/PWsP0Jbu48e2lXPHKYl6dv43t8R6qIXSxu+JfpiHp8d2mcF8hXl+4g4VbE/Dz8WL6He2pXrn4Kwu1QwP57z2deOnmGKr4+7Bm/0kGvvE705fswu6KnUflJMC9JLpDSxn67/WwezEMet307Vj2tlnbrd0BRnqgDHx5tfcP+OgawAYjf4Xa7Tw9ItezZ8FrTU1TvmFfF2uKvFh2LYJPbjA7ax7dZKqVulPcRpjeDbz9TMfoQA8VxvzvDbB7EQx42RSBK6GTaZkMeP13jiSl0zSiCgdOpJF2pj4IQLPIKlzXphaDWtUiqpoHCtxdrDZ8BV/fCz4Bpn1GAeKSM1i1z7SZaFMnlDpVA88/KKIlXP4A+Fcp9OEOnzzN+G82sGT7UQBaR4Xy6i2taBxR+P0KlJECf75uvpgO+8rlOWvOfn4rcBHXsSx4KRrST8KoJWbW5VQCvNbMbFkdEwthjTw8yHLAnmXWvI9uMeXTr53i6RG5z4+Pw4p3zY6Km993zTk/uclsU+40Cga+wlexB3l78U6uaBLObR2icndeuNTbXSFhE1w7FTqMcP35i5KdAS/Wg+zT8LflhbdeKIRlWYyeuZofN8RRP6wSPzzUHZsNFm5J4Nu1h1myPYEse95HQvt6VbmudS2uaVWTMCe++Z/7mEeS0tkWl8LWuBS2x5vfGVl2ejYJp2+LCDpFVytyOaTCsyzzxS5n5qw0KoWbLfrt7gbvC9fVsiyLL2MP8vwPm0lJz8bP24tXbm3F9W1qF+9x7Nmw+mPTviDVBEDc9R00uKL0z+EsClwUuHjO8T3wRhvzzXT8obxExk9vMXkuPf8JVz3p0SGWC0vfNFVZg6rDmFXunzHwpIOx8P5V4BMIj+8o8ltikXJmP2xe8FAsx/3r0PPlRZzKyFuKalUnhFs7RHFd61qEBBZRLLG4/nzdLO3V7QL3zHPNOZ2RM0NXqYaZ9SnhN94vVh7gn1+vx8fLxjd/60qrOqH5bk9Ky+KnjUf4bt1hlu0+lrsy4O1lo2vD6lzfpjb9WkRQJaDg1zUpLYutcclsi09hW9yZn/gUUtILXyoMDfKld7MI+rWIoEfjcAL9KnhJgAtJOw6b/3fe0mlGtp13f9/N0ZQM6lWrxPBu9fC2FRDI2TNg1YemySVA9cZw9XMmn6yQ98SRJDP7snjbUXy8bLx7V3uualZIhWnLMm07Fkw0dWgAqjWAPs/AZddpxsVVFLiUAxu/ga9GmJ4loxbnXZ8zRRpaDx5eVz4KeXlK8mF4q6PpYHz9NNNt92JmWfBWBzi2E254B9oMLd355jwI62aaXUu3/Zfnvt/MjD/30CSiMg3DK7NgS3zujIG/jxcDWkZyW8coLq9fvXR9XZIPw5TmgGXew1WjS/c8nLVoEix5CVreArd8UKJT7D56imvf/IO0TDv/6t+MB3sVXmU4PjmdH9Yf4bu1h1h3MCn3ej8fL65qWoNrWtUkM9vBtjMzKNvikolPzijwXD5eNhqEV6JpZDDNIqvQJKIKDstiweZ4FmyJ50RaVu6xgb7e9GwSRt/mkfS+rAahQRd3vRqHw+LBz2KZvymeiGB/vn+oOzWqFJK3Zc8ywcuSF80yLEC9bqZmTO32hT7O2C/W8r+1h/H38eLT+zrTMbqAL02HVsPPE2DfmR1sgdXM7E77EW7bVafARYGL5/zytPlm2uEeuPb/8q7PTINXG5sP6xHzXF/htCL5coTZWlunE9wz/9Lo47TkFVj0b9Ov5a5vS36e5CMwNcZ0bb5vIQeCmnPVa4vJslt8cm8nejQO59ipDP639jBfrDzAtrMSTetWC+LW9nW4uX0daoUWkDdQHDn5W1c+CVf8s+TPoyRm9DetNAa9YXrfOCkz28HN7yxlw6EkujSozmf3dXYqkNubmMp36w7z7dpD7DqaWuixtUMDaRpZhaaRVWh25neDsMr4+RT8Xs+2O1i17wTzN8Xx86Z4Dp08nXubt5eNzvWr0a9FJH1bRFAzpIT/7cqxaYt28sr8bfh5ezHr/stpV7eYOVTpSfDH/5myANlndiq1vAV6Pw1VCy4lkmV3cP8nsfy6NYEqAT7MHtWF5rXOfF6e2GcqXm/8yvzb29/shuox1u3NUhW4KHDxnI8HmQJZBf1xzfmm3H4EDJrqkeF53O7F5sPP5mVygGq28vSIysaJvfB6a8AGYzdDcK2i7lGwBc+YP9RnlmsembWG/609TI/GYXxyb/7icJZlsf5gErNXHeD7tYdJObOUZLNBj8bhDO4QRZ/mNfD3cWJJYu1M+N+DUK0hPBRbdjOHGafgpXpmd14JZ3te/Gkr05fsIiTQl3mP9ChxAGBZFpuPJPPdusMs3nqUkCDf3OCkWWQVGkdUIfgCy0jFPf+mw8n8vDmenzfFsTUu/y6nVnVCTBDTPIJGNSpjq+Czt4u3JTDio5VYFky+KYYhneo6f5Kkg/Drv017FSyzVN9pFPR8rMBE8tOZdu6asZyVe08QVtmfOSMuI2rTO7D8P2A/U6C11e1w1VPubddxFgUuClw8w7JM8mBGkukIfe6Hcs6HdkCoWaP3KVmiX4WVnQHvdINjO6DzAzDgJU+PqGzlzBhc/Zxp4OisjBT4vxbmW+btM9lYpTvXvmmmsn94qDsta1/4G+HpTDvzNh1h9soD/LX7eO71VYN8uaFt7eIn9GakwCuNTYLsfb9CnQtPy7vUjgXw2c2mP9AjG5y++9JdiQx7fzmWBdPvaEf/ljXdMEj32HcslZ83xfPz5jhW7TuRbzdurZAAOjeoTqf61ehcvxr1wyq5JZBJz7Kz7sBJlu85zoo9x4ndd4LQIF96Ng6nZ5NwujcKIyTI+WBt37FUBr35B8np2QzpVJfJN8WUbqBH1pklnpzk34BQMzPY8b7z/t4mnc7ijum/0SnxGx72/R/BnKn1Ur8nXP286wtGFkGBiwIXzzi2C95sZ6YXnzh0fqa7ww7/19IUDbvtE1NK/VLy+xRY+KxJrnxoldunXsudVR/CD49AjRbwtxJ0DP/rHZg3zsx2jFnFXR+t4rftR7mudS3eGNK22KfZdyyVL1cd5KvYg8Ql5xUC692sBtOGtSPAt4gZmK/vM/2XzuxoKhM/TzC1P9reYfKinHAi1Wx9jktO5/aOUbx4c8Wd5TuaksHCLfHM3xTHnzuPkWl35Ls9vIo/nc8EMZ0bVKdReOUS5TWlZWazZv9Jlu8+xl97jrP2wEkysx0XPN7LBm3rVqVn43CuaBpOTO2QIqvVpmVmc9PbS9kal0LbuqHMGnW5c7N/F2JZsHOBec8c3WKuC60HfSZCi5vMLKFlwaY52H95Bu8k07tvr1ddwm98iUotC0/ydRcFLgpcPCMnAbd2e1OXpCA5OTDNroXbPyvb8TnDslz7P+/JAzCtE2SlwY3vQuvBrjt3RXH6BLzaxExFP/AHRDrx7dKeDW+0haT9cO3/8WfodQx7fzm+3jYWju1F3erO1xqxOyx+33GUL1Yd4JfNJqH3mpiavDmkbeEfdjmzH0HV4R/bCt2K6jL/ucL0/7rpPdOCoJgsy+LBT1czb1McDcIq8cPfuxPk5/a+umUiLTOb1ftOsmLPhYOLapX86Bhdlc71q9O5QTWaRQYXGFCkpGexat8JVuw5zvLdx1h/MInsc4q1hVX2p3MDExR1jK7G0ZQMlmw/ym/bj7LjnMq0oUG+9GgczhVNwunZOIwawfkTbS3L4qHP1/DD+iOEVfbnh4e6Exni4iKK9mxY+5lJ6j4VZ66r3d7Mvqz8AA6tMocF1WByxs18mNqVNvXC+OTeTh55jzj7+X1xvIvF83IaK9Yq5Ntvq8EmcNk+32wLLI/bgLfOhS/uhka9Te+gEtbLyGfeOBO01Ovm1AfPRSWwqim6teU70wLAmcBly7cmaAmqjiPmdl58dzUAwzrXK1HQAibps1fTGvRqWoOluxIZPmMlczccIbyKPxMHNb/wkkODXmbWLDXBfLPNaWvgLmnHzRIAON2faPbKA8zbFIevt403hrS9aIIWgCA/H7o3DqN74zAg/3LO8j3HiN13guOpmczfFM/8TaYpcHCADx2jq9G5QTXqVA1i9b4TrNh7nI2Hkji3qGzNkIDcmZuClqEuqwk9m4QDptDbb9uPsmT7Uf7YmcjJtCy+X3eY79cdPnNsMD2bhHFFk3A61KvGx0v38sP6I/h42Xh7WDvXBy0A3j4mzzDmFlj6lvm7eyjW/IDpet7t73h3GcMtJxx8MX0ZsftO8OCnq3nvrg4XTKQuLzTjIq7x0bWmG/B1b0G7Oy983DvdTVPBa6ZAx3vLbnzF9X4fOLjSXLZ5mQJPvcZDlUJqHhRmxy/w2S1g8zYzDRHNi77PxWrLDzB7mOn98+im4pWttyx4t5cJjHuN5/uqd/HQ52uo7O/Dksd7OVUOvTDfrzvMQ5+bdhXjBjTjgSsK2So8bzz89TY0vwFu+9glj39BW76H2XeYDthjVhT7bruOnuLaN/7gdJad8QOacX9hz+cilJntYMOhJJbvOcaKPcdZtfdEvlo/56pbLShfoFKnamCJ8mWy7Q7WHjiZOxuz/lBSvrycID9v0rPsOCx49roW3N01ugTPrgRS4mHxJNg4B1rcAFc+AVUic2+O3XecYe8vJz3LwXWtazF1cJvSlQ9wkmZcpOw5HHnfCgubcQGzTPLzBvOtu7wFLsd2maDF5gWN+8L2eRD7Iaz/wiSUdh0DfpWKf76sdFM5Fsy2wks5aAHzmgZWhZQjJoGw4VVF32ffnyZo8Qkgs+09vPruJgBG9WzgsqAFYFDrWiSkZPD8D5t58aet1Kjiz03t6hR8cKvBJnDZ9pNJFnZnvtKe38xvJ2ZbMrMdPDJrLaez7HRrVJ2RPRq4aXDll5+PF+3rVaV9var8rZcJKLYcSWH5nmP8tfs4R5JO06pOKJc3qEan+tVcts3ax9uLDtHV6BBdjX/0bcrx1Ex+33H0TCCTSOIpU+fm5nZ1uKtLwVuW3aJKhGnDMuj1Am9uX68a79zRnpEfr+K7dYepGuTLM9e1KLe7thS4SOkd322aBfoEQHgRSysxt5pclwPLzf2qlaM/quu/ML8bXgVDZ8O+pabC7aFY821l1QxT+bfNsOLNFvz5OpzYY2YYeo1z79grAh8/kyC46gNYN7t4gUtOM8U2Q5m1OY19x9IIq+zPvd3ru3x493avT3xyOu/+tpt/frWesMr+ucsB+dRsbd7nR7fC5m/d2yCzBIHLa79sY8OhJEKDfHnt1rL95lxe+Xh7EVMnhJg6IdxXhoFctUp+XN+mNte3qY3DYbElLpm9iWn0bRFR7oKCK5vW4LXbWvPI7LV8vGwfoUF+PHp1E08Pq0DleyFLKoac/JbIGLO2WpgqkSZPAPIChfLAsswsEJhv1AD1usJ9C+GWGSYz/1QcfPcQTO9uloAKW2U9vgf+ONODqN8LpS91f7FofaZj9JbvIbPwQmYc3WZmvbCR2u5+3li4A4CH+zSmkr97vnON69+M69vUItth8eCnsWw8lHT+QTZb3ntk3Wy3jAOAlDgTHGGD6O7FusufOxN597fdALx0cyv35E9IiXh52WhRK4RrWtXEt5z2Zbq+TW2eva4FYLpUf/TnHg+PqGDl89WTiuWwyQ2gZpviHZ/zR3/97HLTJp0DK8zsiG8laHZN3vU2G7S8GcashL4vmNoICZtN3sonN8CR9QWfb944U82yfk8zyyBGnY5QtT5kpZpE6MIse8v8bnYN727yIvFUJvXDKnF7R/cVxfLysvHKLa3p1qg6qZl2hn+4gv3H0s4/MOZW83vfH3Byv3sGs+d387tmq2Ilsp9IzWTsF2uxLBjSqS79WkQWeR+Rc93VJZpH+5iZlme+38z/1hzy8IjOp8BFSu/wWvO7qPyWHM2uBd8gs1R0cJXbhuWU9bPM7+bXFZzH4uNvclweXgtdxpjqlLsXw396wpwHTPXKHFt/NDMFXr4w8LVLuzfTufLNVsy68HEp8bm3n2hzP+/9bmYRHu/X1O3fVv18vJh+R3ua1wwm8VQmd81YzrFT5/TgCY2C6B7mcilmDo+dymDfsVQK3CORU0isGMtElmXxr6/XE5+cQYPwSky49rISj0nk770bMfxM4vBjX65j0dYEzw7oHApcpHTyJea2Kd59/CvDZYPM5fWFfHiVlewM0yAS8j5ULySwqln6GbPS9AXBgnWfw5vtYcGz5gP3p3+ZY7uOgfDyuUbsUTlbwncvMsshBVn5nqn5Uqcj/7e1KmmZdlpHhTKgZdnMIlQJ8OWjER2pUzWQvcfSuOejlaRlnrMrpRQzh0lpWTz/w2Yun7yQK15ZTI+XF/HEnA3M3xRHSvqZhoO5gcsVRZ7v8xUH+HlzvNn6fPvFtfVZyp7NZuPpa5vnLZt+FsvKvceLvmMZUeAipXN8F2SmgE+g2bJZXDl/9Dd+DdmZ7hlbce34BdJPmiTa4iZBVo02XXpH/gr1uptloT+mmLL0SfshuA70fNydo664qjc0TSYthylceK7MVFj5PgAJLUcxc8UBwOSflGVCY43gAD6+pxNVg3xZdzCJ0Z+tJuvsaq3NrzcJ6Ynb8/K8ipCZ7eCDP/bQ85VFfPDHHrLsFj5eNg6eOM3M5fu5/5NY2j73C6OnzYGT+7FsPjiiLi/0nDsTTvHcD2a31T/7NSu0/YFIcXl52Xj11tZc2TSc9CwH93y0ki1Hkj09LECBi5RWTn5LcRJzz1b/CqgcYSqq7vzFPWMrrpxZn5hbirdb6Gy128PwH+D2zyGsielcDNB/snNbpy81rc+arTjX2pnmfVE1mud31SfbYdGraThdGlYv2zECDcMr88HwjgT4erFo21GenLMhb1knIBiaDjSX/5ha6Hksy2Lexjj6/t8Snv9hM0mns2gaUYWP7+nE+mf68uHwjgzvGk2DsEpkOywqHf4TgFX2BnR85S8enb2WOWsO5m6nzZGRbefhWWtIz3LQo3GYW3ZbyaXL19uLt4e1p0O9qqSkZ3PXjBXsO1ZEUn0Z0HyilI6z+S05vH1MguOyt8yH19kJsWXp9AlTyRdMR9SSsNmg2UBTp2TDF2YmIWcp7BKQkW3nqTkb+WNnIo/3a8qNbWsXPTPS4ib4aRzErYeELVDjTE6Gw56blHuw2T18vygBmw3+1d8FFYxLqF3dqrw1pB2jPlnFF6sOEhkcwNi+Z2YXe4yFzf8zP7sWQcMrz7v/+oMn+fcPW1hxZqo9rLI//+jbhFvb18HnTL7Olc1qcGWzGgDsP5aG/atP4QisssVwLDWTOWsOMedMkmTL2sFnysmH8/PmeDYdTqZqkC+v3tpaW5/F5QL9vPlgeEcG/2cZpzKyy8V+CgUuUjo5My7OBi5glouWvQXb5sHpkxAY6sqRFc+mOSaXIqIlRLYs3bm8faDNUNeMq4I4mZbJqE9iWbHHfCiP/WIdC7ck8MKNLQkN8rvwHYOqmUBv21yThHv1s+b6rT/Aib1YgVV5ak9rIJUb29YuXvdmN+rTPIIXboxh/DcbeOPXnUSEBDCscz0z09hpFCyfDj8+Bg8uze3Ee+jkaV6Zt5X/rTWl3wN8vRjZowH3X9GQyoVs565bLRBSTGn2++4aQVtb89xKrJsOJ7PxkPmZtmhX7n1evqU1EcHa+izuERLoy3/v6YTDolxssddSkZScw26+MUPJ2qBHxkCN5mDPMN9YPSFnR0hRSblyngPH07j5naWs2HOcKv4+3NWlHj5eNuZuOEK/qb/x+46jhZ8gZ7low5cmyduy4M83ANjfYCiL96bi5+3F2HJSBGtIp7o83LsxABP+t5H5m84kFl/5hOlfdGwnLHuLlPQsXp63lateXZwbtNzUtja//qMX/+jbtNCgBTD1a07Fg08AvvU6cXmD6vyrfzPm/r0HK57szWu3tub6NrWoVskEhsO7RnN18xK2pBApphrBAeUiaAHNuEhpHNsJmafM1uawEny45GyNXTDRFPJqP9zlQyzUib2wfxlgM/ktUmzrD57kno9Wkngqk5ohAXw4oiPNIoO5pX0dHpm9lt1HU7nzgxUM7xrNuAHNCPAtIHeoSX9TLj/5kKmH4u0Hh1Zhefsx7qBJSL2rSz3qVC1ZI0V3eKRPYxJS0vl8xQH+/vkaPruvMx2iq0Hff8OcUWQvepkhi2uyMdUkyHauX42nrmlOTB0nEmZzquXWvTx39iZHjSoB3Ny+Dje3r4PDYXHo5GnqVHVNuXqRikIzLlJyuYm5rZxPas0Rcytgg/1L4cQ+lw2tWHJmWxpcAcG1yvaxK7AFm+MZ/J+/SDyVyWU1g5nzt240izRLOa3qhDL3oR65fVg+WrqXQW/+UXAFWh9/aHGjubxudm55/311rmNZvDdV/H0YfWWjMnlOxWWz2Xj++pb0uawGGdkO7v14FTsTUljk14t13i3xcaQzJnMG9cMq8e6d7Zk16nLnghYodv0WLy8bUdWCyl3peBF3U+AiJVfSxNyzhdSG+mcKeW0owxYAlpVXAK2kSbmXoE+W7WXUJ6s4nWWnZ5Nwvnygy3nTx4F+3jx3fUs+GtGR8Cr+7Eg4xY1v/8m0RTuxO87J7MtZotv0TW4l3SfjzAf2A70aUrVSIXkyHuLj7cWbQ9rRtm4oSaezuPbNPxjx8SoeS7uLbLzo772Sn6/NoG+LSOeDCofddFkHqN/L1UMXuSgocJGSy03MbVO68+QEDuvKsAXAodWmBo1v0CW1A6ikHA6LyT9uYcK3m3BYcHvHKD64u0Oh+Rq9mtZg/iM96d8ikiy7xSvzt3H7u8s4cPysEvpRl0NoXchKAyz2h/Xkz6QwIoL9uadb+d3aG+jnzQd3d6RBWCXSsxz4eXvRq3sP7B0fAMB3/r9Md3Bnxa03Haf9g00zRxE5jwIXKZl8ibmlmHEBEzj4BMKxHXB4denHVhw5tVuaXWMq+coFpWfZeWjWGv5zpnnfY32bMPmmmGKV3q9WyY937mjHK7e0opKfNyv3nmDA67/zVexBUw/FyytfYvRzx0zH6Ef7NCHQr4TLj2WkWiU/Ph91OU8OvIwFY6/gyWua49/nCVPI8MQe0x3cWTn5LfW6OVcXSeQSosBFSiZxu/mW7FsJqpcyDyEg2NRBAfd2281hzzIVe0HLREU4kZrJnR8sZ+76I/h62/i/wa0Zc1Vjp5ZAbDYbt3aI4qeHe9KhXlVOZWTz2Jfr+NtnqzmRmglt7wC/KuwL6ciC041pGF6JW9rXceOzcp2I4ABG9mxA3epnEoj9q5iWEGAqKR93srvu7uL3JxK5VClwkZLJyW+p2brkiblnywkgNn5tAgt32rkA0o6ZLawNern3sSqw/cfMdueVe09QJcCHj+/pxI1tSx5Q1K0exOz7u/B4v6b4eNn4aWMc/ab+xuKEII6OWsu1xx8GbPyzf7PcwmwVUoubzPsqO930rSru8md25pldbpiEcREpUAX+6yAe5ar8lhwNr4JK4ZCWCLt+dc05LyQnKTfmVk3HX8DaAye58e0/2Z2YSu3QQL5+sCtdG4aV+rzeXjZGX9mI/43uRqMalUlIyWD4hyu57aONpGR50b5eVfpW9JokNhsMeMV0B98xH7b9VLz7HYo1s5hBYRCu7s4iF6LARUomp6lcafNbcnj7nOm2TF5g4Q7pSXkfJK1VdK4gP2+K4/Z3l3EsNZMWtYKZ87euNImo4tLHaFk7hB8e6s7wrtEA7Ek0/U/GDSjbRopuE97EdAcHM+uSmVb48XDWNugeJvdHRAqk/zvEefZsOHImMbdmG9edNyeQ2PajCTDcYfO3plJveDNTf0by+XjpXu7/NJb0LAe9mobzxf1dqOGmUvIBvt48c10LPr6nE80iqzC8azQdo6u55bE8oufjEBJluoX//lrRx+ck5iq/RaRQClzEeYnbIfs0+FUufWLu2Wq2MRV4s9Nh83euO+/ZcpJ/Ww02U/oCmJ1D//5hMxO/24RlmfL279/VgUpFlad3gSuahDPvkZ48c10Ltz9WmfKrZLqEAyx9AxJ3XvjYzDQ4sMJcrq/8FpHCKHAR5+Xkt9Rs7dop7ZwWAGA6Rrvayf2mtDw2aHWb689fAZ3OtDPjjz1c8coi3v/D7ID5Z/+mTLqxZcVOkC0vml0LjfqYRp4/PX7hRN0Df4EjC4LrQLUGZTtGkQpGf5nEea7ObzlbTkCx93c4ecC1597wpfkd3R1CKsZ2W3dJzcjmP0t20ePlX3nuh83EJ2dQMySAaUPb8bdejS6OPJPywGaDAS+Dt79JOt/8bcHHnb0NWq+9SKG0pUKcl7ujyA2BS2hdqNfdzIz8MgFunuGaWR3Lyr9MdIlKSc/iv8v28f7vuzmRZrad16kayN96NeLm9rXx9ynfRd8qpOoNofsjsOQlmP+EmYE5t+ih8ltEik2BizjHng1xG8xlVybmnu3K8fDfG2DTHKgcAf1fLP230CNrIXEb+ARA8+tdMcoKJSktixl/7uHDP/eQnJ4NQHT1IEZf2Ygb2tYuVhVcKYXuj5rdcif3wW8vw9XP5d12+mTeLKYCF5EiKXAR5xzdapJn/YPdtxYf3R1unA5f3wvLp5vgpcfY0p0zZ7al6UBTqfcScTw1kw/+2M3HS/dxKsMELI1qVGbMlY24tlVN5bGUFd9As2T0+WBYNg1aD4Uazcxt+5aC5TCJ7iG1PTtOkQpAgYs4x12JueeKuQVSj8K8cbDwWahcw5SGLwl7Nmz8ylxufWmU+D+aksF7v+/m07/2kZZpB6BZZBXGXNWIAS1r4u2lPIoy17Q/NBkA23+CHx+Du783M4l7VOZfxBkKXMQ5uYm5bdz/WJc/CKfi4Y//g+/+DkHVoekA58+ze5EJgoLCTIXei1hcUjr/+W0XM5fvJyPbAUDL2sE8dFVjrr4sAi8FLJ414EXzftz7u2lvEXOL8ltEnKTARZyTO+PSpmwer/dEOHUU1n4KXw6Hu76Dup2dO0dOJd6WN4O3r8uH6Glpmdn8tv0o8zfFM3f9ETLtJmBpExXK33s34sqmNbRLqLyoGg09HoNF/4b5T5oE94TN5rZoBS4ixaHARYrPngVxG81ld+woKojNBoNeNz2Mts+DmbfBPfOgRjF7uWSkwNa55nIZlPhPSc8iPctBeBV/tz7O8dRMFmyJ5+dN8fy+42ju7ApAx+iq/L13Y7o3ClPAUh51fQjWzYTju+HzIea6iBioVN2z4xKpIBS4SPElbDHl8v1DyrZIlrcP3PIh/Pd6OLgCPr0Z7v25eLVYNn9nqvxWbwy12rllePHJ6fy8OZ6fN8Xx1+5jZNktIoMDaB0VQqs6obSJCiWmTgjBAaWb7Tl4Io2fN8Uzf1McK/cex3FWLbOoaoH0ax7JgJiatKsbqoClPPMNgIGvmPdx4jZznZaJRIpNgYsUX25+S+uyL5LlFwRDZ8OM/uaP/Sc3mZmXoCJ62+RU4G3t2hL/u4+eYv6meH7eHMea/Sfz3WazQVxyOnGb0pm/KT73+gbhlWhTJ5TWUaG0qhPCZTWDCfC9cN0Uy7LYFp/C/I3mcTYdTs53e/OawfRtEUG/FpE0i6yiYKUiadQHLrsOtpxpbdFAZf5FikuBixRfWee3nCuoGtz5DXzQ1wQvM2+Du741PWEKknQoL/ExpnQl/i3LYv3BJH7eHMf8TfHsTDiV7/a2dUPp2zySvi0iqBkSwMZDyaw7cJJ1B83PgeOn2X00ld1HU/lmzSEAfL1tXFYzmFZ1Qmh9ZmYmOqwSaw+c5OdNcfy8OZ59x/K6CnvZoEN0Nfq1iKRv8wiiqgWV6jmJh/WfDLsWmd15dbt4ejQiFYYCFym+w2vN77LKbylISB2442sz83JwJXw5Am7/rOCk2w1fAhbU7QpV6zn9UFl2Byv2HGf+pjh+2RzPkaT03Nt8vGx0aVidfi0iubp5BBHndFDuVL8anernzQYdO5XB+kNJJpg5cJJ1B5M4nprJ+oNJrD+YxKfsB0xwcvYSkJ+PFz0bh9G3eSS9L6tB9cruzZ2RMhRSB/62FBz2S6q2kEhpKXCR4snOhPicxNw2bn0ou8Niy5FkWtQKLnj5o8ZlMPQLk/OyY77ZKn3D2/mXgiwr/zJRMVmWxYItCfy04QgLtyaQdDor97YgP296NQ2nX4tIejWtQUhg8XNWqlf258qmNbiyaY3cxzl44jTrDp5k/cEk1h44ycZDSaRl2qkS4EPvZjXo2yKSK5qEl0mHZvGQ0LqeHoFIhaO/iFI8R7eYDrcBIVC1vtsexrIs/v75GuZuOMIzg5ozvNsFHqtuZ7j1Q5g1zOzQqFwDrn427/b4jWabqbc/NL+h2I//3u+7mfTj1tx/V6/kR5/LIujbIoJujcIKzUlxhs1mI6paEFHVgri2VS3ABGyHTpwmMiQAPx9VtBURKYgCFymesxsrujEJ9OOle5m74QgA05fsZmjnehf+EG86AK57A74dDX9ONcFLl9HmtpzaLU37Q2BosR47PcvOf5bsBuDW9nW4tUMU7etVLbMqs95eNupWV96KiEhh9LVOiqcMEnPXHTjJCz9uAUzialxyOj+sP1z4ndreYYrUgem8u/4LkzOw4UyJfyc6QX+9+iDHUjOpHRrI5Jti6FS/mkrji4iUMwpcpHjcnJibdDqL0TNXk2W36Ncigkf6NAHg3d92Y1lW4Xfu/ih0ftBc/t+DprfRqTgIrAaNri7W4zscFu//vgeAe7vXV/NBEZFySn+dpWjZGRC/yVx2Q2KuZVn886t1HDxxmqhqgbx8S2vu6FyPID9vtsal8MfOxMJPYLNBv0nQ8hZwZMOfr5vrW94EPn7FGsOCLfHsSUwlOMCH2zpGlfIZiYiIuyhwkaIlbAZHFgRWhVDntxUXZcafe5m/KR4/by+mDW1HSKAvIUG+DD4TQLz72+6iT+LlBTe8Aw165V3XqvidoHMeY9jl9aisXTwiIuWWAhcp2tn5LS5OzF2z/wSTz+S1PHnNZbSqE5p72z3d6uNlg993JLL5nKqxBfLxg8GfQtOBpuBcnQ7FGkPsvhOs2ncCX28bI7pGl+BZiIhIWVHgIkVzU37LybRMxsxcQ7bDYmBMJHd1yT+bE1UtiIExNQF4//dizLoA+FeBIZ/Dze8VO8jKOfcNbWpT45xCciIiUr4ocJGi5W6FbuOyU1qWxWNfrufQydPUqx7Eize3KrDY3Kieppnjd+sOc/jkaZc9fo59x1KZtykOgJE9y7BxpIiIlEiJApdp06YRHR1NQEAAnTt3ZsWKFYUeP3XqVJo2bUpgYCBRUVE8+uijpKenF3jsiy++iM1m45FHHinJ0MTVstJNV2hw6YzL+7/vYcGWvLyWC3VOblUnlMsbVCPbYfHR0r0ue/yzx2FZcGXTcJpEVHH5+UVExLWcDlxmz57N2LFjmThxIqtXr6Z169b069ePhISEAo+fOXMm48aNY+LEiWzZsoUPPviA2bNn88QTT5x37MqVK/nPf/5Dq1atnH8m4h4Jm84k5laDENfstondd4KX5pnqtBMGNadl7ZBCj8+ZdZm5fD/J6VmFHuuM46mZfBl7ANBsi4hIReF04DJlyhRGjhzJiBEjaN68OdOnTycoKIgZM2YUePzSpUvp1q0bQ4cOJTo6mr59+zJkyJDzZmlOnTrFsGHDeO+996hatWrJno243tn5LS5IzD2RmslDM1eT7bC4tlVN7uhcdK+WXk1q0KhGZU5lZDN7xYFSjyHHp3/tIz3LQcvawXRpUN1l5xUREfdxKnDJzMwkNjaWPn365J3Ay4s+ffqwbNmyAu/TtWtXYmNjcwOV3bt38+OPPzJw4MB8x40ePZprrrkm37kLk5GRQXJycr4fcQMX5rc4HBb/+HIdh5PSqR9Wick3xRTcRPEcXl42RvUwMyIz/txDlt1R6rGkZ9n5+MzS08geDYo1DhER8TynApfExETsdjsRERH5ro+IiCAuLq7A+wwdOpTnnnuO7t274+vrS8OGDenVq1e+paJZs2axevVqJk+eXOyxTJ48mZCQkNyfqCgVDcvHngV/vmFK3ztK8UF/ZK357YL8lnd/382vWxPw8/HiraFtqXKBvJaCXN+2FmGV/TmSVIw2AMXwzepDueX9rzmzc0lERMo/t+8qWrx4MZMmTeLtt99m9erVfPPNN8ydO5fnn38egAMHDvDwww/z2WefERBQ/K2o48ePJykpKffnwAHXLSFcFJa9Bb9MgK/vhfd6we4lzp8j67TLEnNX7j3OK/O3AfDMoBa0qFV4Xsu5/H28GdEtGoB3f9tTdBuAQpjy/mYL9D0q7y8iUqE49Rc7LCwMb29v4uPj810fHx9PZGRkgfeZMGECd955J/fddx8xMTHceOONTJo0icmTJ+NwOIiNjSUhIYF27drh4+ODj48PS5Ys4Y033sDHxwe73V7gef39/QkODs73I2ecPABLXjaXvf3hyDr473Xw2W2QsLVYp9h/LI1v5/8MjmysoDAIrl3i4RxPzeShmWuwOyyua12LIZ1KNjs2rHNdgvy82XIkueg2AIVYuDWB3YmpVAnwya3OKyIiFYNTgYufnx/t27dn4cKFudc5HA4WLlxIly5dCrxPWloaXl75H8bb2xswtTx69+7Nhg0bWLt2be5Phw4dGDZsGGvXrs09VpwwfzxkpUHdrvDoJug0Crx8YMd8eKcLfPd3SCl4aQ8g2+7g3o9XsnLZIgCWpdflme83s3RnItlO5pc4HBaPzl5LXHI6DcIqMamYeS0FCQ3y47YOTrQBuID3ztz3DpX3FxGpcJz+qz127FjuvvtuOnToQKdOnZg6dSqpqamMGDECgLvuuovatWvn5qsMGjSIKVOm0LZtWzp37szOnTuZMGECgwYNwtvbmypVqtCyZct8j1GpUiWqV69+3vVSDDsWwJbvweYN17wKlcNh4CvQ6X5YMBG2/gCrPza5L93+Dl3GgH/lfKf4bPl+diSc4kF/0y15VWZdPlq6l4+W7iU0yJermtWgX4tIejYOJ9Cv8MDynSW7WLL9KP4+Xkwb1q7UgcK93evz32V7+X1HIluOJHNZTedm2tbsP8GKvcfx9bYxXOX9RUQqHKc/RQYPHszRo0d5+umniYuLo02bNsybNy83YXf//v35ZlieeuopbDYbTz31FIcOHSI8PJxBgwbxwgsvuO5ZiJGVDj89bi53fgAiWuTdFtYIbv8M9i2Dn5+CQ6tg8WRYNQOufALa3AHePpxMy+T/FmwH4Mrgw5ACV1zRl4NJdViwJYHjqZl8s/oQ36w+RICvFz0bh9O3RSS9m9WgaqX8nZiX7z7Gaz+bvJbnrm/hdJBRkKhqQQyIqcnc9Ud47/fdTLmtjVP3f+9Mbsv1bWoTofL+IiIVjs0qTZZjOZKcnExISAhJSUmXbr7Lkldg0b+hciSMWQkBF3gdLAs2/w8WPAMn9prrwi+Dq5/jmS21+GjZPmJq+PFdymBslh0e3Qwhtcm2O4jdd4L5m+KZvymOQ2eV4Pf2stEpuhr9WkRwdYtI/H28uOaN34lPzuDGtrWZcltrl205Xn/wJNe99Sc+XjZ+/9eV1AwJLNb99h1L5cpXF+OwYP4jPWkaqUq5IiKe5uzntwKXi8WJvTCtM2Snw80fQMwtRd8nOwNWfgBLXoL0kwAsdbTghayhTLquKa3n3wKVasBj288rPmdZFpuPJDN/Uzw/b4pja1xKvttDg3w5mZZFw/BKfDemO5VcnEsy+D/LWL7nOPf3bMD4gZcV6z4Tv93Ix8v20atpOB+N6OTS8YiISMkocLlUA5eZt8P2nyC6B9z9vXNVbk+fgN9fI2vpdHw5U1I/vBkc3QqN+8KwL4s8xb5jqfyy2czErNp3AsuCAF8vvh3d3S0zGwu3xHPvx6uo4u/D0vFXFVkT5kRqJl1f/JXTWXZm3teZro3CXD4mERFxnrOf39pScTHY9pMJWrx84JrXnC/NH1iVRfX+zoRFjfin7xdc5/WnCVqg2PVb6lWvxH09GnBfjwYknsrgt+1HaVSjstuWY65sWoOG4ZXYdTSVWSsOFNlr6NO/9nE6y06LWsF0aajy/iIiFZUqb1V0Wafhp3+Zy11GQ3hT509hd/DvHzZz0ApnQ+dXYeQiM3PjGwRNBzh9vrDK/tzUrg6t6oQ6fd/i8vKy5TZfLKoNQHqWnY+X7QVMw0aV9xcRqbgUuFR0v0+Bk/tMgbie/yzRKT79ax+7jqZSvZIfD/VuDLXbwfAfYPxBl5T6d5fr29TObQMwd/2RCx73vzWHSDxlyvsPVHl/EZEKTYFLRXZsF/w51VzuP/m8eizFcSI1k6kLdgAwtm8Tgs/OFfEq38X/Any9Gd61HmAK0hWUruVwWLx7Zgv0iG7R+Kq8v4hIhaa/4hWVZcFP/wR7JjS8Ci67rkSnmbpgO0mns2gWWYXbO9Z18SDd747L6xHo683mI8n8ufPYebf/ujWB3UdNef/bO1W85yciIvkpcKmotnwPOxeAtx8MfNX5hFxgR3wKny7fD8DT1zbH26vi5X6EBvnl9hvKmVk5W851wzqrvL+IyMVAgUtFlJkK88aby90ehuoNnT6FZVk8P3cLdodF3+YRFXp78D3d6uNlg9+2H2XLkeTc69ceOMmKPSrvLyJyMVHgUhH99gokH4SQutB9bIlOsXjbUX7bfhRfbxtPFLOAW3lVt3oQA1qapNv3zpp1yWmmeF3r2kSGqLy/iMjFQIGLOznssPFrOLrddec8uh2WvmUuD3gJ/IKcPkWW3cHzczcDZrYiOqyS68bnITlbo79be5gjSafZfyyNnzYeyXebiIhUfFr0d6ft8+Cre0yn5nZ3Qa/xUCWi5OezLPjxMXBkQZP+0GxgiU7zybJ97D6z/Xn0VY1KPp5ypHVUKJ3qV2PFnuN8tHQvGVkOHBZc0SRcPYlERC4imnFxp4Qt5rdlh9gP4Y22sPglk6NSEpu+gT1LwCcA+r9YolMcT81k6pnuz4/1a5p/+3MFN6qHmVmZ+dd+Zq88YK7TbIuIyEVFgYs7ndxnfl92HdRuD1mpsHgSvNEOVv/XLCUVV0YKzH/SXO4+FqrVL9GQpi7YTnJ6NpfVDOa2DlElOkd5dVUz0wYgJSM7t7x/V5X3FxG5qChwcacTe83vpgPhvoVwywwIrQen4uC7h2B6d9jxi1kCKsriFyHlCFStb3YSlcD2+BQ+O7P9ecK1l1XI7c+F8fKyMbJH3gyLyvuLiFx8FLi404kzMy5Vo02dlZY3w5iV0PcFCAiFhM3w2S3wyQ1wZP2FzxO/Gf56x1we+Ar4Or9DxrIsnv9hM3aHRb8WEXRtWHG3Pxfmhra1aVk7mLZ1Q1XeX0TkIqTAxV3s2ZB00FyuWi/veh9/6DoGHl4LXcaYAnK7F8N/esKcB/LukyMnIdeyQ7NrofHVJRrOr1sT+H1HIn7eXhV++3NhAny9+eGhHsz5WzeV9xcRuQjpL7u7JB8ywYa3P1SOPP/2wKrQ7wUzA9PyZsCCdZ/Dm+1hwbOQfqaQ2vovYN+f4BNo+hGVQGa2gxfmmkThEd2jqVe94m9/FhGRS5MCF3fJScwNjQKvQl7mqtEm92Xkr1CvG2Snwx9T4I02sGwa/PyUOe6KxyG0ZL12/rtsL7sTUwmr7MeYKy+O7c8iInJpUuDiLjn5LaH1Cj8uR+32MHwu3D4TqjeGtGMw/wlITTD/7vJQiYZxPDWT1xea7s+P9W1KlYto+7OIiFx6FLi4S86MS9ViBi5gEnibXQN/WwbXvAZBYeDlYy77+JVoGFN+2UZKejbNawZz60W2/VlERC49qpzrLs7OuJzN2xc63geth0L6SQiuVaIhbItLYWZO9+dBFbP7s4iIyNkUuLhLTg2XqtElP4dfUIG9iCzLIstukZ5tJz3LTkaWg/QsO+lZjtzr0rMcvPf7bhwWDGgZyeUNVIhNREQqPgUu7lKSpaJzfLnqAB8t3Uta5pkAJTsnQLHjKEbNOuCi3/4sIiKXFgUu7pB1Gk7Fm8slWSoClu5M5J9fry9WUd0AXy8CfL0J8PHOvezv602grxe3tI8iqprzHaRFRETKIwUu7nDS5JXgH2zqtTjp2KkMHpm9FsuCG9rUYkinuiYw8fXOF6T4+3rh7+OlsvYiInLJUODiDmcn5joZVDgcFv/4ch0JKRk0qlGZSTfFEOSn/0wiIiKg7dDuUYr8lhl/7mHxtqP4+Xjx1tC2ClpERETOosDFHXJ2FDmZ37LuwElemrcVgKevbU6zyGAXD0xERKRiU+DiDrlboYsfuKSkZ/HQ52vIslsMaBnJsM4lK+8vIiJyMVPg4g65S0XRxTrcsiyenLOR/cfTqB0ayIs3tVLCrYiISAEUuLjDiTO7ioq5VPRl7EG+W3cYby8bbwxpS0iQ+gmJiIgURIGLq50+ARlJ5nIxujnvTEhh4rebABh7dRPa13N++7SIiMilQoGLq+Vsha5Uo8By/WdLz7IzZuYaTmfZ6d4ojAevaFgGAxQREam4FLi4mhNboV+Yu4WtcSmEVfZjyuDWeKkJooiISKEUuLhaMbtCz9sYxyd/mWNfu60NNaoEuHtkIiIiFZ4CF1crxlbogyfS+OdX6wC4/4oGXNEkvAwGJiIiUvEpcHG1IrZCZ9sdPDxrLcnp2bSOCuWxvk3LbmwiIiIVnAIXVytiqWjqgh3E7jtBFX8f3ry9Lb7e+k8gIiJSXPrUdCWHI68zdAFLRUt3JjJt8U4AJt0UQ93qhe86EhERkfwUuLjSqXiwZ4DNG4Lr5Lsp8VQGD89ei2XBkE5RDGpdy0ODFBERqbgUuLhSTn5LSG3wzuvq7HBYPPblOo6mZNC4RmWevraFhwYoIiJSsSlwcaUL5Ld88MceFm87ir+PF28NbUegn7cHBiciIlLxKXBxpQK2Qq87cJKX5m0F4OlBzWkaWcUDAxMREbk4KHBxpZylotBoAE5lZPPQ52vIdlgMjIlkaKeiexeJiIjIhSlwcaUT+Wu4LNwSz/7jadQMCWDyTa2w2VTSX0REpDQUuLjSOX2KEpIzAOhUvxohgb6eGpWIiMhFQ4GLq9izIPmQuXwmOTcx1QQu1Sv5e2pUIiIiFxUFLq6SdAAsB/gEQuUaABw/lQlA9cp+nhyZiIjIRUOBi6vkboWuC2dyWY6lmsAlTIGLiIiISyhwcZUCtkIfO6WlIhEREVdS4OIqJ88vPpeopSIRERGXUuDiKudshbYsi2NnknPDKmvGRURExBUUuLjKOVuh0zLtpGc5AKhWSTMuIiIirlCiwGXatGlER0cTEBBA586dWbFiRaHHT506laZNmxIYGEhUVBSPPvoo6enpubdPnjyZjh07UqVKFWrUqMENN9zAtm3bSjI0zzmnT9GxM8tEAb5eBKk3kYiIiEs4HbjMnj2bsWPHMnHiRFavXk3r1q3p168fCQkJBR4/c+ZMxo0bx8SJE9myZQsffPABs2fP5oknnsg9ZsmSJYwePZq//vqLX375haysLPr27UtqamrJn1lZyjgFaYnmctXza7ioYq6IiIhr+Dh7hylTpjBy5EhGjBgBwPTp05k7dy4zZsxg3Lhx5x2/dOlSunXrxtChQwGIjo5myJAhLF++PPeYefPm5bvPRx99RI0aNYiNjaVnz57ODrHsndxvfgeEQkAIkFfDRVuhRUREXMepGZfMzExiY2Pp06dP3gm8vOjTpw/Lli0r8D5du3YlNjY2dzlp9+7d/PjjjwwcOPCCj5OUlARAtWrVLnhMRkYGycnJ+X485pz8FiA3Mbe6EnNFRERcxqkZl8TEROx2OxEREfmuj4iIYOvWrQXeZ+jQoSQmJtK9e3csyyI7O5sHHngg31LR2RwOB4888gjdunWjZcuWFxzL5MmTefbZZ50Zvvvk1HApaCu0EnNFRERcxu27ihYvXsykSZN4++23Wb16Nd988w1z587l+eefL/D40aNHs3HjRmbNmlXoecePH09SUlLuz4EDB9wx/OI5UcCMS24NF824iIiIuIpTMy5hYWF4e3sTHx+f7/r4+HgiIyMLvM+ECRO48847ue+++wCIiYkhNTWVUaNG8eSTT+LllRc7jRkzhh9++IHffvuNOnXqFDoWf39//P3LSVBwMn8NFzhrqUgzLiIiIi7j1IyLn58f7du3Z+HChbnXORwOFi5cSJcuXQq8T1paWr7gBMDb22wPtiwr9/eYMWOYM2cOv/76K/Xr13fqSXhc7lbo6NyrjqlqroiIiMs5vato7Nix3H333XTo0IFOnToxdepUUlNTc3cZ3XXXXdSuXZvJkycDMGjQIKZMmULbtm3p3LkzO3fuZMKECQwaNCg3gBk9ejQzZ87k22+/pUqVKsTFxQEQEhJCYGCgq56re1hWgcm5iaeUnCsiIuJqTgcugwcP5ujRozz99NPExcXRpk0b5s2bl5uwu3///nwzLE899RQ2m42nnnqKQ4cOER4ezqBBg3jhhRdyj3nnnXcA6NWrV77H+vDDDxk+fHgJnlYZSjsOmafM5ZCo3KuPpyo5V0RExNVsVs56TQWXnJxMSEgISUlJBAcHl90DH4qF966CKjXhH2ZnlcNh0eSpn8h2WPw1vjeRIQFlNx4REZEKxNnPb/UqKq0CtkInp2eR7TDxoPoUiYiIuI4Cl9IqYCt0Tg2X4AAf/Hz0EouIiLiKPlVLq6Ct0ErMFRERcQsFLqV1TldogGNKzBUREXELBS6lVVCfotwZFwUuIiIirqTApTQcdjh5ptVAQX2KtFQkIiLiUgpcSiPlCDiywMsXgmvlXp1TwyVMS0UiIiIupcClNHK2QofUAS/v3Ktz+xRpxkVERMSlFLiURgFboeHspSLNuIiIiLiSApfSOHn+jiLIS85V8TkRERHXUuBSGifOr+ECeduhw7RUJCIi4lIKXEqjgK3QWXYHJ9OyANVxERERcTUFLqWRW3wuOu+qM7MtXjYIDVLgIiIi4koKXEoqK91sh4b8xefOBC7VKvnh7WXzxMhEREQuWgpcSirpAGCBbyUIqp579bGcHUWVlN8iIiLiagpcSursrdC2vJmVvBouWiYSERFxNQUuJXVyr/kdeqEaLppxERERcTUFLiV1geJzuQ0WtaNIRETE5RS4lNTJC9Rwyc1xUeAiIiLiagpcSurEBarmqk+RiIiI2yhwKakCis9B3nZoJeeKiIi4ngKXkkhPgtMnzOXz+hTllPtX4CIiIuJqClxKImeZKKg6+FfOd1Necq6WikRERFxNgUtJXKAr9OlMO6mZdkBLRSIiIu6gwKUkLrQV+kxirp+3F5X9fcp6VCIiIhc9BS4lUdRW6Mp+2GzqUyQiIuJqClxKosit0FomEhERcQcFLiVxga3QiWqwKCIi4lYKXJxlWReccTmuGi4iIiJupcDFWacSIPs0YIOQqHw35WyFDlPVXBEREbdQ4OKsnGWi4Nrgk39mRX2KRERE3EuBi7MusBUaIPHMUlE1BS4iIiJuocDFWSf3mt+h5wcuWioSERFxLwUuzjpRcA0XyF/HRURERFxPgYuzLrAV2rKss+q4aMZFRETEHRS4OOsCW6FTMrLJsluAknNFRETcRYGLM+zZkHTQXD63T9GZZaLK/j4E+HqX9chEREQuCQpcnJF8ECw7ePtD5ch8N+Uk5iq/RURExH0UuDgjd5koCrzyv3Q55f61FVpERMR9FLg442TB+S1wVoNF9SkSERFxGwUuzijGVugwLRWJiIi4jQIXZ1xgKzQox0VERKQsKHBxxgW2QkNeuX8tFYmIiLiPAhdnnNhrfhcw43JcVXNFRETcToFLcWWmQWqCuVxIcq76FImIiLiPApfiOrnf/PYPhsCq5918TNuhRURE3E6BS3GdvRXaZst3k91hcTxNS0UiIiLupsCluE5ceEfRibRMLNOmiGpBClxERETcRYFLcZ0suoZL1SBffLz1koqIiLiLPmWLK2dHUUGJubk1XJSYKyIi4k4KXIqrkKWiY7k1XLRMJCIi4k4KXIrDsgrvU3RKW6FFRETKggKX4jh9AjKSzeXQuufdnDvjoh1FIiIibqXApThyZlsq1QC/oPNuTlQNFxERkTJRosBl2rRpREdHExAQQOfOnVmxYkWhx0+dOpWmTZsSGBhIVFQUjz76KOnp6aU6Z5kqJL8FlJwrIiJSVpwOXGbPns3YsWOZOHEiq1evpnXr1vTr14+EhIQCj585cybjxo1j4sSJbNmyhQ8++IDZs2fzxBNPlPicZa6QrdCQt1QUphkXERERt3I6cJkyZQojR45kxIgRNG/enOnTpxMUFMSMGTMKPH7p0qV069aNoUOHEh0dTd++fRkyZEi+GRVnz1nmCukKDZpxERERKStOBS6ZmZnExsbSp0+fvBN4edGnTx+WLVtW4H26du1KbGxsbqCye/dufvzxRwYOHFjicwJkZGSQnJyc78dtCukKDXkF6JScKyIi4l4+zhycmJiI3W4nIiIi3/URERFs3bq1wPsMHTqUxMREunfvjmVZZGdn88ADD+QuFZXknACTJ0/m2WefdWb4JVfIVuiMbDspGdkAhFXSjIuIiIg7uX1X0eLFi5k0aRJvv/02q1ev5ptvvmHu3Lk8//zzpTrv+PHjSUpKyv05cOCAi0Z8DocjrzN0ATMux8/kt/h42QgOdCoOFBERESc59UkbFhaGt7c38fHx+a6Pj48nMjKywPtMmDCBO++8k/vuuw+AmJgYUlNTGTVqFE8++WSJzgng7++Pv38ZzHCcigN7Jti8IbjOeTcfO2srtO2crtEiIiLiWk7NuPj5+dG+fXsWLlyYe53D4WDhwoV06dKlwPukpaXh5ZX/Yby9vQGwLKtE5yxTOYm5IbXB+/w4L1GJuSIiImXG6bWNsWPHcvfdd9OhQwc6derE1KlTSU1NZcSIEQDcdddd1K5dm8mTJwMwaNAgpkyZQtu2bencuTM7d+5kwoQJDBo0KDeAKeqcHlVIfgvkzbiEKTFXRETE7ZwOXAYPHszRo0d5+umniYuLo02bNsybNy83uXb//v35ZlieeuopbDYbTz31FIcOHSI8PJxBgwbxwgsvFPucHnWiqBouZ2ZcVMNFRETE7WyWZVmeHoQrJCcnExISQlJSEsHBwa478ZwHYd1MuOop6Pn4eTdP/nEL//ltN/d2r8+Ea5u77nFFREQuAc5+fqtXUVFyl4qiC7xZDRZFRETKjgKXohSzT5FquIiIiLifCo8UxrKgdlsICCmyT5E6Q4uIiLifApfC2Gww+NNCD1G5fxERkbKjpaJSsCwrt45LmOq4iIiIuJ0Cl1JIzbSTke0ANOMiIiJSFhS4lEJOYm6grzdBflp1ExERcTcFLqWgrdAiIiJlS4FLKeQl5iq/RUREpCwocCmFnKUilfsXEREpGwpcSiF3qUiBi4iISJlQ4FIKOVuhtVQkIiJSNhS4lEJOjkuYknNFRETKhAKXUjiWmjPjosBFRESkLChwKYXcXUVqsCgiIlImFLiUguq4iIiIlC0FLiXkcFgcT83JcdGMi4iISFlQ4FJCSaezsDssAKoGacZFRESkLChwKaGcxNzgAB/8fPQyioiIlAV94pZQ4iktE4mIiJQ1BS4llNenSMtEIiIiZUWBSwnl1nDRVmgREZEyo8ClhDTjIiIiUvYUuJRQXtVczbiIiIiUFQUuJZRXNVczLiIiImVFgUsJaalIRESk7ClwKaFEJeeKiIiUOQUuJXQst46LZlxERETKigKXEsjMdpB0OgtQcq6IiEhZUuBSAifSzGyLlw1CA309PBoREZFLhwKXEshZJqpWyR8vL5uHRyMiInLpUOBSAnlVc5XfIiIiUpYUuJSAtkKLiIh4hgKXEkg8paq5IiIinqDApQSOpapqroiIiCcocCmBY2dmXFTDRUREpGwpcCmBvBwXLRWJiIiUJQUuJaClIhEREc9Q4FICuduhtVQkIiJSphS4lEDuUpEaLIqIiJQpBS5OSsvMJi3TDmjGRUREpKwpcHFSzmyLn48Xlf19PDwaERGRS4sCFyflJOaGVfLDZlOfIhERkbKkwMVJx1Q1V0RExGMUuDgpdyu08ltERETKnAIXJ+XkuFRTDRcREZEyp8DFSXnl/rVUJCIiUtYUuDhJVXNFREQ8R4GLkxKVnCsiIuIxClyclNdgUTMuIiIiZU2Bi5Ny+hSFqdy/iIhImVPg4gTLsjiu7dAiIiIeo8DFCcnp2WTZLUDboUVERDxBgYsTcrZCV/b3IcDX28OjERERufSUKHCZNm0a0dHRBAQE0LlzZ1asWHHBY3v16oXNZjvv55prrsk95tSpU4wZM4Y6deoQGBhI8+bNmT59ekmG5laqmisiIuJZTgcus2fPZuzYsUycOJHVq1fTunVr+vXrR0JCQoHHf/PNNxw5ciT3Z+PGjXh7e3PrrbfmHjN27FjmzZvHp59+ypYtW3jkkUcYM2YM3333XcmfmRvk9inSMpGIiIhHOB24TJkyhZEjRzJixIjcmZGgoCBmzJhR4PHVqlUjMjIy9+eXX34hKCgoX+CydOlS7r77bnr16kV0dDSjRo2idevWhc7keEJi7lZo7SgSERHxBKcCl8zMTGJjY+nTp0/eCby86NOnD8uWLSvWOT744ANuv/12KlWqlHtd165d+e677zh06BCWZbFo0SK2b99O3759L3iejIwMkpOT8/24W04NlzAtFYmIiHiEU4FLYmIidrudiIiIfNdHREQQFxdX5P1XrFjBxo0bue+++/Jd/+abb9K8eXPq1KmDn58f/fv3Z9q0afTs2fOC55o8eTIhISG5P1FRUc48lRLJqeFSXTVcREREPKJMdxV98MEHxMTE0KlTp3zXv/nmm/z111989913xMbG8tprrzF69GgWLFhwwXONHz+epKSk3J8DBw64e/hKzhUREfEwH2cODgsLw9vbm/j4+HzXx8fHExkZWeh9U1NTmTVrFs8991y+60+fPs0TTzzBnDlzcncatWrVirVr1/Lqq6/mW5Y6m7+/P/7+ZTvzkZOcqxouIiIinuHUjIufnx/t27dn4cKFudc5HA4WLlxIly5dCr3vl19+SUZGBnfccUe+67OyssjKysLLK/9QvL29cTgczgzP7fJyXLRUJCIi4glOzbiA2bp8991306FDBzp16sTUqVNJTU1lxIgRANx1113Url2byZMn57vfBx98wA033ED16tXzXR8cHMwVV1zB448/TmBgIPXq1WPJkiX897//ZcqUKaV4aq6npSIRERHPcjpwGTx4MEePHuXpp58mLi6ONm3aMG/evNyE3f379583e7Jt2zb++OMPfv755wLPOWvWLMaPH8+wYcM4fvw49erV44UXXuCBBx4owVNyj2y7gxNpZwIXJeeKiIh4hM2yLMvTg3CF5ORkQkJCSEpKIjg42OXnP5qSQccXFmCzwY5/D8DHW90SRERESsvZz299+hZTzlboqkF+ClpEREQ8RJ/AxZSTmKty/yIiIp6jwKWYchJztRVaRETEcxS4FFNODRdthRYREfEcBS7FlLtUpK3QIiIiHqPApZjUp0hERMTzFLgUU6JmXERERDxOgUsx5eW4KHARERHxFAUuxZRX7l9LRSIiIp6iwKWYjp/SdmgRERFPU+BSDOlZdlIysgEIU3KuiIiIxyhwKYbjZ5aJfLxsBAc63ZdSREREXESBSzGcXcPFZrN5eDQiIiKXLgUuxZCoGi4iIiLlggKXYlDVXBERkfJBgUsxqE+RiIhI+aDApRiOqzO0iIhIuaDApRhU7l9ERKR8UOBSDDkNFlXDRURExLMUuBSDknNFRETKBwUuxZCTnKs+RSIiIp6lwKUIlmWRmNNgUcm5IiIiHqXApQinMrLJzHYAWioSERHxNAUuRcjJbwny8ybIT32KREREPEmBSxGOqYaLiIhIuaHApQhKzBURESk/FLgUIWfGJUwzLiIiIh6nwKUIeTMuClxEREQ8TYFLEfLK/WupSERExNMUuBThmGq4iIiIlBsKXIqQs1QUphkXERERj1PgUoTj2g4tIiJSbihwKUKiGiyKiIiUGyoFW4RRPeuTkJxBrZBATw9FRETkkqfApQijejb09BBERETkDC0ViYiISIWhwEVEREQqDAUuIiIiUmEocBEREZEKQ4GLiIiIVBgKXERERKTCUOAiIiIiFYYCFxEREakwFLiIiIhIhaHARURERCoMBS4iIiJSYShwERERkQpDgYuIiIhUGBdNd2jLsgBITk728EhERESkuHI+t3M+x4ty0QQuKSkpAERFRXl4JCIiIuKslJQUQkJCijzOZhU3xCnnHA4Hhw8fpkqVKthsNpedNzk5maioKA4cOEBwcLDLznux0+tWMnrdnKfXrGT0upWMXreSKex1syyLlJQUatWqhZdX0RksF82Mi5eXF3Xq1HHb+YODg/UmLQG9biWj1815es1KRq9byeh1K5kLvW7FmWnJoeRcERERqTAUuIiIiEiFocClCP7+/kycOBF/f39PD6VC0etWMnrdnKfXrGT0upWMXreSceXrdtEk54qIiMjFTzMuIiIiUmEocBEREZEKQ4GLiIiIVBgKXERERKTCUOBShGnTphEdHU1AQACdO3dmxYoVnh5SufbMM89gs9ny/TRr1szTwypXfvvtNwYNGkStWrWw2Wz873//y3e7ZVk8/fTT1KxZk8DAQPr06cOOHTs8M9hypKjXbfjw4ee99/r37++ZwZYTkydPpmPHjlSpUoUaNWpwww03sG3btnzHpKenM3r0aKpXr07lypW5+eabiY+P99CIy4fivG69evU67/32wAMPeGjE5cM777xDq1atcovMdenShZ9++in3dle91xS4FGL27NmMHTuWiRMnsnr1alq3bk2/fv1ISEjw9NDKtRYtWnDkyJHcnz/++MPTQypXUlNTad26NdOmTSvw9pdffpk33niD6dOns3z5cipVqkS/fv1IT08v45GWL0W9bgD9+/fP9977/PPPy3CE5c+SJUsYPXo0f/31F7/88gtZWVn07duX1NTU3GMeffRRvv/+e7788kuWLFnC4cOHuemmmzw4as8rzusGMHLkyHzvt5dfftlDIy4f6tSpw4svvkhsbCyrVq3iqquu4vrrr2fTpk2AC99rllxQp06drNGjR+f+2263W7Vq1bImT57swVGVbxMnTrRat27t6WFUGIA1Z86c3H87HA4rMjLSeuWVV3KvO3nypOXv7299/vnnHhhh+XTu62ZZlnX33Xdb119/vUfGU1EkJCRYgLVkyRLLssx7y9fX1/ryyy9zj9myZYsFWMuWLfPUMMudc183y7KsK664wnr44Yc9N6gKomrVqtb777/v0veaZlwuIDMzk9jYWPr06ZN7nZeXF3369GHZsmUeHFn5t2PHDmrVqkWDBg0YNmwY+/fv9/SQKow9e/YQFxeX730XEhJC586d9b4rhsWLF1OjRg2aNm3Kgw8+yLFjxzw9pHIlKSkJgGrVqgEQGxtLVlZWvvdbs2bNqFu3rt5vZzn3dcvx2WefERYWRsuWLRk/fjxpaWmeGF65ZLfbmTVrFqmpqXTp0sWl77WLpsmiqyUmJmK324mIiMh3fUREBFu3bvXQqMq/zp0789FHH9G0aVOOHDnCs88+S48ePdi4cSNVqlTx9PDKvbi4OIAC33c5t0nB+vfvz0033UT9+vXZtWsXTzzxBAMGDGDZsmV4e3t7enge53A4eOSRR+jWrRstW7YEzPvNz8+P0NDQfMfq/ZanoNcNYOjQodSrV49atWqxfv16/vWvf7Ft2za++eYbD47W8zZs2ECXLl1IT0+ncuXKzJkzh+bNm7N27VqXvdcUuIhLDRgwIPdyq1at6Ny5M/Xq1eOLL77g3nvv9eDI5GJ3++23516OiYmhVatWNGzYkMWLF9O7d28Pjqx8GD16NBs3blTOmZMu9LqNGjUq93JMTAw1a9akd+/e7Nq1i4YNG5b1MMuNpk2bsnbtWpKSkvjqq6+4++67WbJkiUsfQ0tFFxAWFoa3t/d5Gc/x8fFERkZ6aFQVT2hoKE2aNGHnzp2eHkqFkPPe0vuu9Bo0aEBYWJjee8CYMWP44YcfWLRoEXXq1Mm9PjIykszMTE6ePJnveL3fjAu9bgXp3LkzwCX/fvPz86NRo0a0b9+eyZMn07p1a15//XWXvtcUuFyAn58f7du3Z+HChbnXORwOFi5cSJcuXTw4sorl1KlT7Nq1i5o1a3p6KBVC/fr1iYyMzPe+S05OZvny5XrfOengwYMcO3bskn7vWZbFmDFjmDNnDr/++iv169fPd3v79u3x9fXN937btm0b+/fvv6Tfb0W9bgVZu3YtwCX9fiuIw+EgIyPDte811+YPX1xmzZpl+fv7Wx999JG1efNma9SoUVZoaKgVFxfn6aGVW//4xz+sxYsXW3v27LH+/PNPq0+fPlZYWJiVkJDg6aGVGykpKdaaNWusNWvWWIA1ZcoUa82aNda+ffssy7KsF1980QoNDbW+/fZba/369db1119v1a9f3zp9+rSHR+5Zhb1uKSkp1mOPPWYtW7bM2rNnj7VgwQKrXbt2VuPGja309HRPD91jHnzwQSskJMRavHixdeTIkdyftLS03GMeeOABq27dutavv/5qrVq1yurSpYvVpUsXD47a84p63Xbu3Gk999xz1qpVq6w9e/ZY3377rdWgQQOrZ8+eHh65Z40bN85asmSJtWfPHmv9+vXWuHHjLJvNZv3888+WZbnuvabApQhvvvmmVbduXcvPz8/q1KmT9ddff3l6SOXa4MGDrZo1a1p+fn5W7dq1rcGDB1s7d+709LDKlUWLFlnAeT933323ZVlmS/SECROsiIgIy9/f3+rdu7e1bds2zw66HCjsdUtLS7P69u1rhYeHW76+vla9evWskSNHXvJfMgp6vQDrww8/zD3m9OnT1t/+9jeratWqVlBQkHXjjTdaR44c8dygy4GiXrf9+/dbPXv2tKpVq2b5+/tbjRo1sh5//HErKSnJswP3sHvuuceqV6+e5efnZ4WHh1u9e/fODVosy3XvNZtlWVYJZ4BEREREypRyXERERKTCUOAiIiIiFYYCFxEREakwFLiIiIhIhaHARURERCoMBS4iIiJSYShwERERkQpDgYuIiIhUGApcREREpMJQ4CIiIiIVhgIXERERqTAUuIiIiEiF8f8psBkUIZW8ZQAAAABJRU5ErkJggg==\n"
          },
          "metadata": {}
        }
      ]
    },
    {
      "cell_type": "code",
      "source": [
        "# 평가 시 gradient 계산 비활성화\n",
        "with torch.no_grad():\n",
        "    model.eval()  # 평가 모드로 전환 (계산 비활성화)\n",
        "    train_acc = accuracy(model, train_loader)\n",
        "    test_acc = accuracy(model, test_loader)\n",
        "\n",
        "    print(f\"=========> Train acc: {train_acc:.3f} | Test acc: {test_acc:.3f}\")\n"
      ],
      "metadata": {
        "colab": {
          "base_uri": "https://localhost:8080/"
        },
        "id": "aol54ZtwphT0",
        "outputId": "9c2d8a93-9748-4d9f-8114-c81da78096d4"
      },
      "execution_count": 9,
      "outputs": [
        {
          "output_type": "stream",
          "name": "stdout",
          "text": [
            "=========> Train acc: 0.864 | Test acc: 0.855\n"
          ]
        }
      ]
    }
  ]
}
